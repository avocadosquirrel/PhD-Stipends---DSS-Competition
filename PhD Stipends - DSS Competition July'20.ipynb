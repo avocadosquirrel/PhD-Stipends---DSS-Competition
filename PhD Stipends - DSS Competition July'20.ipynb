{
 "cells": [
  {
   "cell_type": "code",
   "execution_count": 1,
   "metadata": {},
   "outputs": [],
   "source": [
    "import pandas as pd\n",
    "import numpy as np\n",
    "\n",
    "%matplotlib inline"
   ]
  },
  {
   "cell_type": "code",
   "execution_count": 2,
   "metadata": {},
   "outputs": [],
   "source": [
    "import matplotlib.pyplot as plt\n",
    "import seaborn as sns\n",
    "import copy\n",
    "import scipy.stats as stats"
   ]
  },
  {
   "cell_type": "code",
   "execution_count": 3,
   "metadata": {},
   "outputs": [
    {
     "name": "stdout",
     "output_type": "stream",
     "text": [
      "\n",
      "The following command must be run outside of the IPython shell:\n",
      "\n",
      "    $ pip install feature_engine\n",
      "\n",
      "The Python package manager (pip) can only be used from outside of IPython.\n",
      "Please reissue the `pip` command in a separate terminal or command prompt.\n",
      "\n",
      "See the Python documentation for more information on how to install packages:\n",
      "\n",
      "    https://docs.python.org/3/installing/\n"
     ]
    }
   ],
   "source": [
    "pip install feature_engine"
   ]
  },
  {
   "cell_type": "code",
   "execution_count": 4,
   "metadata": {},
   "outputs": [
    {
     "ename": "ModuleNotFoundError",
     "evalue": "No module named 'feature_engine'",
     "output_type": "error",
     "traceback": [
      "\u001b[1;31m---------------------------------------------------------------------------\u001b[0m",
      "\u001b[1;31mModuleNotFoundError\u001b[0m                       Traceback (most recent call last)",
      "\u001b[1;32m<ipython-input-4-8775b9cb74b8>\u001b[0m in \u001b[0;36m<module>\u001b[1;34m\u001b[0m\n\u001b[1;32m----> 1\u001b[1;33m \u001b[1;32mimport\u001b[0m \u001b[0mfeature_engine\u001b[0m\u001b[1;33m\u001b[0m\u001b[1;33m\u001b[0m\u001b[0m\n\u001b[0m",
      "\u001b[1;31mModuleNotFoundError\u001b[0m: No module named 'feature_engine'"
     ]
    }
   ],
   "source": [
    "import feature_engine"
   ]
  },
  {
   "cell_type": "code",
   "execution_count": null,
   "metadata": {},
   "outputs": [],
   "source": []
  },
  {
   "cell_type": "code",
   "execution_count": 24,
   "metadata": {},
   "outputs": [],
   "source": [
    "stip = pd.read_csv(\"csv\")"
   ]
  },
  {
   "cell_type": "code",
   "execution_count": 25,
   "metadata": {},
   "outputs": [],
   "source": [
    "# EXTERNAL KNOWLEDGE USED FOR INTERPRETATION\n",
    "\n",
    "# from http://www.phdstipends.com/results :\n",
    "# The living wage ratio (LW ratio) normalizes each gross pay entry to the local living wage. \n",
    "# The purpose is to allow you to quickly compare the pay received by students at universities in different cost-of-living areas. "
   ]
  },
  {
   "cell_type": "code",
   "execution_count": null,
   "metadata": {},
   "outputs": [],
   "source": []
  },
  {
   "cell_type": "code",
   "execution_count": 26,
   "metadata": {},
   "outputs": [],
   "source": [
    "pd.set_option('display.max_columns', None)  \n",
    "pd.set_option('display.expand_frame_repr', False)\n",
    "pd.set_option('max_colwidth', -1)"
   ]
  },
  {
   "cell_type": "code",
   "execution_count": 27,
   "metadata": {},
   "outputs": [
    {
     "data": {
      "text/html": [
       "<div>\n",
       "<style scoped>\n",
       "    .dataframe tbody tr th:only-of-type {\n",
       "        vertical-align: middle;\n",
       "    }\n",
       "\n",
       "    .dataframe tbody tr th {\n",
       "        vertical-align: top;\n",
       "    }\n",
       "\n",
       "    .dataframe thead th {\n",
       "        text-align: right;\n",
       "    }\n",
       "</style>\n",
       "<table border=\"1\" class=\"dataframe\">\n",
       "  <thead>\n",
       "    <tr style=\"text-align: right;\">\n",
       "      <th></th>\n",
       "      <th>University</th>\n",
       "      <th>Department</th>\n",
       "      <th>Overall Pay</th>\n",
       "      <th>LW Ratio</th>\n",
       "      <th>Academic Year</th>\n",
       "      <th>Program Year</th>\n",
       "      <th>12 M Gross Pay</th>\n",
       "      <th>9 M Gross Pay</th>\n",
       "      <th>3 M Gross Pay</th>\n",
       "      <th>Fees</th>\n",
       "      <th>Comments</th>\n",
       "    </tr>\n",
       "  </thead>\n",
       "  <tbody>\n",
       "    <tr>\n",
       "      <th>0</th>\n",
       "      <td>University of Tennessee - Knoxville</td>\n",
       "      <td>Economics</td>\n",
       "      <td>$1,850</td>\n",
       "      <td>0.09</td>\n",
       "      <td>2020-2021</td>\n",
       "      <td>1st</td>\n",
       "      <td>NaN</td>\n",
       "      <td>$1,850</td>\n",
       "      <td>NaN</td>\n",
       "      <td>NaN</td>\n",
       "      <td>NaN</td>\n",
       "    </tr>\n",
       "    <tr>\n",
       "      <th>1</th>\n",
       "      <td>University of Arizona (U of A)</td>\n",
       "      <td>Economics</td>\n",
       "      <td>$21,000</td>\n",
       "      <td>1.01</td>\n",
       "      <td>2020-2021</td>\n",
       "      <td>1st</td>\n",
       "      <td>NaN</td>\n",
       "      <td>$21,000</td>\n",
       "      <td>NaN</td>\n",
       "      <td>NaN</td>\n",
       "      <td>$10500 per semester. RA/TA required. Need to pay ~$600 per semester.</td>\n",
       "    </tr>\n",
       "    <tr>\n",
       "      <th>2</th>\n",
       "      <td>University of Arizona (U of A)</td>\n",
       "      <td>Economics</td>\n",
       "      <td>$19,800</td>\n",
       "      <td>0.96</td>\n",
       "      <td>2020-2021</td>\n",
       "      <td>1st</td>\n",
       "      <td>NaN</td>\n",
       "      <td>$21,000</td>\n",
       "      <td>NaN</td>\n",
       "      <td>$1,200</td>\n",
       "      <td>NaN</td>\n",
       "    </tr>\n",
       "    <tr>\n",
       "      <th>3</th>\n",
       "      <td>University of Florida</td>\n",
       "      <td>ECE</td>\n",
       "      <td>$22,600</td>\n",
       "      <td>NaN</td>\n",
       "      <td>2020-2021</td>\n",
       "      <td>1st</td>\n",
       "      <td>$24,000</td>\n",
       "      <td>NaN</td>\n",
       "      <td>NaN</td>\n",
       "      <td>$1,400</td>\n",
       "      <td>NaN</td>\n",
       "    </tr>\n",
       "    <tr>\n",
       "      <th>4</th>\n",
       "      <td>University of Virginia (UVA)</td>\n",
       "      <td>ECE</td>\n",
       "      <td>$26,000</td>\n",
       "      <td>1.14</td>\n",
       "      <td>2020-2021</td>\n",
       "      <td>1st</td>\n",
       "      <td>$26,000</td>\n",
       "      <td>NaN</td>\n",
       "      <td>NaN</td>\n",
       "      <td>NaN</td>\n",
       "      <td>NaN</td>\n",
       "    </tr>\n",
       "  </tbody>\n",
       "</table>\n",
       "</div>"
      ],
      "text/plain": [
       "                            University  Department Overall Pay  LW Ratio Academic Year Program Year 12 M Gross Pay 9 M Gross Pay 3 M Gross Pay    Fees                                                              Comments\n",
       "0  University of Tennessee - Knoxville  Economics   $1,850      0.09      2020-2021     1st          NaN            $1,850        NaN           NaN     NaN                                                                 \n",
       "1  University of Arizona (U of A)       Economics   $21,000     1.01      2020-2021     1st          NaN            $21,000       NaN           NaN     $10500 per semester. RA/TA required. Need to pay ~$600 per semester.\n",
       "2  University of Arizona (U of A)       Economics   $19,800     0.96      2020-2021     1st          NaN            $21,000       NaN           $1,200  NaN                                                                 \n",
       "3  University of Florida                ECE         $22,600    NaN        2020-2021     1st          $24,000        NaN           NaN           $1,400  NaN                                                                 \n",
       "4  University of Virginia (UVA)         ECE         $26,000     1.14      2020-2021     1st          $26,000        NaN           NaN           NaN     NaN                                                                 "
      ]
     },
     "execution_count": 27,
     "metadata": {},
     "output_type": "execute_result"
    }
   ],
   "source": [
    "stip.head()"
   ]
  },
  {
   "cell_type": "code",
   "execution_count": 28,
   "metadata": {},
   "outputs": [
    {
     "data": {
      "text/plain": [
       "(8707, 11)"
      ]
     },
     "execution_count": 28,
     "metadata": {},
     "output_type": "execute_result"
    }
   ],
   "source": [
    "stip.shape"
   ]
  },
  {
   "cell_type": "code",
   "execution_count": 29,
   "metadata": {},
   "outputs": [
    {
     "data": {
      "text/plain": [
       "Index(['University', 'Department', 'Overall Pay', 'LW Ratio', 'Academic Year',\n",
       "       'Program Year', '12 M Gross Pay', '9 M Gross Pay', '3 M Gross Pay',\n",
       "       'Fees', 'Comments'],\n",
       "      dtype='object')"
      ]
     },
     "execution_count": 29,
     "metadata": {},
     "output_type": "execute_result"
    }
   ],
   "source": [
    "stip.columns"
   ]
  },
  {
   "cell_type": "code",
   "execution_count": 30,
   "metadata": {},
   "outputs": [],
   "source": [
    "stip.columns = stip.columns.str.replace(' ', '_')"
   ]
  },
  {
   "cell_type": "code",
   "execution_count": 31,
   "metadata": {},
   "outputs": [
    {
     "data": {
      "text/plain": [
       "Index(['University', 'Department', 'Overall_Pay', 'LW_Ratio', 'Academic_Year',\n",
       "       'Program_Year', '12_M_Gross_Pay', '9_M_Gross_Pay', '3_M_Gross_Pay',\n",
       "       'Fees', 'Comments'],\n",
       "      dtype='object')"
      ]
     },
     "execution_count": 31,
     "metadata": {},
     "output_type": "execute_result"
    }
   ],
   "source": [
    "stip.columns          # stip.columns.values will yield an exactly identical output this time"
   ]
  },
  {
   "cell_type": "code",
   "execution_count": 164,
   "metadata": {},
   "outputs": [
    {
     "name": "stdout",
     "output_type": "stream",
     "text": [
      "<class 'pandas.core.frame.DataFrame'>\n",
      "Int64Index: 8706 entries, 0 to 8706\n",
      "Data columns (total 18 columns):\n",
      "University         8443 non-null object\n",
      "Department         8246 non-null object\n",
      "Overall_Pay        8685 non-null object\n",
      "LW_Ratio           7795 non-null float64\n",
      "Academic_Year      8702 non-null object\n",
      "Program_Year       7686 non-null object\n",
      "12_M_Gross_Pay     6208 non-null object\n",
      "9_M_Gross_Pay      2474 non-null object\n",
      "3_M_Gross_Pay      798 non-null object\n",
      "Fees               3351 non-null object\n",
      "Comments           2155 non-null object\n",
      "Acad_Y             8702 non-null Int64\n",
      "Overall_Pay_num    8685 non-null Int64\n",
      "GrossPay_12M       6208 non-null Int64\n",
      "GrossPay_9M        2474 non-null Int64\n",
      "GrossPay_3M        798 non-null Int64\n",
      "Fees_num           3351 non-null Int64\n",
      "Dep_DR             8246 non-null object\n",
      "dtypes: Int64(6), float64(1), object(11)\n",
      "memory usage: 1.6+ MB\n"
     ]
    }
   ],
   "source": [
    "stip.info(verbose=True)   # should overall pay be an object ??? probably not!? LW_Ratio is the only numeric var !!?"
   ]
  },
  {
   "cell_type": "code",
   "execution_count": 33,
   "metadata": {},
   "outputs": [
    {
     "data": {
      "text/plain": [
       "University        263 \n",
       "Department        460 \n",
       "Overall_Pay       21  \n",
       "LW_Ratio          911 \n",
       "Academic_Year     4   \n",
       "Program_Year      1020\n",
       "12_M_Gross_Pay    2498\n",
       "9_M_Gross_Pay     6233\n",
       "3_M_Gross_Pay     7909\n",
       "Fees              5355\n",
       "Comments          6552\n",
       "dtype: int64"
      ]
     },
     "execution_count": 33,
     "metadata": {},
     "output_type": "execute_result"
    }
   ],
   "source": [
    "stip.isna().sum(axis = 0)"
   ]
  },
  {
   "cell_type": "code",
   "execution_count": 34,
   "metadata": {},
   "outputs": [
    {
     "data": {
      "image/png": "[encoded data removed]",
      "text/plain": [
       "<Figure size 1080x360 with 2 Axes>"
      ]
     },
     "metadata": {
      "needs_background": "light"
     },
     "output_type": "display_data"
    }
   ],
   "source": [
    "plt.figure(figsize=(15,5))\n",
    "sns.heatmap(stip.notna())\n",
    "plt.show()"
   ]
  },
  {
   "cell_type": "code",
   "execution_count": 35,
   "metadata": {},
   "outputs": [
    {
     "data": {
      "text/plain": [
       "<matplotlib.axes._subplots.AxesSubplot at 0x236d1b1a048>"
      ]
     },
     "execution_count": 35,
     "metadata": {},
     "output_type": "execute_result"
    },
    {
     "data": {
      "image/png": "[encoded data removed]",
      "text/plain": [
       "<Figure size 2520x720 with 1 Axes>"
      ]
     },
     "metadata": {
      "needs_background": "light"
     },
     "output_type": "display_data"
    }
   ],
   "source": [
    "stip.isnull().sum().sort_values(ascending=False).plot(kind='bar', figsize=(35,10), logy=False)"
   ]
  },
  {
   "cell_type": "code",
   "execution_count": null,
   "metadata": {},
   "outputs": [],
   "source": []
  },
  {
   "cell_type": "code",
   "execution_count": 36,
   "metadata": {},
   "outputs": [
    {
     "name": "stdout",
     "output_type": "stream",
     "text": [
      "---- University ---\n",
      "NaN                                                 263\n",
      "Duke University (DU)                                172\n",
      "University of North Carolina - Chapel Hill (UNC)    146\n",
      "University of California - Berkeley                 140\n",
      "University of Michigan - Ann Arbor (UM)             135\n",
      "                                                   ... \n",
      "Aarhus University                                   1  \n",
      "Creighton University (CU)                           1  \n",
      "UC Davis                                            1  \n",
      "DePaul University                                   1  \n",
      "Eastern Virginia Medical School                     1  \n",
      "Name: University, Length: 693, dtype: int64\n",
      "---- Department ---\n",
      "NaN                                          460\n",
      "Chemistry                                    335\n",
      "English                                      237\n",
      "Psychology                                   212\n",
      "Sociology                                    209\n",
      "                                            ... \n",
      "Pharmacy Practice/Pharmaceutical Sciences    1  \n",
      "DBBS                                         1  \n",
      "Dev and cell                                 1  \n",
      "Graduate Program (Biology & Chemistry)       1  \n",
      "Earth and planetary science                  1  \n",
      "Name: Department, Length: 2472, dtype: int64\n",
      "---- Overall_Pay ---\n",
      "$30,000    330\n",
      "$25,000    220\n",
      "$24,000    217\n",
      "$20,000    181\n",
      "$27,000    170\n",
      "          ... \n",
      "$21,930    1  \n",
      "$37,680    1  \n",
      "$16,004    1  \n",
      "$23,535    1  \n",
      "$28,987    1  \n",
      "Name: Overall_Pay, Length: 2601, dtype: int64\n",
      "---- LW_Ratio ---\n",
      "NaN      911\n",
      "1.31     148\n",
      "1.24     142\n",
      "1.22     119\n",
      "1.18     117\n",
      "        ... \n",
      "0.23     1  \n",
      "2.26     1  \n",
      "2.19     1  \n",
      "4.32     1  \n",
      "11.99    1  \n",
      "Name: LW_Ratio, Length: 305, dtype: int64\n",
      "---- Academic_Year ---\n",
      "2016-2017    2198\n",
      "2018-2019    1911\n",
      "2019-2020    1369\n",
      "2017-2018    1197\n",
      "2020-2021    767 \n",
      "2014-2015    556 \n",
      "2015-2016    427 \n",
      "2013-2014    97  \n",
      "2011-2012    41  \n",
      "2012-2013    41  \n",
      "2010-2011    27  \n",
      "2007-2008    16  \n",
      "2006-2007    14  \n",
      "2009-2010    14  \n",
      "2008-2009    8   \n",
      "2002-2003    6   \n",
      "2005-2006    5   \n",
      "2003-2004    4   \n",
      "NaN          4   \n",
      "2004-2005    3   \n",
      "2021-2022    2   \n",
      "Name: Academic_Year, dtype: int64\n",
      "---- Program_Year ---\n",
      "1st           4368\n",
      "2nd           1071\n",
      "NaN           1020\n",
      "3rd           841 \n",
      "4th           660 \n",
      "5th           504 \n",
      "6th and up    243 \n",
      "Name: Program_Year, dtype: int64\n",
      "---- 12_M_Gross_Pay ---\n",
      "NaN        2498\n",
      "$30,000    418 \n",
      "$25,000    312 \n",
      "$24,000    274 \n",
      "$32,000    207 \n",
      "          ...  \n",
      "$24,331    1   \n",
      "$22,880    1   \n",
      "$2,683     1   \n",
      "$22,815    1   \n",
      "$64,500    1   \n",
      "Name: 12_M_Gross_Pay, Length: 1276, dtype: int64\n",
      "---- 9_M_Gross_Pay ---\n",
      "NaN        6233\n",
      "$18,000    168 \n",
      "$20,000    156 \n",
      "$15,000    93  \n",
      "$25,000    80  \n",
      "           ..  \n",
      "$17,565    1   \n",
      "$20,820    1   \n",
      "$28,145    1   \n",
      "$22,011    1   \n",
      "$33,964    1   \n",
      "Name: 9_M_Gross_Pay, Length: 749, dtype: int64\n",
      "---- 3_M_Gross_Pay ---\n",
      "NaN        7909\n",
      "$3,000     101 \n",
      "$4,000     98  \n",
      "$5,000     87  \n",
      "$6,000     44  \n",
      "           ..  \n",
      "$4,732     1   \n",
      "$11,917    1   \n",
      "$8,117     1   \n",
      "$8,353     1   \n",
      "$2,867     1   \n",
      "Name: 3_M_Gross_Pay, Length: 211, dtype: int64\n",
      "---- Fees ---\n",
      "NaN       5355\n",
      "$1,000    214 \n",
      "$2,000    204 \n",
      "$500      161 \n",
      "$1,200    111 \n",
      "         ...  \n",
      "$2,631    1   \n",
      "$3,475    1   \n",
      "$786      1   \n",
      "$1,097    1   \n",
      "$461      1   \n",
      "Name: Fees, Length: 770, dtype: int64\n",
      "---- Comments ---\n",
      "NaN                                                                                                                                                                                                                                                                                                                                                                                                                                                                                                                                                                                      6552\n",
      "Fellowship                                                                                                                                                                                                                                                                                                                                                                                                                                                                                                                                                                               10  \n",
      "Got paid once a month. Had to pay estimated taxes. At least health insurance was included.                                                                                                                                                                                                                                                                                                                                                                                                                                                                                               6   \n",
      "Program covers approximately 85% of health insurance costs.                                                                                                                                                                                                                                                                                                                                                                                                                                                                                                                              6   \n",
      "NSF GRFP                                                                                                                                                                                                                                                                                                                                                                                                                                                                                                                                                                                 5   \n",
      "                                                                                                                                                                                                                                                                                                                                                                                                                                                                                                                                                                                        ..   \n",
      "We have to pay 440 of tuition annually.                                                                                                                                                                                                                                                                                                                                                                                                                                                                                                                                                  1   \n",
      "First Year fees are more than double this, but I was offered a fellowship which covered their cost. Also includes full healthcare coverage through the university.                                                                                                                                                                                                                                                                                                                                                                                                                       1   \n",
      "An additional relocation fee of 3000$ was given in the first year.                                                                                                                                                                                                                                                                                                                                                                                                                                                                                                                       1   \n",
      "The SUNY Universities have a graduate student employee union which is a large part of the reason that our stipend is higher than many others. However, this is the minimum stipend for individuals working in academic departments only, which means that graduate students working in program offices have a lower minimum stipend. Living on this pay in the Albany area is much easier than in some of the other SUNY cities, especially Stony Brook, but I still live relatively pay check to pay check and any unexpected large expenses like a car problem really hit me hard.     1   \n",
      "Health insurance is $50 month but does not include dental. Dental is $130 a month. This is not worth it unless you have a number of dental issues because a cleaning is $125 and the insurance include 2 cleanings a year.                                                                                                                                                                                                                                                                                                                                                               1   \n",
      "Name: Comments, Length: 2039, dtype: int64\n"
     ]
    }
   ],
   "source": [
    "# Overall pay should probably be recoded to value ranges - remove the $ in a first step and save as integers!?\n",
    "# Academic Year: extract the start year and recode to numeric! 2021-2022? \n",
    "# ... why not ... these students just already know the size of their stipend as well as of their fees ...\n",
    "# create meaningful groups to get rid of the values occurring only once!? (College of Charleston: € Universities!?)\n",
    "# relationship between 3/9/12M gross pays? recode to numeric after removing the $ sign!\n",
    "# comments: of any relevance!?! -> probably: just forget about them!? ev helpful to explain low salaries?!?? ;)\n",
    "\n",
    "for var in stip.columns:\n",
    "    print(\"---- %s ---\" % var)\n",
    "    print(stip[var].value_counts(dropna=False))"
   ]
  },
  {
   "cell_type": "code",
   "execution_count": null,
   "metadata": {},
   "outputs": [],
   "source": []
  },
  {
   "cell_type": "code",
   "execution_count": 37,
   "metadata": {},
   "outputs": [],
   "source": [
    "stip['Acad_Y'] = stip.Academic_Year.str.slice(0, 4)"
   ]
  },
  {
   "cell_type": "code",
   "execution_count": 38,
   "metadata": {},
   "outputs": [
    {
     "data": {
      "text/plain": [
       "count     8703\n",
       "unique    20  \n",
       "top       2016\n",
       "freq      2198\n",
       "Name: Acad_Y, dtype: object"
      ]
     },
     "execution_count": 38,
     "metadata": {},
     "output_type": "execute_result"
    }
   ],
   "source": [
    "stip['Acad_Y'].describe()"
   ]
  },
  {
   "cell_type": "code",
   "execution_count": 39,
   "metadata": {},
   "outputs": [],
   "source": [
    "stip.Acad_Y = pd.to_numeric(stip.Acad_Y)\n",
    "stip.Acad_Y = stip.Acad_Y.astype('Int64')"
   ]
  },
  {
   "cell_type": "code",
   "execution_count": 40,
   "metadata": {},
   "outputs": [
    {
     "data": {
      "text/plain": [
       "count    8703.000000\n",
       "mean     2017.053660\n",
       "std      2.055927   \n",
       "min      2002.000000\n",
       "25%      2016.000000\n",
       "50%      2017.000000\n",
       "75%      2018.000000\n",
       "max      2021.000000\n",
       "Name: Acad_Y, dtype: float64"
      ]
     },
     "execution_count": 40,
     "metadata": {},
     "output_type": "execute_result"
    }
   ],
   "source": [
    "stip['Acad_Y'].describe()"
   ]
  },
  {
   "cell_type": "code",
   "execution_count": 41,
   "metadata": {},
   "outputs": [
    {
     "name": "stderr",
     "output_type": "stream",
     "text": [
      "C:\\Users\\Diana Roccaro\\AppData\\Roaming\\Python\\Python37\\site-packages\\numpy\\lib\\histograms.py:839: RuntimeWarning: invalid value encountered in greater_equal\n",
      "  keep = (tmp_a >= first_edge)\n",
      "C:\\Users\\Diana Roccaro\\AppData\\Roaming\\Python\\Python37\\site-packages\\numpy\\lib\\histograms.py:840: RuntimeWarning: invalid value encountered in less_equal\n",
      "  keep &= (tmp_a <= last_edge)\n"
     ]
    },
    {
     "data": {
      "text/plain": [
       "(array([6.000e+00, 4.000e+00, 3.000e+00, 5.000e+00, 1.400e+01, 1.600e+01,\n",
       "        8.000e+00, 1.400e+01, 2.700e+01, 4.100e+01, 0.000e+00, 4.100e+01,\n",
       "        9.700e+01, 5.560e+02, 4.270e+02, 2.198e+03, 1.197e+03, 1.911e+03,\n",
       "        1.369e+03, 7.670e+02, 2.000e+00]),\n",
       " array([2002.0, 2002.904761904762, 2003.8095238095239, 2004.7142857142858,\n",
       "        2005.6190476190477, 2006.5238095238096, 2007.4285714285713,\n",
       "        2008.3333333333333, 2009.2380952380952, 2010.142857142857,\n",
       "        2011.047619047619, 2011.952380952381, 2012.857142857143,\n",
       "        2013.7619047619048, 2014.6666666666667, 2015.5714285714287,\n",
       "        2016.4761904761904, 2017.3809523809523, 2018.2857142857142,\n",
       "        2019.1904761904761, 2020.095238095238, 2021.0], dtype=object),\n",
       " <a list of 21 Patch objects>)"
      ]
     },
     "execution_count": 41,
     "metadata": {},
     "output_type": "execute_result"
    },
    {
     "data": {
      "image/png": "[encoded data removed]",
      "text/plain": [
       "<Figure size 432x288 with 1 Axes>"
      ]
     },
     "metadata": {
      "needs_background": "light"
     },
     "output_type": "display_data"
    }
   ],
   "source": [
    "# -> EXCLUDE THE YEAR WITHOUT ANY OBSERVATIONS?!?!?\n",
    "# my bins are not too perfect yet ;) ... note however: there seems to be a year completely lacking observations!!!\n",
    "\n",
    "plt.hist(stip.Acad_Y, log=True, bins=21) # -> log scale would be nicer -> much better :)"
   ]
  },
  {
   "cell_type": "code",
   "execution_count": null,
   "metadata": {},
   "outputs": [],
   "source": []
  },
  {
   "cell_type": "code",
   "execution_count": null,
   "metadata": {},
   "outputs": [],
   "source": []
  },
  {
   "cell_type": "code",
   "execution_count": null,
   "metadata": {},
   "outputs": [],
   "source": []
  },
  {
   "cell_type": "code",
   "execution_count": 42,
   "metadata": {},
   "outputs": [],
   "source": [
    "# stip['Overall_Pay_2'] = stip['Overall_Pay'].str.slice(1, -1)\n",
    "# bad idea!\n",
    "# I lost some unique values by cutting off by position! try to remove the $ sign instead!!"
   ]
  },
  {
   "cell_type": "code",
   "execution_count": null,
   "metadata": {},
   "outputs": [],
   "source": []
  },
  {
   "cell_type": "code",
   "execution_count": 43,
   "metadata": {},
   "outputs": [
    {
     "data": {
      "text/plain": [
       "count     8686   \n",
       "unique    2600   \n",
       "top       $30,000\n",
       "freq      330    \n",
       "Name: Overall_Pay, dtype: object"
      ]
     },
     "execution_count": 43,
     "metadata": {},
     "output_type": "execute_result"
    }
   ],
   "source": [
    "stip.Overall_Pay.describe()"
   ]
  },
  {
   "cell_type": "code",
   "execution_count": null,
   "metadata": {},
   "outputs": [],
   "source": []
  },
  {
   "cell_type": "code",
   "execution_count": 44,
   "metadata": {},
   "outputs": [],
   "source": [
    "stip['Overall_Pay_num'] = stip.Overall_Pay.str.replace('$', '')"
   ]
  },
  {
   "cell_type": "code",
   "execution_count": 45,
   "metadata": {
    "scrolled": true
   },
   "outputs": [
    {
     "data": {
      "text/plain": [
       "count     8686  \n",
       "unique    2600  \n",
       "top       30,000\n",
       "freq      330   \n",
       "Name: Overall_Pay_num, dtype: object"
      ]
     },
     "execution_count": 45,
     "metadata": {},
     "output_type": "execute_result"
    }
   ],
   "source": [
    "stip.Overall_Pay_num.describe() # looks much better :) -> convert to numeric now!"
   ]
  },
  {
   "cell_type": "code",
   "execution_count": 46,
   "metadata": {},
   "outputs": [],
   "source": [
    "# also commas were not interpretable ... -> remove them as well:\n",
    "\n",
    "stip['Overall_Pay_num'] = stip.Overall_Pay_num.str.replace(',', '')"
   ]
  },
  {
   "cell_type": "code",
   "execution_count": 47,
   "metadata": {},
   "outputs": [
    {
     "data": {
      "text/plain": [
       "count     8686 \n",
       "unique    2600 \n",
       "top       30000\n",
       "freq      330  \n",
       "Name: Overall_Pay_num, dtype: object"
      ]
     },
     "execution_count": 47,
     "metadata": {},
     "output_type": "execute_result"
    }
   ],
   "source": [
    "stip.Overall_Pay_num.describe()"
   ]
  },
  {
   "cell_type": "code",
   "execution_count": 48,
   "metadata": {},
   "outputs": [
    {
     "data": {
      "text/plain": [
       "30000     330\n",
       "25000     220\n",
       "24000     217\n",
       "20000     181\n",
       "27000     170\n",
       "         ... \n",
       "13482     1  \n",
       "26312     1  \n",
       "-29000    1  \n",
       "23540     1  \n",
       "19280     1  \n",
       "Name: Overall_Pay_num, Length: 2601, dtype: int64"
      ]
     },
     "execution_count": 48,
     "metadata": {},
     "output_type": "execute_result"
    }
   ],
   "source": [
    "stip.Overall_Pay_num.value_counts(dropna=False)"
   ]
  },
  {
   "cell_type": "code",
   "execution_count": 49,
   "metadata": {},
   "outputs": [],
   "source": [
    "stip['Overall_Pay_num'] = pd.to_numeric(stip.Overall_Pay_num)"
   ]
  },
  {
   "cell_type": "code",
   "execution_count": 50,
   "metadata": {},
   "outputs": [
    {
     "data": {
      "text/plain": [
       "count    8686.000000  \n",
       "mean     25124.187313 \n",
       "std      21644.907925 \n",
       "min     -900000.000000\n",
       "25%      19035.500000 \n",
       "50%      25000.000000 \n",
       "75%      30400.000000 \n",
       "max      994000.000000\n",
       "Name: Overall_Pay_num, dtype: float64"
      ]
     },
     "execution_count": 50,
     "metadata": {},
     "output_type": "execute_result"
    }
   ],
   "source": [
    "stip.Overall_Pay_num.describe()"
   ]
  },
  {
   "cell_type": "code",
   "execution_count": 51,
   "metadata": {},
   "outputs": [
    {
     "data": {
      "text/plain": [
       "30000.0    330\n",
       "25000.0    220\n",
       "24000.0    217\n",
       "20000.0    181\n",
       "27000.0    170\n",
       "          ... \n",
       "28470.0    1  \n",
       "18058.0    1  \n",
       "25412.0    1  \n",
       "43692.0    1  \n",
       "35280.0    1  \n",
       "Name: Overall_Pay_num, Length: 2600, dtype: int64"
      ]
     },
     "execution_count": 51,
     "metadata": {},
     "output_type": "execute_result"
    }
   ],
   "source": [
    "# doublecheck, whether e.g. the 10 most frequent values of the original variable match those of my recoded one!! ;)\n",
    "\n",
    "stip.Overall_Pay_num.value_counts().sort_values(ascending=False)       #.plot.bar()"
   ]
  },
  {
   "cell_type": "code",
   "execution_count": 52,
   "metadata": {},
   "outputs": [],
   "source": [
    "stip.Overall_Pay_num = stip.Overall_Pay_num.astype('Int64')"
   ]
  },
  {
   "cell_type": "code",
   "execution_count": 53,
   "metadata": {},
   "outputs": [
    {
     "data": {
      "text/plain": [
       "numpy.int64"
      ]
     },
     "execution_count": 53,
     "metadata": {},
     "output_type": "execute_result"
    }
   ],
   "source": [
    "type(stip['Overall_Pay_num'][0])"
   ]
  },
  {
   "cell_type": "code",
   "execution_count": 54,
   "metadata": {},
   "outputs": [
    {
     "ename": "AttributeError",
     "evalue": "'Series' object has no attribute 'histogram'",
     "output_type": "error",
     "traceback": [
      "\u001b[1;31m---------------------------------------------------------------------------\u001b[0m",
      "\u001b[1;31mAttributeError\u001b[0m                            Traceback (most recent call last)",
      "\u001b[1;32m<ipython-input-54-5451fc97ad93>\u001b[0m in \u001b[0;36m<module>\u001b[1;34m\u001b[0m\n\u001b[1;32m----> 1\u001b[1;33m \u001b[0mstip\u001b[0m\u001b[1;33m.\u001b[0m\u001b[0mOverall_Pay_num\u001b[0m\u001b[1;33m.\u001b[0m\u001b[0mhistogram\u001b[0m\u001b[1;33m(\u001b[0m\u001b[1;33m)\u001b[0m\u001b[1;33m\u001b[0m\u001b[1;33m\u001b[0m\u001b[0m\n\u001b[0m",
      "\u001b[1;32m~\\AppData\\Roaming\\Python\\Python37\\site-packages\\pandas\\core\\generic.py\u001b[0m in \u001b[0;36m__getattr__\u001b[1;34m(self, name)\u001b[0m\n\u001b[0;32m   5177\u001b[0m             \u001b[1;32mif\u001b[0m \u001b[0mself\u001b[0m\u001b[1;33m.\u001b[0m\u001b[0m_info_axis\u001b[0m\u001b[1;33m.\u001b[0m\u001b[0m_can_hold_identifiers_and_holds_name\u001b[0m\u001b[1;33m(\u001b[0m\u001b[0mname\u001b[0m\u001b[1;33m)\u001b[0m\u001b[1;33m:\u001b[0m\u001b[1;33m\u001b[0m\u001b[1;33m\u001b[0m\u001b[0m\n\u001b[0;32m   5178\u001b[0m                 \u001b[1;32mreturn\u001b[0m \u001b[0mself\u001b[0m\u001b[1;33m[\u001b[0m\u001b[0mname\u001b[0m\u001b[1;33m]\u001b[0m\u001b[1;33m\u001b[0m\u001b[1;33m\u001b[0m\u001b[0m\n\u001b[1;32m-> 5179\u001b[1;33m             \u001b[1;32mreturn\u001b[0m \u001b[0mobject\u001b[0m\u001b[1;33m.\u001b[0m\u001b[0m__getattribute__\u001b[0m\u001b[1;33m(\u001b[0m\u001b[0mself\u001b[0m\u001b[1;33m,\u001b[0m \u001b[0mname\u001b[0m\u001b[1;33m)\u001b[0m\u001b[1;33m\u001b[0m\u001b[1;33m\u001b[0m\u001b[0m\n\u001b[0m\u001b[0;32m   5180\u001b[0m \u001b[1;33m\u001b[0m\u001b[0m\n\u001b[0;32m   5181\u001b[0m     \u001b[1;32mdef\u001b[0m \u001b[0m__setattr__\u001b[0m\u001b[1;33m(\u001b[0m\u001b[0mself\u001b[0m\u001b[1;33m,\u001b[0m \u001b[0mname\u001b[0m\u001b[1;33m,\u001b[0m \u001b[0mvalue\u001b[0m\u001b[1;33m)\u001b[0m\u001b[1;33m:\u001b[0m\u001b[1;33m\u001b[0m\u001b[1;33m\u001b[0m\u001b[0m\n",
      "\u001b[1;31mAttributeError\u001b[0m: 'Series' object has no attribute 'histogram'"
     ]
    }
   ],
   "source": [
    "stip.Overall_Pay_num.histogram()"
   ]
  },
  {
   "cell_type": "code",
   "execution_count": 55,
   "metadata": {},
   "outputs": [
    {
     "data": {
      "text/plain": [
       "<pandas.plotting._core.PlotAccessor object at 0x00000236D230F240>"
      ]
     },
     "execution_count": 55,
     "metadata": {},
     "output_type": "execute_result"
    }
   ],
   "source": [
    "stip.Overall_Pay_num.plot   #(type='hist')"
   ]
  },
  {
   "cell_type": "code",
   "execution_count": 56,
   "metadata": {},
   "outputs": [
    {
     "ename": "NameError",
     "evalue": "name 'plot' is not defined",
     "output_type": "error",
     "traceback": [
      "\u001b[1;31m---------------------------------------------------------------------------\u001b[0m",
      "\u001b[1;31mNameError\u001b[0m                                 Traceback (most recent call last)",
      "\u001b[1;32m<ipython-input-56-feb57bb140b2>\u001b[0m in \u001b[0;36m<module>\u001b[1;34m\u001b[0m\n\u001b[1;32m----> 1\u001b[1;33m \u001b[0mplot\u001b[0m\u001b[1;33m(\u001b[0m\u001b[0mstip\u001b[0m\u001b[1;33m.\u001b[0m\u001b[0mOverall_Pay_num\u001b[0m\u001b[1;33m)\u001b[0m\u001b[1;33m\u001b[0m\u001b[1;33m\u001b[0m\u001b[0m\n\u001b[0m",
      "\u001b[1;31mNameError\u001b[0m: name 'plot' is not defined"
     ]
    }
   ],
   "source": [
    "plot(stip.Overall_Pay_num)"
   ]
  },
  {
   "cell_type": "code",
   "execution_count": 57,
   "metadata": {},
   "outputs": [
    {
     "data": {
      "text/plain": [
       "<IntegerArray>\n",
       "[  1850,  21000,  19800,  22600,  26000,  27333,  35000,  18500,  32851,\n",
       "  33500,\n",
       " ...\n",
       "  23034,  29804,  18058,  14842,  28083, 220000,  21212,  22061,  33360,\n",
       "  29840]\n",
       "Length: 2601, dtype: Int64"
      ]
     },
     "execution_count": 57,
     "metadata": {},
     "output_type": "execute_result"
    }
   ],
   "source": [
    "stip.Overall_Pay_num.unique()"
   ]
  },
  {
   "cell_type": "code",
   "execution_count": 58,
   "metadata": {},
   "outputs": [
    {
     "data": {
      "text/plain": [
       "2600"
      ]
     },
     "execution_count": 58,
     "metadata": {},
     "output_type": "execute_result"
    }
   ],
   "source": [
    "stip.Overall_Pay_num.nunique()"
   ]
  },
  {
   "cell_type": "code",
   "execution_count": 59,
   "metadata": {},
   "outputs": [
    {
     "data": {
      "text/plain": [
       "(array([1.000e+00, 0.000e+00, 0.000e+00, 0.000e+00, 8.578e+03, 9.500e+01,\n",
       "        9.000e+00, 2.000e+00, 0.000e+00, 1.000e+00]),\n",
       " array([-900000.0, -710600.0, -521200.0, -331800.0, -142400.0, 47000.0,\n",
       "        236400.0, 425800.0, 615200.0, 804600.0, 994000.0], dtype=object),\n",
       " <a list of 10 Patch objects>)"
      ]
     },
     "execution_count": 59,
     "metadata": {},
     "output_type": "execute_result"
    },
    {
     "data": {
      "image/png": "[encoded data removed]",
      "text/plain": [
       "<Figure size 432x288 with 1 Axes>"
      ]
     },
     "metadata": {
      "needs_background": "light"
     },
     "output_type": "display_data"
    }
   ],
   "source": [
    "plt.hist(stip.Overall_Pay_num) # -> there seem to be crazy min & max values... !?"
   ]
  },
  {
   "cell_type": "code",
   "execution_count": 60,
   "metadata": {},
   "outputs": [
    {
     "data": {
      "text/html": [
       "<div>\n",
       "<style scoped>\n",
       "    .dataframe tbody tr th:only-of-type {\n",
       "        vertical-align: middle;\n",
       "    }\n",
       "\n",
       "    .dataframe tbody tr th {\n",
       "        vertical-align: top;\n",
       "    }\n",
       "\n",
       "    .dataframe thead th {\n",
       "        text-align: right;\n",
       "    }\n",
       "</style>\n",
       "<table border=\"1\" class=\"dataframe\">\n",
       "  <thead>\n",
       "    <tr style=\"text-align: right;\">\n",
       "      <th></th>\n",
       "      <th>LW_Ratio</th>\n",
       "      <th>Acad_Y</th>\n",
       "      <th>Overall_Pay_num</th>\n",
       "    </tr>\n",
       "  </thead>\n",
       "  <tbody>\n",
       "    <tr>\n",
       "      <th>count</th>\n",
       "      <td>7796.000000</td>\n",
       "      <td>8703.000000</td>\n",
       "      <td>8686.000000</td>\n",
       "    </tr>\n",
       "    <tr>\n",
       "      <th>mean</th>\n",
       "      <td>1.075777</td>\n",
       "      <td>2017.053660</td>\n",
       "      <td>25124.187313</td>\n",
       "    </tr>\n",
       "    <tr>\n",
       "      <th>std</th>\n",
       "      <td>0.828874</td>\n",
       "      <td>2.055927</td>\n",
       "      <td>21644.907925</td>\n",
       "    </tr>\n",
       "    <tr>\n",
       "      <th>min</th>\n",
       "      <td>-34.010000</td>\n",
       "      <td>2002.000000</td>\n",
       "      <td>-900000.000000</td>\n",
       "    </tr>\n",
       "    <tr>\n",
       "      <th>25%</th>\n",
       "      <td>0.850000</td>\n",
       "      <td>2016.000000</td>\n",
       "      <td>19035.500000</td>\n",
       "    </tr>\n",
       "    <tr>\n",
       "      <th>50%</th>\n",
       "      <td>1.100000</td>\n",
       "      <td>2017.000000</td>\n",
       "      <td>25000.000000</td>\n",
       "    </tr>\n",
       "    <tr>\n",
       "      <th>75%</th>\n",
       "      <td>1.300000</td>\n",
       "      <td>2018.000000</td>\n",
       "      <td>30400.000000</td>\n",
       "    </tr>\n",
       "    <tr>\n",
       "      <th>max</th>\n",
       "      <td>40.970000</td>\n",
       "      <td>2021.000000</td>\n",
       "      <td>994000.000000</td>\n",
       "    </tr>\n",
       "  </tbody>\n",
       "</table>\n",
       "</div>"
      ],
      "text/plain": [
       "          LW_Ratio       Acad_Y  Overall_Pay_num\n",
       "count  7796.000000  8703.000000  8686.000000    \n",
       "mean   1.075777     2017.053660  25124.187313   \n",
       "std    0.828874     2.055927     21644.907925   \n",
       "min   -34.010000    2002.000000 -900000.000000  \n",
       "25%    0.850000     2016.000000  19035.500000   \n",
       "50%    1.100000     2017.000000  25000.000000   \n",
       "75%    1.300000     2018.000000  30400.000000   \n",
       "max    40.970000    2021.000000  994000.000000  "
      ]
     },
     "execution_count": 60,
     "metadata": {},
     "output_type": "execute_result"
    }
   ],
   "source": [
    "stip.describe() # -> look at the -900'000 line -> comment helpful? what to do about this guy?\n",
    "\n",
    "# -> fees = $1,000,000 for this guy ... -> overall pay = 12_M_Gross_Pay - Fees ;) ... ..."
   ]
  },
  {
   "cell_type": "code",
   "execution_count": 61,
   "metadata": {},
   "outputs": [],
   "source": [
    "crazy = stip.loc[stip['Overall_Pay_num']==-900000.000000]"
   ]
  },
  {
   "cell_type": "code",
   "execution_count": 62,
   "metadata": {},
   "outputs": [
    {
     "data": {
      "text/html": [
       "<div>\n",
       "<style scoped>\n",
       "    .dataframe tbody tr th:only-of-type {\n",
       "        vertical-align: middle;\n",
       "    }\n",
       "\n",
       "    .dataframe tbody tr th {\n",
       "        vertical-align: top;\n",
       "    }\n",
       "\n",
       "    .dataframe thead th {\n",
       "        text-align: right;\n",
       "    }\n",
       "</style>\n",
       "<table border=\"1\" class=\"dataframe\">\n",
       "  <thead>\n",
       "    <tr style=\"text-align: right;\">\n",
       "      <th></th>\n",
       "      <th>University</th>\n",
       "      <th>Department</th>\n",
       "      <th>Overall_Pay</th>\n",
       "      <th>LW_Ratio</th>\n",
       "      <th>Academic_Year</th>\n",
       "      <th>Program_Year</th>\n",
       "      <th>12_M_Gross_Pay</th>\n",
       "      <th>9_M_Gross_Pay</th>\n",
       "      <th>3_M_Gross_Pay</th>\n",
       "      <th>Fees</th>\n",
       "      <th>Comments</th>\n",
       "      <th>Acad_Y</th>\n",
       "      <th>Overall_Pay_num</th>\n",
       "    </tr>\n",
       "  </thead>\n",
       "  <tbody>\n",
       "    <tr>\n",
       "      <th>3350</th>\n",
       "      <td>University of California - San Diego (UCSD)</td>\n",
       "      <td>Information Technology</td>\n",
       "      <td>$-900,000</td>\n",
       "      <td>-34.01</td>\n",
       "      <td>2018-2019</td>\n",
       "      <td>2nd</td>\n",
       "      <td>$100,000</td>\n",
       "      <td>NaN</td>\n",
       "      <td>NaN</td>\n",
       "      <td>$1,000,000</td>\n",
       "      <td>NaN</td>\n",
       "      <td>2018</td>\n",
       "      <td>-900000</td>\n",
       "    </tr>\n",
       "  </tbody>\n",
       "</table>\n",
       "</div>"
      ],
      "text/plain": [
       "                                       University              Department Overall_Pay  LW_Ratio Academic_Year Program_Year 12_M_Gross_Pay 9_M_Gross_Pay 3_M_Gross_Pay        Fees Comments  Acad_Y  Overall_Pay_num\n",
       "3350  University of California - San Diego (UCSD)  Information Technology  $-900,000  -34.01     2018-2019     2nd          $100,000       NaN           NaN           $1,000,000  NaN      2018    -900000        "
      ]
     },
     "execution_count": 62,
     "metadata": {},
     "output_type": "execute_result"
    }
   ],
   "source": [
    "crazy"
   ]
  },
  {
   "cell_type": "raw",
   "metadata": {},
   "source": []
  },
  {
   "cell_type": "code",
   "execution_count": 63,
   "metadata": {},
   "outputs": [
    {
     "data": {
      "text/plain": [
       "74"
      ]
     },
     "execution_count": 63,
     "metadata": {},
     "output_type": "execute_result"
    }
   ],
   "source": [
    "# Overall Pay kann durchaus negative Werte annehmen: wenn die Semestergebühren höher sind als das Einkommen ...\n",
    "\n",
    "neg = stip.loc[stip['Overall_Pay_num']<0]\n",
    "len(neg)"
   ]
  },
  {
   "cell_type": "code",
   "execution_count": 64,
   "metadata": {},
   "outputs": [
    {
     "data": {
      "text/html": [
       "<div>\n",
       "<style scoped>\n",
       "    .dataframe tbody tr th:only-of-type {\n",
       "        vertical-align: middle;\n",
       "    }\n",
       "\n",
       "    .dataframe tbody tr th {\n",
       "        vertical-align: top;\n",
       "    }\n",
       "\n",
       "    .dataframe thead th {\n",
       "        text-align: right;\n",
       "    }\n",
       "</style>\n",
       "<table border=\"1\" class=\"dataframe\">\n",
       "  <thead>\n",
       "    <tr style=\"text-align: right;\">\n",
       "      <th></th>\n",
       "      <th>University</th>\n",
       "      <th>Department</th>\n",
       "      <th>Overall_Pay</th>\n",
       "      <th>LW_Ratio</th>\n",
       "      <th>Academic_Year</th>\n",
       "      <th>Program_Year</th>\n",
       "      <th>12_M_Gross_Pay</th>\n",
       "      <th>9_M_Gross_Pay</th>\n",
       "      <th>3_M_Gross_Pay</th>\n",
       "      <th>Fees</th>\n",
       "      <th>Comments</th>\n",
       "      <th>Acad_Y</th>\n",
       "      <th>Overall_Pay_num</th>\n",
       "    </tr>\n",
       "  </thead>\n",
       "  <tbody>\n",
       "    <tr>\n",
       "      <th>226</th>\n",
       "      <td>DePaul University</td>\n",
       "      <td>School of Computing</td>\n",
       "      <td>$-4,600</td>\n",
       "      <td>NaN</td>\n",
       "      <td>2020-2021</td>\n",
       "      <td>1st</td>\n",
       "      <td>NaN</td>\n",
       "      <td>$2,200</td>\n",
       "      <td>NaN</td>\n",
       "      <td>$6,800</td>\n",
       "      <td>NaN</td>\n",
       "      <td>2020</td>\n",
       "      <td>-4600</td>\n",
       "    </tr>\n",
       "    <tr>\n",
       "      <th>231</th>\n",
       "      <td>Northcentral University</td>\n",
       "      <td>Education</td>\n",
       "      <td>$-250</td>\n",
       "      <td>-0.01</td>\n",
       "      <td>2020-2021</td>\n",
       "      <td>3rd</td>\n",
       "      <td>NaN</td>\n",
       "      <td>NaN</td>\n",
       "      <td>NaN</td>\n",
       "      <td>$250</td>\n",
       "      <td>NaN</td>\n",
       "      <td>2020</td>\n",
       "      <td>-250</td>\n",
       "    </tr>\n",
       "    <tr>\n",
       "      <th>270</th>\n",
       "      <td>Texas Tech University (TTU)</td>\n",
       "      <td>Mechanical</td>\n",
       "      <td>$-29,000</td>\n",
       "      <td>-1.43</td>\n",
       "      <td>2020-2021</td>\n",
       "      <td>NaN</td>\n",
       "      <td>NaN</td>\n",
       "      <td>NaN</td>\n",
       "      <td>NaN</td>\n",
       "      <td>$29,000</td>\n",
       "      <td>NaN</td>\n",
       "      <td>2020</td>\n",
       "      <td>-29000</td>\n",
       "    </tr>\n",
       "    <tr>\n",
       "      <th>304</th>\n",
       "      <td>Carnegie Mellon University (CMU)</td>\n",
       "      <td>Neuroscience</td>\n",
       "      <td>$-14,378</td>\n",
       "      <td>-0.69</td>\n",
       "      <td>2020-2021</td>\n",
       "      <td>1st</td>\n",
       "      <td>$33,204</td>\n",
       "      <td>NaN</td>\n",
       "      <td>NaN</td>\n",
       "      <td>$47,582</td>\n",
       "      <td>NaN</td>\n",
       "      <td>2020</td>\n",
       "      <td>-14378</td>\n",
       "    </tr>\n",
       "    <tr>\n",
       "      <th>305</th>\n",
       "      <td>University of Pennsylvania</td>\n",
       "      <td>Mechanical Engineering</td>\n",
       "      <td>$-6,743</td>\n",
       "      <td>-0.28</td>\n",
       "      <td>2020-2021</td>\n",
       "      <td>NaN</td>\n",
       "      <td>$34,500</td>\n",
       "      <td>NaN</td>\n",
       "      <td>NaN</td>\n",
       "      <td>$41,243</td>\n",
       "      <td>NaN</td>\n",
       "      <td>2020</td>\n",
       "      <td>-6743</td>\n",
       "    </tr>\n",
       "  </tbody>\n",
       "</table>\n",
       "</div>"
      ],
      "text/plain": [
       "                           University              Department Overall_Pay  LW_Ratio Academic_Year Program_Year 12_M_Gross_Pay 9_M_Gross_Pay 3_M_Gross_Pay     Fees Comments  Acad_Y  Overall_Pay_num\n",
       "226  DePaul University                 School of Computing     $-4,600    NaN        2020-2021     1st          NaN            $2,200        NaN           $6,800   NaN      2020    -4600          \n",
       "231  Northcentral University           Education               $-250      -0.01      2020-2021     3rd          NaN            NaN           NaN           $250     NaN      2020    -250           \n",
       "270  Texas Tech University (TTU)       Mechanical              $-29,000   -1.43      2020-2021     NaN          NaN            NaN           NaN           $29,000  NaN      2020    -29000         \n",
       "304  Carnegie Mellon University (CMU)  Neuroscience            $-14,378   -0.69      2020-2021     1st          $33,204        NaN           NaN           $47,582  NaN      2020    -14378         \n",
       "305  University of Pennsylvania        Mechanical Engineering  $-6,743    -0.28      2020-2021     NaN          $34,500        NaN           NaN           $41,243  NaN      2020    -6743          "
      ]
     },
     "execution_count": 64,
     "metadata": {},
     "output_type": "execute_result"
    }
   ],
   "source": [
    "neg.head()"
   ]
  },
  {
   "cell_type": "code",
   "execution_count": 65,
   "metadata": {},
   "outputs": [
    {
     "data": {
      "text/html": [
       "<div>\n",
       "<style scoped>\n",
       "    .dataframe tbody tr th:only-of-type {\n",
       "        vertical-align: middle;\n",
       "    }\n",
       "\n",
       "    .dataframe tbody tr th {\n",
       "        vertical-align: top;\n",
       "    }\n",
       "\n",
       "    .dataframe thead th {\n",
       "        text-align: right;\n",
       "    }\n",
       "</style>\n",
       "<table border=\"1\" class=\"dataframe\">\n",
       "  <thead>\n",
       "    <tr style=\"text-align: right;\">\n",
       "      <th></th>\n",
       "      <th>University</th>\n",
       "      <th>Department</th>\n",
       "      <th>Overall_Pay</th>\n",
       "      <th>LW_Ratio</th>\n",
       "      <th>Academic_Year</th>\n",
       "      <th>Program_Year</th>\n",
       "      <th>12_M_Gross_Pay</th>\n",
       "      <th>9_M_Gross_Pay</th>\n",
       "      <th>3_M_Gross_Pay</th>\n",
       "      <th>Fees</th>\n",
       "      <th>Comments</th>\n",
       "      <th>Acad_Y</th>\n",
       "      <th>Overall_Pay_num</th>\n",
       "    </tr>\n",
       "  </thead>\n",
       "  <tbody>\n",
       "    <tr>\n",
       "      <th>226</th>\n",
       "      <td>DePaul University</td>\n",
       "      <td>School of Computing</td>\n",
       "      <td>$-4,600</td>\n",
       "      <td>NaN</td>\n",
       "      <td>2020-2021</td>\n",
       "      <td>1st</td>\n",
       "      <td>NaN</td>\n",
       "      <td>$2,200</td>\n",
       "      <td>NaN</td>\n",
       "      <td>$6,800</td>\n",
       "      <td>NaN</td>\n",
       "      <td>2020</td>\n",
       "      <td>-4600</td>\n",
       "    </tr>\n",
       "    <tr>\n",
       "      <th>231</th>\n",
       "      <td>Northcentral University</td>\n",
       "      <td>Education</td>\n",
       "      <td>$-250</td>\n",
       "      <td>-0.01</td>\n",
       "      <td>2020-2021</td>\n",
       "      <td>3rd</td>\n",
       "      <td>NaN</td>\n",
       "      <td>NaN</td>\n",
       "      <td>NaN</td>\n",
       "      <td>$250</td>\n",
       "      <td>NaN</td>\n",
       "      <td>2020</td>\n",
       "      <td>-250</td>\n",
       "    </tr>\n",
       "    <tr>\n",
       "      <th>270</th>\n",
       "      <td>Texas Tech University (TTU)</td>\n",
       "      <td>Mechanical</td>\n",
       "      <td>$-29,000</td>\n",
       "      <td>-1.43</td>\n",
       "      <td>2020-2021</td>\n",
       "      <td>NaN</td>\n",
       "      <td>NaN</td>\n",
       "      <td>NaN</td>\n",
       "      <td>NaN</td>\n",
       "      <td>$29,000</td>\n",
       "      <td>NaN</td>\n",
       "      <td>2020</td>\n",
       "      <td>-29000</td>\n",
       "    </tr>\n",
       "    <tr>\n",
       "      <th>304</th>\n",
       "      <td>Carnegie Mellon University (CMU)</td>\n",
       "      <td>Neuroscience</td>\n",
       "      <td>$-14,378</td>\n",
       "      <td>-0.69</td>\n",
       "      <td>2020-2021</td>\n",
       "      <td>1st</td>\n",
       "      <td>$33,204</td>\n",
       "      <td>NaN</td>\n",
       "      <td>NaN</td>\n",
       "      <td>$47,582</td>\n",
       "      <td>NaN</td>\n",
       "      <td>2020</td>\n",
       "      <td>-14378</td>\n",
       "    </tr>\n",
       "    <tr>\n",
       "      <th>305</th>\n",
       "      <td>University of Pennsylvania</td>\n",
       "      <td>Mechanical Engineering</td>\n",
       "      <td>$-6,743</td>\n",
       "      <td>-0.28</td>\n",
       "      <td>2020-2021</td>\n",
       "      <td>NaN</td>\n",
       "      <td>$34,500</td>\n",
       "      <td>NaN</td>\n",
       "      <td>NaN</td>\n",
       "      <td>$41,243</td>\n",
       "      <td>NaN</td>\n",
       "      <td>2020</td>\n",
       "      <td>-6743</td>\n",
       "    </tr>\n",
       "    <tr>\n",
       "      <th>...</th>\n",
       "      <td>...</td>\n",
       "      <td>...</td>\n",
       "      <td>...</td>\n",
       "      <td>...</td>\n",
       "      <td>...</td>\n",
       "      <td>...</td>\n",
       "      <td>...</td>\n",
       "      <td>...</td>\n",
       "      <td>...</td>\n",
       "      <td>...</td>\n",
       "      <td>...</td>\n",
       "      <td>...</td>\n",
       "      <td>...</td>\n",
       "    </tr>\n",
       "    <tr>\n",
       "      <th>8126</th>\n",
       "      <td>Indiana University</td>\n",
       "      <td>Economics</td>\n",
       "      <td>$-4,000</td>\n",
       "      <td>-0.23</td>\n",
       "      <td>2014-2015</td>\n",
       "      <td>1st</td>\n",
       "      <td>$1,000</td>\n",
       "      <td>NaN</td>\n",
       "      <td>NaN</td>\n",
       "      <td>$5,000</td>\n",
       "      <td>NaN</td>\n",
       "      <td>2014</td>\n",
       "      <td>-4000</td>\n",
       "    </tr>\n",
       "    <tr>\n",
       "      <th>8271</th>\n",
       "      <td>Texas A&amp;amp;M; University - College Station</td>\n",
       "      <td>Political Science</td>\n",
       "      <td>$-500</td>\n",
       "      <td>NaN</td>\n",
       "      <td>2015-2016</td>\n",
       "      <td>1st</td>\n",
       "      <td>$1,800</td>\n",
       "      <td>NaN</td>\n",
       "      <td>NaN</td>\n",
       "      <td>$2,300</td>\n",
       "      <td>NaN</td>\n",
       "      <td>2015</td>\n",
       "      <td>-500</td>\n",
       "    </tr>\n",
       "    <tr>\n",
       "      <th>8323</th>\n",
       "      <td>North Carolina State University (NCSU)</td>\n",
       "      <td>Civil Engineering</td>\n",
       "      <td>$-469</td>\n",
       "      <td>-0.02</td>\n",
       "      <td>2013-2014</td>\n",
       "      <td>4th</td>\n",
       "      <td>$1,800</td>\n",
       "      <td>NaN</td>\n",
       "      <td>NaN</td>\n",
       "      <td>$2,269</td>\n",
       "      <td>NaN</td>\n",
       "      <td>2013</td>\n",
       "      <td>-469</td>\n",
       "    </tr>\n",
       "    <tr>\n",
       "      <th>8389</th>\n",
       "      <td>NaN</td>\n",
       "      <td>NaN</td>\n",
       "      <td>$-11,800</td>\n",
       "      <td>NaN</td>\n",
       "      <td>2014-2015</td>\n",
       "      <td>NaN</td>\n",
       "      <td>$2,200</td>\n",
       "      <td>NaN</td>\n",
       "      <td>NaN</td>\n",
       "      <td>$14,000</td>\n",
       "      <td>NaN</td>\n",
       "      <td>2014</td>\n",
       "      <td>-11800</td>\n",
       "    </tr>\n",
       "    <tr>\n",
       "      <th>8440</th>\n",
       "      <td>University of Chicago (UC)</td>\n",
       "      <td>Sociology</td>\n",
       "      <td>$-3,000</td>\n",
       "      <td>-0.14</td>\n",
       "      <td>2014-2015</td>\n",
       "      <td>6th and up</td>\n",
       "      <td>NaN</td>\n",
       "      <td>NaN</td>\n",
       "      <td>NaN</td>\n",
       "      <td>$3,000</td>\n",
       "      <td>Our stipends end after the 5th year.</td>\n",
       "      <td>2014</td>\n",
       "      <td>-3000</td>\n",
       "    </tr>\n",
       "  </tbody>\n",
       "</table>\n",
       "<p>74 rows × 13 columns</p>\n",
       "</div>"
      ],
      "text/plain": [
       "                                       University              Department Overall_Pay  LW_Ratio Academic_Year Program_Year 12_M_Gross_Pay 9_M_Gross_Pay 3_M_Gross_Pay     Fees                              Comments  Acad_Y  Overall_Pay_num\n",
       "226   DePaul University                            School of Computing     $-4,600    NaN        2020-2021     1st          NaN            $2,200        NaN           $6,800   NaN                                   2020    -4600          \n",
       "231   Northcentral University                      Education               $-250      -0.01      2020-2021     3rd          NaN            NaN           NaN           $250     NaN                                   2020    -250           \n",
       "270   Texas Tech University (TTU)                  Mechanical              $-29,000   -1.43      2020-2021     NaN          NaN            NaN           NaN           $29,000  NaN                                   2020    -29000         \n",
       "304   Carnegie Mellon University (CMU)             Neuroscience            $-14,378   -0.69      2020-2021     1st          $33,204        NaN           NaN           $47,582  NaN                                   2020    -14378         \n",
       "305   University of Pennsylvania                   Mechanical Engineering  $-6,743    -0.28      2020-2021     NaN          $34,500        NaN           NaN           $41,243  NaN                                   2020    -6743          \n",
       "...                          ...                                      ...      ...      ...            ...     ...              ...        ...           ...               ...  ...                                    ...      ...          \n",
       "8126  Indiana University                           Economics               $-4,000    -0.23      2014-2015     1st          $1,000         NaN           NaN           $5,000   NaN                                   2014    -4000          \n",
       "8271  Texas A&amp;M; University - College Station  Political Science       $-500      NaN        2015-2016     1st          $1,800         NaN           NaN           $2,300   NaN                                   2015    -500           \n",
       "8323  North Carolina State University (NCSU)       Civil Engineering       $-469      -0.02      2013-2014     4th          $1,800         NaN           NaN           $2,269   NaN                                   2013    -469           \n",
       "8389  NaN                                          NaN                     $-11,800   NaN        2014-2015     NaN          $2,200         NaN           NaN           $14,000  NaN                                   2014    -11800         \n",
       "8440  University of Chicago (UC)                   Sociology               $-3,000    -0.14      2014-2015     6th and up   NaN            NaN           NaN           $3,000   Our stipends end after the 5th year.  2014    -3000          \n",
       "\n",
       "[74 rows x 13 columns]"
      ]
     },
     "execution_count": 65,
     "metadata": {},
     "output_type": "execute_result"
    }
   ],
   "source": [
    "neg\n",
    "\n",
    "# looks like they have to pay fees, they earn money (gross pay), and overall pay = gross pay - fees ? :) -> check!"
   ]
  },
  {
   "cell_type": "code",
   "execution_count": null,
   "metadata": {},
   "outputs": [],
   "source": []
  },
  {
   "cell_type": "code",
   "execution_count": 66,
   "metadata": {},
   "outputs": [
    {
     "data": {
      "text/plain": [
       "count     6209   \n",
       "unique    1275   \n",
       "top       $30,000\n",
       "freq      418    \n",
       "Name: 12_M_Gross_Pay, dtype: object"
      ]
     },
     "execution_count": 66,
     "metadata": {},
     "output_type": "execute_result"
    }
   ],
   "source": [
    "stip['12_M_Gross_Pay'].describe()"
   ]
  },
  {
   "cell_type": "code",
   "execution_count": 67,
   "metadata": {},
   "outputs": [],
   "source": [
    "stip['GrossPay_12M'] = stip['12_M_Gross_Pay'].str.replace('$', '')\n",
    "stip.GrossPay_12M = stip.GrossPay_12M.str.replace(',', '')"
   ]
  },
  {
   "cell_type": "code",
   "execution_count": 68,
   "metadata": {},
   "outputs": [
    {
     "data": {
      "text/plain": [
       "count     6209 \n",
       "unique    1275 \n",
       "top       30000\n",
       "freq      418  \n",
       "Name: GrossPay_12M, dtype: object"
      ]
     },
     "execution_count": 68,
     "metadata": {},
     "output_type": "execute_result"
    }
   ],
   "source": [
    "stip.GrossPay_12M.describe()"
   ]
  },
  {
   "cell_type": "code",
   "execution_count": 69,
   "metadata": {},
   "outputs": [],
   "source": [
    "stip.GrossPay_12M = pd.to_numeric(stip.GrossPay_12M)\n",
    "stip.GrossPay_12M = stip.GrossPay_12M.astype('Int64')"
   ]
  },
  {
   "cell_type": "code",
   "execution_count": 70,
   "metadata": {},
   "outputs": [
    {
     "data": {
      "text/plain": [
       "count    6209.000000   \n",
       "mean     28240.055403  \n",
       "std      21342.627311  \n",
       "min      1.000000      \n",
       "25%      23000.000000  \n",
       "50%      28000.000000  \n",
       "75%      32000.000000  \n",
       "max      1000000.000000\n",
       "Name: GrossPay_12M, dtype: float64"
      ]
     },
     "execution_count": 70,
     "metadata": {},
     "output_type": "execute_result"
    }
   ],
   "source": [
    "stip.GrossPay_12M.describe() # 1M guy: again rather unlikely... -> explore further!!!"
   ]
  },
  {
   "cell_type": "code",
   "execution_count": 71,
   "metadata": {},
   "outputs": [
    {
     "name": "stderr",
     "output_type": "stream",
     "text": [
      "C:\\Users\\Diana Roccaro\\AppData\\Roaming\\Python\\Python37\\site-packages\\numpy\\lib\\histograms.py:839: RuntimeWarning: invalid value encountered in greater_equal\n",
      "  keep = (tmp_a >= first_edge)\n",
      "C:\\Users\\Diana Roccaro\\AppData\\Roaming\\Python\\Python37\\site-packages\\numpy\\lib\\histograms.py:840: RuntimeWarning: invalid value encountered in less_equal\n",
      "  keep &= (tmp_a <= last_edge)\n"
     ]
    },
    {
     "data": {
      "text/plain": [
       "(array([6.188e+03, 6.000e+00, 8.000e+00, 4.000e+00, 2.000e+00, 0.000e+00,\n",
       "        0.000e+00, 0.000e+00, 0.000e+00, 1.000e+00]),\n",
       " array([1.0, 100000.9, 200000.8, 300000.69999999995, 400000.6, 500000.5,\n",
       "        600000.3999999999, 700000.2999999999, 800000.2, 900000.1,\n",
       "        1000000.0], dtype=object),\n",
       " <a list of 10 Patch objects>)"
      ]
     },
     "execution_count": 71,
     "metadata": {},
     "output_type": "execute_result"
    },
    {
     "data": {
      "image/png": "[encoded data removed]",
      "text/plain": [
       "<Figure size 432x288 with 1 Axes>"
      ]
     },
     "metadata": {
      "needs_background": "light"
     },
     "output_type": "display_data"
    }
   ],
   "source": [
    "plt.hist(stip.GrossPay_12M, log=True) # -> top value: investigate further!"
   ]
  },
  {
   "cell_type": "code",
   "execution_count": 72,
   "metadata": {},
   "outputs": [
    {
     "data": {
      "text/plain": [
       "(-999.0, 200000.8]       6199\n",
       "(200000.8, 400000.6]     8   \n",
       "(800000.2, 1000000.0]    1   \n",
       "(400000.6, 600000.4]     1   \n",
       "(600000.4, 800000.2]     0   \n",
       "Name: GrossPay_12M, dtype: int64"
      ]
     },
     "execution_count": 72,
     "metadata": {},
     "output_type": "execute_result"
    }
   ],
   "source": [
    "stip.GrossPay_12M.value_counts(bins=5) # -> cutting @40k could make sense? just remove the outlier!?"
   ]
  },
  {
   "cell_type": "code",
   "execution_count": 73,
   "metadata": {},
   "outputs": [
    {
     "data": {
      "text/html": [
       "<div>\n",
       "<style scoped>\n",
       "    .dataframe tbody tr th:only-of-type {\n",
       "        vertical-align: middle;\n",
       "    }\n",
       "\n",
       "    .dataframe tbody tr th {\n",
       "        vertical-align: top;\n",
       "    }\n",
       "\n",
       "    .dataframe thead th {\n",
       "        text-align: right;\n",
       "    }\n",
       "</style>\n",
       "<table border=\"1\" class=\"dataframe\">\n",
       "  <thead>\n",
       "    <tr style=\"text-align: right;\">\n",
       "      <th></th>\n",
       "      <th>University</th>\n",
       "      <th>Department</th>\n",
       "      <th>Overall_Pay</th>\n",
       "      <th>LW_Ratio</th>\n",
       "      <th>Academic_Year</th>\n",
       "      <th>Program_Year</th>\n",
       "      <th>12_M_Gross_Pay</th>\n",
       "      <th>9_M_Gross_Pay</th>\n",
       "      <th>3_M_Gross_Pay</th>\n",
       "      <th>Fees</th>\n",
       "      <th>Comments</th>\n",
       "      <th>Acad_Y</th>\n",
       "      <th>Overall_Pay_num</th>\n",
       "      <th>GrossPay_12M</th>\n",
       "    </tr>\n",
       "  </thead>\n",
       "  <tbody>\n",
       "    <tr>\n",
       "      <th>1734</th>\n",
       "      <td>University of Pennsylvania</td>\n",
       "      <td>NaN</td>\n",
       "      <td>$100,000</td>\n",
       "      <td>4.15</td>\n",
       "      <td>2018-2019</td>\n",
       "      <td>2nd</td>\n",
       "      <td>$100,000</td>\n",
       "      <td>NaN</td>\n",
       "      <td>NaN</td>\n",
       "      <td>NaN</td>\n",
       "      <td>NaN</td>\n",
       "      <td>2018</td>\n",
       "      <td>100000</td>\n",
       "      <td>100000</td>\n",
       "    </tr>\n",
       "    <tr>\n",
       "      <th>1899</th>\n",
       "      <td>Massachusetts Institute of Technology (MIT)</td>\n",
       "      <td>computer science</td>\n",
       "      <td>$60,000</td>\n",
       "      <td>2.15</td>\n",
       "      <td>2018-2019</td>\n",
       "      <td>3rd</td>\n",
       "      <td>$100,000</td>\n",
       "      <td>NaN</td>\n",
       "      <td>NaN</td>\n",
       "      <td>$40,000</td>\n",
       "      <td>NaN</td>\n",
       "      <td>2018</td>\n",
       "      <td>60000</td>\n",
       "      <td>100000</td>\n",
       "    </tr>\n",
       "    <tr>\n",
       "      <th>2482</th>\n",
       "      <td>Harvard University (HU)</td>\n",
       "      <td>Finance</td>\n",
       "      <td>$95,000</td>\n",
       "      <td>3.32</td>\n",
       "      <td>2018-2019</td>\n",
       "      <td>2nd</td>\n",
       "      <td>$100,000</td>\n",
       "      <td>NaN</td>\n",
       "      <td>NaN</td>\n",
       "      <td>$5,000</td>\n",
       "      <td>NaN</td>\n",
       "      <td>2018</td>\n",
       "      <td>95000</td>\n",
       "      <td>100000</td>\n",
       "    </tr>\n",
       "    <tr>\n",
       "      <th>2586</th>\n",
       "      <td>NaN</td>\n",
       "      <td>NaN</td>\n",
       "      <td>$100,000</td>\n",
       "      <td>NaN</td>\n",
       "      <td>2018-2019</td>\n",
       "      <td>NaN</td>\n",
       "      <td>$100,000</td>\n",
       "      <td>NaN</td>\n",
       "      <td>NaN</td>\n",
       "      <td>NaN</td>\n",
       "      <td>NaN</td>\n",
       "      <td>2018</td>\n",
       "      <td>100000</td>\n",
       "      <td>100000</td>\n",
       "    </tr>\n",
       "    <tr>\n",
       "      <th>2972</th>\n",
       "      <td>University of Minnesota - Twin Cities (UM)</td>\n",
       "      <td>Psychology</td>\n",
       "      <td>$90,000</td>\n",
       "      <td>3.93</td>\n",
       "      <td>2019-2020</td>\n",
       "      <td>1st</td>\n",
       "      <td>$100,000</td>\n",
       "      <td>NaN</td>\n",
       "      <td>NaN</td>\n",
       "      <td>$10,000</td>\n",
       "      <td>NaN</td>\n",
       "      <td>2019</td>\n",
       "      <td>90000</td>\n",
       "      <td>100000</td>\n",
       "    </tr>\n",
       "    <tr>\n",
       "      <th>2974</th>\n",
       "      <td>Pennsylvania State University (Penn State)</td>\n",
       "      <td>Clinical Psychology</td>\n",
       "      <td>$90,000</td>\n",
       "      <td>4.01</td>\n",
       "      <td>2019-2020</td>\n",
       "      <td>1st</td>\n",
       "      <td>$100,000</td>\n",
       "      <td>NaN</td>\n",
       "      <td>NaN</td>\n",
       "      <td>$10,000</td>\n",
       "      <td>NaN</td>\n",
       "      <td>2019</td>\n",
       "      <td>90000</td>\n",
       "      <td>100000</td>\n",
       "    </tr>\n",
       "    <tr>\n",
       "      <th>2975</th>\n",
       "      <td>Columbia University (CU)</td>\n",
       "      <td>Clinical Psychology</td>\n",
       "      <td>$90,000</td>\n",
       "      <td>3.03</td>\n",
       "      <td>2019-2020</td>\n",
       "      <td>1st</td>\n",
       "      <td>$100,000</td>\n",
       "      <td>NaN</td>\n",
       "      <td>NaN</td>\n",
       "      <td>$10,000</td>\n",
       "      <td>NaN</td>\n",
       "      <td>2019</td>\n",
       "      <td>90000</td>\n",
       "      <td>100000</td>\n",
       "    </tr>\n",
       "    <tr>\n",
       "      <th>3350</th>\n",
       "      <td>University of California - San Diego (UCSD)</td>\n",
       "      <td>Information Technology</td>\n",
       "      <td>$-900,000</td>\n",
       "      <td>-34.01</td>\n",
       "      <td>2018-2019</td>\n",
       "      <td>2nd</td>\n",
       "      <td>$100,000</td>\n",
       "      <td>NaN</td>\n",
       "      <td>NaN</td>\n",
       "      <td>$1,000,000</td>\n",
       "      <td>NaN</td>\n",
       "      <td>2018</td>\n",
       "      <td>-900000</td>\n",
       "      <td>100000</td>\n",
       "    </tr>\n",
       "  </tbody>\n",
       "</table>\n",
       "</div>"
      ],
      "text/plain": [
       "                                       University              Department Overall_Pay  LW_Ratio Academic_Year Program_Year 12_M_Gross_Pay 9_M_Gross_Pay 3_M_Gross_Pay        Fees Comments  Acad_Y  Overall_Pay_num  GrossPay_12M\n",
       "1734  University of Pennsylvania                   NaN                     $100,000    4.15      2018-2019     2nd          $100,000       NaN           NaN           NaN         NaN      2018    100000           100000      \n",
       "1899  Massachusetts Institute of Technology (MIT)  computer science        $60,000     2.15      2018-2019     3rd          $100,000       NaN           NaN           $40,000     NaN      2018    60000            100000      \n",
       "2482  Harvard University (HU)                      Finance                 $95,000     3.32      2018-2019     2nd          $100,000       NaN           NaN           $5,000      NaN      2018    95000            100000      \n",
       "2586  NaN                                          NaN                     $100,000   NaN        2018-2019     NaN          $100,000       NaN           NaN           NaN         NaN      2018    100000           100000      \n",
       "2972  University of Minnesota - Twin Cities (UM)   Psychology              $90,000     3.93      2019-2020     1st          $100,000       NaN           NaN           $10,000     NaN      2019    90000            100000      \n",
       "2974  Pennsylvania State University (Penn State)   Clinical Psychology     $90,000     4.01      2019-2020     1st          $100,000       NaN           NaN           $10,000     NaN      2019    90000            100000      \n",
       "2975  Columbia University (CU)                     Clinical Psychology     $90,000     3.03      2019-2020     1st          $100,000       NaN           NaN           $10,000     NaN      2019    90000            100000      \n",
       "3350  University of California - San Diego (UCSD)  Information Technology  $-900,000  -34.01     2018-2019     2nd          $100,000       NaN           NaN           $1,000,000  NaN      2018    -900000          100000      "
      ]
     },
     "execution_count": 73,
     "metadata": {},
     "output_type": "execute_result"
    }
   ],
   "source": [
    "# 3ry year Computer Science @MIT: fees = 40k !?!??\n",
    "\n",
    "stip.loc[stip.GrossPay_12M == 100000]\n",
    "\n",
    "# neg = stip.loc[stip['Overall_Pay_num']<0]"
   ]
  },
  {
   "cell_type": "code",
   "execution_count": null,
   "metadata": {},
   "outputs": [],
   "source": []
  },
  {
   "cell_type": "code",
   "execution_count": 74,
   "metadata": {},
   "outputs": [
    {
     "data": {
      "text/plain": [
       "count     2474   \n",
       "unique    748    \n",
       "top       $18,000\n",
       "freq      168    \n",
       "Name: 9_M_Gross_Pay, dtype: object"
      ]
     },
     "execution_count": 74,
     "metadata": {},
     "output_type": "execute_result"
    }
   ],
   "source": [
    "stip['9_M_Gross_Pay'].describe()"
   ]
  },
  {
   "cell_type": "code",
   "execution_count": 75,
   "metadata": {},
   "outputs": [],
   "source": [
    "stip['GrossPay_9M'] = stip['9_M_Gross_Pay'].str.replace('$', '')\n",
    "stip.GrossPay_9M = stip.GrossPay_9M.str.replace(',', '')"
   ]
  },
  {
   "cell_type": "code",
   "execution_count": 76,
   "metadata": {},
   "outputs": [
    {
     "data": {
      "text/plain": [
       "count     2474 \n",
       "unique    748  \n",
       "top       18000\n",
       "freq      168  \n",
       "Name: GrossPay_9M, dtype: object"
      ]
     },
     "execution_count": 76,
     "metadata": {},
     "output_type": "execute_result"
    }
   ],
   "source": [
    "stip.GrossPay_9M.describe()"
   ]
  },
  {
   "cell_type": "code",
   "execution_count": 77,
   "metadata": {},
   "outputs": [],
   "source": [
    "stip.GrossPay_9M = pd.to_numeric(stip.GrossPay_9M)\n",
    "stip.GrossPay_9M = stip.GrossPay_9M.astype('Int64')"
   ]
  },
  {
   "cell_type": "code",
   "execution_count": 78,
   "metadata": {
    "scrolled": true
   },
   "outputs": [
    {
     "data": {
      "text/plain": [
       "count    2474.000000  \n",
       "mean     19596.169361 \n",
       "std      8944.673519  \n",
       "min      5.000000     \n",
       "25%      15900.000000 \n",
       "50%      19000.000000 \n",
       "75%      23000.000000 \n",
       "max      189600.000000\n",
       "Name: GrossPay_9M, dtype: float64"
      ]
     },
     "execution_count": 78,
     "metadata": {},
     "output_type": "execute_result"
    }
   ],
   "source": [
    "stip.GrossPay_9M.describe()    # 189 k in 9 Months!? not bad!?!?!?!? ..."
   ]
  },
  {
   "cell_type": "code",
   "execution_count": 79,
   "metadata": {},
   "outputs": [
    {
     "name": "stderr",
     "output_type": "stream",
     "text": [
      "C:\\Users\\Diana Roccaro\\AppData\\Roaming\\Python\\Python37\\site-packages\\numpy\\lib\\histograms.py:839: RuntimeWarning: invalid value encountered in greater_equal\n",
      "  keep = (tmp_a >= first_edge)\n",
      "C:\\Users\\Diana Roccaro\\AppData\\Roaming\\Python\\Python37\\site-packages\\numpy\\lib\\histograms.py:840: RuntimeWarning: invalid value encountered in less_equal\n",
      "  keep &= (tmp_a <= last_edge)\n"
     ]
    },
    {
     "data": {
      "text/plain": [
       "(array([1.204e+03, 1.240e+03, 2.100e+01, 2.000e+00, 3.000e+00, 1.000e+00,\n",
       "        1.000e+00, 0.000e+00, 0.000e+00, 2.000e+00]),\n",
       " array([5.0, 18964.5, 37924.0, 56883.5, 75843.0, 94802.5, 113762.0,\n",
       "        132721.5, 151681.0, 170640.5, 189600.0], dtype=object),\n",
       " <a list of 10 Patch objects>)"
      ]
     },
     "execution_count": 79,
     "metadata": {},
     "output_type": "execute_result"
    },
    {
     "data": {
      "image/png": "[encoded data removed]",
      "text/plain": [
       "<Figure size 432x288 with 1 Axes>"
      ]
     },
     "metadata": {
      "needs_background": "light"
     },
     "output_type": "display_data"
    }
   ],
   "source": [
    "plt.hist(stip.GrossPay_9M, log=True) # -> top value: investigate further! (much more reasonable than @12M!?)"
   ]
  },
  {
   "cell_type": "code",
   "execution_count": null,
   "metadata": {},
   "outputs": [],
   "source": []
  },
  {
   "cell_type": "code",
   "execution_count": 80,
   "metadata": {},
   "outputs": [
    {
     "data": {
      "text/plain": [
       "count     798   \n",
       "unique    210   \n",
       "top       $3,000\n",
       "freq      101   \n",
       "Name: 3_M_Gross_Pay, dtype: object"
      ]
     },
     "execution_count": 80,
     "metadata": {},
     "output_type": "execute_result"
    }
   ],
   "source": [
    "stip['3_M_Gross_Pay'].describe()"
   ]
  },
  {
   "cell_type": "code",
   "execution_count": 81,
   "metadata": {},
   "outputs": [
    {
     "data": {
      "text/plain": [
       "count    798.000000  \n",
       "mean     5043.095238 \n",
       "std      3743.738055 \n",
       "min      3.000000    \n",
       "25%      3000.000000 \n",
       "50%      4500.000000 \n",
       "75%      6000.000000 \n",
       "max      55816.000000\n",
       "Name: GrossPay_3M, dtype: float64"
      ]
     },
     "execution_count": 81,
     "metadata": {},
     "output_type": "execute_result"
    }
   ],
   "source": [
    "stip['GrossPay_3M'] = stip['3_M_Gross_Pay'].str.replace('$', '')\n",
    "stip.GrossPay_3M = stip.GrossPay_3M.str.replace(',', '')\n",
    "\n",
    "# stip.GrossPay_3M.describe()\n",
    "\n",
    "stip.GrossPay_3M = pd.to_numeric(stip.GrossPay_3M)\n",
    "stip.GrossPay_3M = stip.GrossPay_3M.astype('Int64')\n",
    "\n",
    "stip.GrossPay_3M.describe()    # 56 k in 3 Months!? not bad!?!?!?!? ..."
   ]
  },
  {
   "cell_type": "code",
   "execution_count": 82,
   "metadata": {},
   "outputs": [
    {
     "data": {
      "text/plain": [
       "(array([567., 204.,  18.,   4.,   2.,   0.,   1.,   0.,   1.,   1.]),\n",
       " array([3.0, 5584.3, 11165.6, 16746.9, 22328.2, 27909.5, 33490.8, 39072.1,\n",
       "        44653.4, 50234.700000000004, 55816.0], dtype=object),\n",
       " <a list of 10 Patch objects>)"
      ]
     },
     "execution_count": 82,
     "metadata": {},
     "output_type": "execute_result"
    },
    {
     "data": {
      "image/png": "[encoded data removed]",
      "text/plain": [
       "<Figure size 432x288 with 1 Axes>"
      ]
     },
     "metadata": {
      "needs_background": "light"
     },
     "output_type": "display_data"
    }
   ],
   "source": [
    "plt.hist(stip.GrossPay_3M, log=True) # -> top value: investigate further! (much more reasonable than @12M!?)"
   ]
  },
  {
   "cell_type": "code",
   "execution_count": null,
   "metadata": {},
   "outputs": [],
   "source": []
  },
  {
   "cell_type": "code",
   "execution_count": null,
   "metadata": {},
   "outputs": [],
   "source": []
  },
  {
   "cell_type": "code",
   "execution_count": null,
   "metadata": {},
   "outputs": [],
   "source": []
  },
  {
   "cell_type": "code",
   "execution_count": 83,
   "metadata": {},
   "outputs": [
    {
     "data": {
      "text/plain": [
       "count     3352  \n",
       "unique    769   \n",
       "top       $1,000\n",
       "freq      214   \n",
       "Name: Fees, dtype: object"
      ]
     },
     "execution_count": 83,
     "metadata": {},
     "output_type": "execute_result"
    }
   ],
   "source": [
    "stip.Fees.describe()"
   ]
  },
  {
   "cell_type": "code",
   "execution_count": 84,
   "metadata": {},
   "outputs": [],
   "source": [
    "stip['Fees_num'] = stip.Fees.str.replace('$', '')\n",
    "stip['Fees_num'] = stip.Fees_num.str.replace(',', '')"
   ]
  },
  {
   "cell_type": "code",
   "execution_count": 85,
   "metadata": {},
   "outputs": [
    {
     "data": {
      "text/plain": [
       "count     3352\n",
       "unique    769 \n",
       "top       1000\n",
       "freq      214 \n",
       "Name: Fees_num, dtype: object"
      ]
     },
     "execution_count": 85,
     "metadata": {},
     "output_type": "execute_result"
    }
   ],
   "source": [
    "stip.Fees_num.describe()"
   ]
  },
  {
   "cell_type": "code",
   "execution_count": 86,
   "metadata": {},
   "outputs": [],
   "source": [
    "stip.Fees_num = pd.to_numeric(stip.Fees_num)"
   ]
  },
  {
   "cell_type": "code",
   "execution_count": 87,
   "metadata": {},
   "outputs": [
    {
     "data": {
      "text/plain": [
       "numpy.float64"
      ]
     },
     "execution_count": 87,
     "metadata": {},
     "output_type": "execute_result"
    }
   ],
   "source": [
    "type(stip.Fees_num[0])"
   ]
  },
  {
   "cell_type": "code",
   "execution_count": 88,
   "metadata": {},
   "outputs": [],
   "source": [
    "# observation 3350 seems pretty useless -> simply delete this observation completely!? no value!?\n",
    "\n",
    "stip.Fees_num = stip.Fees_num.astype('Int64')"
   ]
  },
  {
   "cell_type": "code",
   "execution_count": 89,
   "metadata": {},
   "outputs": [
    {
     "data": {
      "text/plain": [
       "(array([3.351e+03, 0.000e+00, 0.000e+00, 0.000e+00, 0.000e+00, 0.000e+00,\n",
       "        0.000e+00, 0.000e+00, 0.000e+00, 1.000e+00]),\n",
       " array([1.0, 100000.9, 200000.8, 300000.69999999995, 400000.6, 500000.5,\n",
       "        600000.3999999999, 700000.2999999999, 800000.2, 900000.1,\n",
       "        1000000.0], dtype=object),\n",
       " <a list of 10 Patch objects>)"
      ]
     },
     "execution_count": 89,
     "metadata": {},
     "output_type": "execute_result"
    },
    {
     "data": {
      "image/png": "[encoded data removed]",
      "text/plain": [
       "<Figure size 432x288 with 1 Axes>"
      ]
     },
     "metadata": {
      "needs_background": "light"
     },
     "output_type": "display_data"
    }
   ],
   "source": [
    "\n",
    "\n",
    "plt.hist(stip.Fees_num) # -> there seem to be crazy min & max values... !?"
   ]
  },
  {
   "cell_type": "code",
   "execution_count": 90,
   "metadata": {},
   "outputs": [
    {
     "data": {
      "text/plain": [
       "769"
      ]
     },
     "execution_count": 90,
     "metadata": {},
     "output_type": "execute_result"
    }
   ],
   "source": [
    "stip.Fees_num.nunique()"
   ]
  },
  {
   "cell_type": "code",
   "execution_count": 91,
   "metadata": {},
   "outputs": [
    {
     "data": {
      "text/plain": [
       "<IntegerArray>\n",
       "[ NaN, 1200, 1400, 2000,  250, 9000,  200,  800,   42,  900,\n",
       " ...\n",
       "  246,  288, 3663,  735, 1276, 5048, 4983, 5193, 5330, 4958]\n",
       "Length: 770, dtype: Int64"
      ]
     },
     "execution_count": 91,
     "metadata": {},
     "output_type": "execute_result"
    }
   ],
   "source": [
    "stip.Fees_num.unique() # was not very helpful when they were float. Integer conversion -> let's try ..."
   ]
  },
  {
   "cell_type": "code",
   "execution_count": 92,
   "metadata": {},
   "outputs": [
    {
     "data": {
      "text/plain": [
       "NaN     5355\n",
       "1000    214 \n",
       "2000    204 \n",
       "500     161 \n",
       "1200    111 \n",
       "1500    105 \n",
       "3000    92  \n",
       "200     92  \n",
       "600     90  \n",
       "Name: Fees_num, dtype: int64"
      ]
     },
     "execution_count": 92,
     "metadata": {},
     "output_type": "execute_result"
    }
   ],
   "source": [
    "stip.Fees_num.value_counts(dropna=False).sort_values(ascending=False)[0:9]    # looks reasonable? :)"
   ]
  },
  {
   "cell_type": "code",
   "execution_count": 93,
   "metadata": {},
   "outputs": [
    {
     "data": {
      "text/plain": [
       "count    3352.000000   \n",
       "mean     2869.667661   \n",
       "std      18471.151022  \n",
       "min      1.000000      \n",
       "25%      500.000000    \n",
       "50%      1005.500000   \n",
       "75%      2000.000000   \n",
       "max      1000000.000000\n",
       "Name: Fees_num, dtype: float64"
      ]
     },
     "execution_count": 93,
     "metadata": {},
     "output_type": "execute_result"
    }
   ],
   "source": [
    "stip.Fees_num.describe()"
   ]
  },
  {
   "cell_type": "code",
   "execution_count": 94,
   "metadata": {},
   "outputs": [
    {
     "data": {
      "text/plain": [
       "448"
      ]
     },
     "execution_count": 94,
     "metadata": {},
     "output_type": "execute_result"
    }
   ],
   "source": [
    "# -> how many students pay fees higher than 3'000 ?\n",
    "\n",
    "high_fees = stip.loc[stip['Fees_num']>3000]\n",
    "len(high_fees)"
   ]
  },
  {
   "cell_type": "code",
   "execution_count": 95,
   "metadata": {},
   "outputs": [
    {
     "data": {
      "text/html": [
       "<div>\n",
       "<style scoped>\n",
       "    .dataframe tbody tr th:only-of-type {\n",
       "        vertical-align: middle;\n",
       "    }\n",
       "\n",
       "    .dataframe tbody tr th {\n",
       "        vertical-align: top;\n",
       "    }\n",
       "\n",
       "    .dataframe thead th {\n",
       "        text-align: right;\n",
       "    }\n",
       "</style>\n",
       "<table border=\"1\" class=\"dataframe\">\n",
       "  <thead>\n",
       "    <tr style=\"text-align: right;\">\n",
       "      <th></th>\n",
       "      <th>University</th>\n",
       "      <th>Department</th>\n",
       "      <th>Overall_Pay</th>\n",
       "      <th>LW_Ratio</th>\n",
       "      <th>Academic_Year</th>\n",
       "      <th>Program_Year</th>\n",
       "      <th>12_M_Gross_Pay</th>\n",
       "      <th>9_M_Gross_Pay</th>\n",
       "      <th>3_M_Gross_Pay</th>\n",
       "      <th>Fees</th>\n",
       "      <th>Comments</th>\n",
       "      <th>Acad_Y</th>\n",
       "      <th>Overall_Pay_num</th>\n",
       "      <th>GrossPay_12M</th>\n",
       "      <th>GrossPay_9M</th>\n",
       "      <th>GrossPay_3M</th>\n",
       "      <th>Fees_num</th>\n",
       "    </tr>\n",
       "  </thead>\n",
       "  <tbody>\n",
       "    <tr>\n",
       "      <th>21</th>\n",
       "      <td>Dalhousie University</td>\n",
       "      <td>Psychology and Neuroscience</td>\n",
       "      <td>$10,000</td>\n",
       "      <td>NaN</td>\n",
       "      <td>2019-2020</td>\n",
       "      <td>1st</td>\n",
       "      <td>$19,000</td>\n",
       "      <td>NaN</td>\n",
       "      <td>NaN</td>\n",
       "      <td>$9,000</td>\n",
       "      <td>Our funding is also capped. This means that even if we win grants in an amount that surpasses our funding cap then we get the award as an \"honourary\".</td>\n",
       "      <td>2019</td>\n",
       "      <td>10000</td>\n",
       "      <td>19000</td>\n",
       "      <td>NaN</td>\n",
       "      <td>NaN</td>\n",
       "      <td>9000</td>\n",
       "    </tr>\n",
       "    <tr>\n",
       "      <th>38</th>\n",
       "      <td>University of Virginia (UVA)</td>\n",
       "      <td>Economics</td>\n",
       "      <td>$22,500</td>\n",
       "      <td>0.99</td>\n",
       "      <td>2019-2020</td>\n",
       "      <td>1st</td>\n",
       "      <td>$28,500</td>\n",
       "      <td>NaN</td>\n",
       "      <td>NaN</td>\n",
       "      <td>$6,000</td>\n",
       "      <td>NaN</td>\n",
       "      <td>2019</td>\n",
       "      <td>22500</td>\n",
       "      <td>28500</td>\n",
       "      <td>NaN</td>\n",
       "      <td>NaN</td>\n",
       "      <td>6000</td>\n",
       "    </tr>\n",
       "    <tr>\n",
       "      <th>39</th>\n",
       "      <td>NaN</td>\n",
       "      <td>NaN</td>\n",
       "      <td>$22,000</td>\n",
       "      <td>NaN</td>\n",
       "      <td>2020-2021</td>\n",
       "      <td>5th</td>\n",
       "      <td>$27,000</td>\n",
       "      <td>NaN</td>\n",
       "      <td>NaN</td>\n",
       "      <td>$5,000</td>\n",
       "      <td>NaN</td>\n",
       "      <td>2020</td>\n",
       "      <td>22000</td>\n",
       "      <td>27000</td>\n",
       "      <td>NaN</td>\n",
       "      <td>NaN</td>\n",
       "      <td>5000</td>\n",
       "    </tr>\n",
       "    <tr>\n",
       "      <th>58</th>\n",
       "      <td>University of Georgia (UGA)</td>\n",
       "      <td>Pharmaceutical and Biomedical Sciences</td>\n",
       "      <td>$25,600</td>\n",
       "      <td>1.21</td>\n",
       "      <td>2019-2020</td>\n",
       "      <td>1st</td>\n",
       "      <td>$29,150</td>\n",
       "      <td>NaN</td>\n",
       "      <td>NaN</td>\n",
       "      <td>$3,550</td>\n",
       "      <td>NaN</td>\n",
       "      <td>2019</td>\n",
       "      <td>25600</td>\n",
       "      <td>29150</td>\n",
       "      <td>NaN</td>\n",
       "      <td>NaN</td>\n",
       "      <td>3550</td>\n",
       "    </tr>\n",
       "    <tr>\n",
       "      <th>62</th>\n",
       "      <td>University of British Columbia</td>\n",
       "      <td>NaN</td>\n",
       "      <td>$14,400</td>\n",
       "      <td>NaN</td>\n",
       "      <td>2020-2021</td>\n",
       "      <td>4th</td>\n",
       "      <td>$20,000</td>\n",
       "      <td>NaN</td>\n",
       "      <td>NaN</td>\n",
       "      <td>$5,600</td>\n",
       "      <td>NaN</td>\n",
       "      <td>2020</td>\n",
       "      <td>14400</td>\n",
       "      <td>20000</td>\n",
       "      <td>NaN</td>\n",
       "      <td>NaN</td>\n",
       "      <td>5600</td>\n",
       "    </tr>\n",
       "    <tr>\n",
       "      <th>...</th>\n",
       "      <td>...</td>\n",
       "      <td>...</td>\n",
       "      <td>...</td>\n",
       "      <td>...</td>\n",
       "      <td>...</td>\n",
       "      <td>...</td>\n",
       "      <td>...</td>\n",
       "      <td>...</td>\n",
       "      <td>...</td>\n",
       "      <td>...</td>\n",
       "      <td>...</td>\n",
       "      <td>...</td>\n",
       "      <td>...</td>\n",
       "      <td>...</td>\n",
       "      <td>...</td>\n",
       "      <td>...</td>\n",
       "      <td>...</td>\n",
       "    </tr>\n",
       "    <tr>\n",
       "      <th>8669</th>\n",
       "      <td>New Mexico State University (NMSU)</td>\n",
       "      <td>Astronomy</td>\n",
       "      <td>$23,034</td>\n",
       "      <td>1.36</td>\n",
       "      <td>2012-2013</td>\n",
       "      <td>3rd</td>\n",
       "      <td>NaN</td>\n",
       "      <td>$16,100</td>\n",
       "      <td>$11,917</td>\n",
       "      <td>$4,983</td>\n",
       "      <td>Summer/Other includes $10,000 NM Space Grant Fellowship</td>\n",
       "      <td>2012</td>\n",
       "      <td>23034</td>\n",
       "      <td>NaN</td>\n",
       "      <td>16100</td>\n",
       "      <td>11917</td>\n",
       "      <td>4983</td>\n",
       "    </tr>\n",
       "    <tr>\n",
       "      <th>8670</th>\n",
       "      <td>New Mexico State University (NMSU)</td>\n",
       "      <td>Astronomy</td>\n",
       "      <td>$29,804</td>\n",
       "      <td>1.76</td>\n",
       "      <td>2013-2014</td>\n",
       "      <td>4th</td>\n",
       "      <td>NaN</td>\n",
       "      <td>$16,665</td>\n",
       "      <td>$18,332</td>\n",
       "      <td>$5,193</td>\n",
       "      <td>Summer/Other includes $10,000 NM Space Grant Fellowship</td>\n",
       "      <td>2013</td>\n",
       "      <td>29804</td>\n",
       "      <td>NaN</td>\n",
       "      <td>16665</td>\n",
       "      <td>18332</td>\n",
       "      <td>5193</td>\n",
       "    </tr>\n",
       "    <tr>\n",
       "      <th>8671</th>\n",
       "      <td>New Mexico State University (NMSU)</td>\n",
       "      <td>Astronomy</td>\n",
       "      <td>$18,058</td>\n",
       "      <td>1.07</td>\n",
       "      <td>2011-2012</td>\n",
       "      <td>2nd</td>\n",
       "      <td>NaN</td>\n",
       "      <td>$15,800</td>\n",
       "      <td>$7,588</td>\n",
       "      <td>$5,330</td>\n",
       "      <td>NaN</td>\n",
       "      <td>2011</td>\n",
       "      <td>18058</td>\n",
       "      <td>NaN</td>\n",
       "      <td>15800</td>\n",
       "      <td>7588</td>\n",
       "      <td>5330</td>\n",
       "    </tr>\n",
       "    <tr>\n",
       "      <th>8672</th>\n",
       "      <td>New Mexico State University (NMSU)</td>\n",
       "      <td>Astronomy</td>\n",
       "      <td>$14,842</td>\n",
       "      <td>0.88</td>\n",
       "      <td>2010-2011</td>\n",
       "      <td>1st</td>\n",
       "      <td>NaN</td>\n",
       "      <td>$15,800</td>\n",
       "      <td>$4,000</td>\n",
       "      <td>$4,958</td>\n",
       "      <td>NaN</td>\n",
       "      <td>2010</td>\n",
       "      <td>14842</td>\n",
       "      <td>NaN</td>\n",
       "      <td>15800</td>\n",
       "      <td>4000</td>\n",
       "      <td>4958</td>\n",
       "    </tr>\n",
       "    <tr>\n",
       "      <th>8673</th>\n",
       "      <td>Georgia Institute of Technology (Georgia Tech)</td>\n",
       "      <td>ECE</td>\n",
       "      <td>$28,083</td>\n",
       "      <td>1.34</td>\n",
       "      <td>2014-2015</td>\n",
       "      <td>2nd</td>\n",
       "      <td>$31,500</td>\n",
       "      <td>NaN</td>\n",
       "      <td>NaN</td>\n",
       "      <td>$3,417</td>\n",
       "      <td>$5500 is from a four year supplemental fellowship.</td>\n",
       "      <td>2014</td>\n",
       "      <td>28083</td>\n",
       "      <td>31500</td>\n",
       "      <td>NaN</td>\n",
       "      <td>NaN</td>\n",
       "      <td>3417</td>\n",
       "    </tr>\n",
       "  </tbody>\n",
       "</table>\n",
       "<p>448 rows × 17 columns</p>\n",
       "</div>"
      ],
      "text/plain": [
       "                                          University                              Department Overall_Pay  LW_Ratio Academic_Year Program_Year 12_M_Gross_Pay 9_M_Gross_Pay 3_M_Gross_Pay    Fees                                                                                                                                                Comments  Acad_Y  Overall_Pay_num  GrossPay_12M  GrossPay_9M  GrossPay_3M  Fees_num\n",
       "21    Dalhousie University                            Psychology and Neuroscience             $10,000    NaN        2019-2020     1st          $19,000        NaN           NaN           $9,000  Our funding is also capped. This means that even if we win grants in an amount that surpasses our funding cap then we get the award as an \"honourary\".  2019    10000            19000         NaN          NaN          9000    \n",
       "38    University of Virginia (UVA)                    Economics                               $22,500     0.99      2019-2020     1st          $28,500        NaN           NaN           $6,000  NaN                                                                                                                                                     2019    22500            28500         NaN          NaN          6000    \n",
       "39    NaN                                             NaN                                     $22,000    NaN        2020-2021     5th          $27,000        NaN           NaN           $5,000  NaN                                                                                                                                                     2020    22000            27000         NaN          NaN          5000    \n",
       "58    University of Georgia (UGA)                     Pharmaceutical and Biomedical Sciences  $25,600     1.21      2019-2020     1st          $29,150        NaN           NaN           $3,550  NaN                                                                                                                                                     2019    25600            29150         NaN          NaN          3550    \n",
       "62    University of British Columbia                  NaN                                     $14,400    NaN        2020-2021     4th          $20,000        NaN           NaN           $5,600  NaN                                                                                                                                                     2020    14400            20000         NaN          NaN          5600    \n",
       "...                               ...                 ...                                         ...     ..              ...     ...              ...        ...           ...              ...  ...                                                                                                                                                      ...      ...              ...         ...          ...           ...    \n",
       "8669  New Mexico State University (NMSU)              Astronomy                               $23,034     1.36      2012-2013     3rd          NaN            $16,100       $11,917       $4,983  Summer/Other includes $10,000 NM Space Grant Fellowship                                                                                                 2012    23034            NaN           16100        11917        4983    \n",
       "8670  New Mexico State University (NMSU)              Astronomy                               $29,804     1.76      2013-2014     4th          NaN            $16,665       $18,332       $5,193  Summer/Other includes $10,000 NM Space Grant Fellowship                                                                                                 2013    29804            NaN           16665        18332        5193    \n",
       "8671  New Mexico State University (NMSU)              Astronomy                               $18,058     1.07      2011-2012     2nd          NaN            $15,800       $7,588        $5,330  NaN                                                                                                                                                     2011    18058            NaN           15800        7588         5330    \n",
       "8672  New Mexico State University (NMSU)              Astronomy                               $14,842     0.88      2010-2011     1st          NaN            $15,800       $4,000        $4,958  NaN                                                                                                                                                     2010    14842            NaN           15800        4000         4958    \n",
       "8673  Georgia Institute of Technology (Georgia Tech)  ECE                                     $28,083     1.34      2014-2015     2nd          $31,500        NaN           NaN           $3,417  $5500 is from a four year supplemental fellowship.                                                                                                      2014    28083            31500         NaN          NaN          3417    \n",
       "\n",
       "[448 rows x 17 columns]"
      ]
     },
     "execution_count": 95,
     "metadata": {},
     "output_type": "execute_result"
    }
   ],
   "source": [
    "high_fees"
   ]
  },
  {
   "cell_type": "code",
   "execution_count": 96,
   "metadata": {},
   "outputs": [
    {
     "data": {
      "text/plain": [
       "300     73\n",
       "2500    67\n",
       "400     59\n",
       "900     55\n",
       "1800    51\n",
       "100     50\n",
       "150     40\n",
       "1400    40\n",
       "1600    38\n",
       "Name: Fees_num, dtype: int64"
      ]
     },
     "execution_count": 96,
     "metadata": {},
     "output_type": "execute_result"
    }
   ],
   "source": [
    "stip.Fees_num.value_counts(dropna=False).sort_values(ascending=False)[10:19]"
   ]
  },
  {
   "cell_type": "code",
   "execution_count": 97,
   "metadata": {},
   "outputs": [
    {
     "data": {
      "text/plain": [
       "<IntegerArray>\n",
       "[ NaN, 1200, 1400, 2000,  250, 9000,  200,  800,   42,  900,\n",
       " ...\n",
       "  246,  288, 3663,  735, 1276, 5048, 4983, 5193, 5330, 4958]\n",
       "Length: 770, dtype: Int64"
      ]
     },
     "execution_count": 97,
     "metadata": {},
     "output_type": "execute_result"
    }
   ],
   "source": [
    "unique_fees = stip.Fees_num.unique() # so what? ... let's try another way ...\n",
    "unique_fees"
   ]
  },
  {
   "cell_type": "code",
   "execution_count": 98,
   "metadata": {},
   "outputs": [
    {
     "data": {
      "text/plain": [
       "156"
      ]
     },
     "execution_count": 98,
     "metadata": {},
     "output_type": "execute_result"
    }
   ],
   "source": [
    "above_9k = stip.loc[stip['Fees_num']>9000]\n",
    "len(above_9k)"
   ]
  },
  {
   "cell_type": "code",
   "execution_count": 99,
   "metadata": {},
   "outputs": [
    {
     "data": {
      "text/html": [
       "<div>\n",
       "<style scoped>\n",
       "    .dataframe tbody tr th:only-of-type {\n",
       "        vertical-align: middle;\n",
       "    }\n",
       "\n",
       "    .dataframe tbody tr th {\n",
       "        vertical-align: top;\n",
       "    }\n",
       "\n",
       "    .dataframe thead th {\n",
       "        text-align: right;\n",
       "    }\n",
       "</style>\n",
       "<table border=\"1\" class=\"dataframe\">\n",
       "  <thead>\n",
       "    <tr style=\"text-align: right;\">\n",
       "      <th></th>\n",
       "      <th>University</th>\n",
       "      <th>Department</th>\n",
       "      <th>Overall_Pay</th>\n",
       "      <th>LW_Ratio</th>\n",
       "      <th>Academic_Year</th>\n",
       "      <th>Program_Year</th>\n",
       "      <th>12_M_Gross_Pay</th>\n",
       "      <th>9_M_Gross_Pay</th>\n",
       "      <th>3_M_Gross_Pay</th>\n",
       "      <th>Fees</th>\n",
       "      <th>Comments</th>\n",
       "      <th>Acad_Y</th>\n",
       "      <th>Overall_Pay_num</th>\n",
       "      <th>GrossPay_12M</th>\n",
       "      <th>GrossPay_9M</th>\n",
       "      <th>GrossPay_3M</th>\n",
       "      <th>Fees_num</th>\n",
       "    </tr>\n",
       "  </thead>\n",
       "  <tbody>\n",
       "    <tr>\n",
       "      <th>270</th>\n",
       "      <td>Texas Tech University (TTU)</td>\n",
       "      <td>Mechanical</td>\n",
       "      <td>$-29,000</td>\n",
       "      <td>-1.43</td>\n",
       "      <td>2020-2021</td>\n",
       "      <td>NaN</td>\n",
       "      <td>NaN</td>\n",
       "      <td>NaN</td>\n",
       "      <td>NaN</td>\n",
       "      <td>$29,000</td>\n",
       "      <td>NaN</td>\n",
       "      <td>2020</td>\n",
       "      <td>-29000</td>\n",
       "      <td>NaN</td>\n",
       "      <td>NaN</td>\n",
       "      <td>NaN</td>\n",
       "      <td>29000</td>\n",
       "    </tr>\n",
       "    <tr>\n",
       "      <th>304</th>\n",
       "      <td>Carnegie Mellon University (CMU)</td>\n",
       "      <td>Neuroscience</td>\n",
       "      <td>$-14,378</td>\n",
       "      <td>-0.69</td>\n",
       "      <td>2020-2021</td>\n",
       "      <td>1st</td>\n",
       "      <td>$33,204</td>\n",
       "      <td>NaN</td>\n",
       "      <td>NaN</td>\n",
       "      <td>$47,582</td>\n",
       "      <td>NaN</td>\n",
       "      <td>2020</td>\n",
       "      <td>-14378</td>\n",
       "      <td>33204</td>\n",
       "      <td>NaN</td>\n",
       "      <td>NaN</td>\n",
       "      <td>47582</td>\n",
       "    </tr>\n",
       "    <tr>\n",
       "      <th>305</th>\n",
       "      <td>University of Pennsylvania</td>\n",
       "      <td>Mechanical Engineering</td>\n",
       "      <td>$-6,743</td>\n",
       "      <td>-0.28</td>\n",
       "      <td>2020-2021</td>\n",
       "      <td>NaN</td>\n",
       "      <td>$34,500</td>\n",
       "      <td>NaN</td>\n",
       "      <td>NaN</td>\n",
       "      <td>$41,243</td>\n",
       "      <td>NaN</td>\n",
       "      <td>2020</td>\n",
       "      <td>-6743</td>\n",
       "      <td>34500</td>\n",
       "      <td>NaN</td>\n",
       "      <td>NaN</td>\n",
       "      <td>41243</td>\n",
       "    </tr>\n",
       "    <tr>\n",
       "      <th>410</th>\n",
       "      <td>University of California - San Diego (UCSD)</td>\n",
       "      <td>VisualArts</td>\n",
       "      <td>$17,239</td>\n",
       "      <td>0.65</td>\n",
       "      <td>2020-2021</td>\n",
       "      <td>1st</td>\n",
       "      <td>$31,406</td>\n",
       "      <td>NaN</td>\n",
       "      <td>NaN</td>\n",
       "      <td>$14,167</td>\n",
       "      <td>NaN</td>\n",
       "      <td>2020</td>\n",
       "      <td>17239</td>\n",
       "      <td>31406</td>\n",
       "      <td>NaN</td>\n",
       "      <td>NaN</td>\n",
       "      <td>14167</td>\n",
       "    </tr>\n",
       "    <tr>\n",
       "      <th>554</th>\n",
       "      <td>Wayne State University</td>\n",
       "      <td>immunotherapy</td>\n",
       "      <td>$35,000</td>\n",
       "      <td>1.68</td>\n",
       "      <td>2020-2021</td>\n",
       "      <td>NaN</td>\n",
       "      <td>$45,000</td>\n",
       "      <td>NaN</td>\n",
       "      <td>NaN</td>\n",
       "      <td>$10,000</td>\n",
       "      <td>NaN</td>\n",
       "      <td>2020</td>\n",
       "      <td>35000</td>\n",
       "      <td>45000</td>\n",
       "      <td>NaN</td>\n",
       "      <td>NaN</td>\n",
       "      <td>10000</td>\n",
       "    </tr>\n",
       "    <tr>\n",
       "      <th>...</th>\n",
       "      <td>...</td>\n",
       "      <td>...</td>\n",
       "      <td>...</td>\n",
       "      <td>...</td>\n",
       "      <td>...</td>\n",
       "      <td>...</td>\n",
       "      <td>...</td>\n",
       "      <td>...</td>\n",
       "      <td>...</td>\n",
       "      <td>...</td>\n",
       "      <td>...</td>\n",
       "      <td>...</td>\n",
       "      <td>...</td>\n",
       "      <td>...</td>\n",
       "      <td>...</td>\n",
       "      <td>...</td>\n",
       "      <td>...</td>\n",
       "    </tr>\n",
       "    <tr>\n",
       "      <th>8083</th>\n",
       "      <td>University of California - Riverside (UCR)</td>\n",
       "      <td>Material Science and Engineering</td>\n",
       "      <td>$21,500</td>\n",
       "      <td>0.89</td>\n",
       "      <td>2015-2016</td>\n",
       "      <td>1st</td>\n",
       "      <td>$34,000</td>\n",
       "      <td>NaN</td>\n",
       "      <td>NaN</td>\n",
       "      <td>$12,500</td>\n",
       "      <td>NaN</td>\n",
       "      <td>2015</td>\n",
       "      <td>21500</td>\n",
       "      <td>34000</td>\n",
       "      <td>NaN</td>\n",
       "      <td>NaN</td>\n",
       "      <td>12500</td>\n",
       "    </tr>\n",
       "    <tr>\n",
       "      <th>8097</th>\n",
       "      <td>Texas Woman&amp;#39;s University</td>\n",
       "      <td>Sociology</td>\n",
       "      <td>$6,363</td>\n",
       "      <td>NaN</td>\n",
       "      <td>2014-2015</td>\n",
       "      <td>5th</td>\n",
       "      <td>NaN</td>\n",
       "      <td>$14,454</td>\n",
       "      <td>$2,409</td>\n",
       "      <td>$10,500</td>\n",
       "      <td>Tuition and fees are roughly $3500 a semester for 2 courses. If you take 3 courses, it would be more. There are no tuition waivers.</td>\n",
       "      <td>2014</td>\n",
       "      <td>6363</td>\n",
       "      <td>NaN</td>\n",
       "      <td>14454</td>\n",
       "      <td>2409</td>\n",
       "      <td>10500</td>\n",
       "    </tr>\n",
       "    <tr>\n",
       "      <th>8174</th>\n",
       "      <td>University of Maryland - College Park (UMD)</td>\n",
       "      <td>Mechanical Engineering</td>\n",
       "      <td>$31,664</td>\n",
       "      <td>1.05</td>\n",
       "      <td>2015-2016</td>\n",
       "      <td>NaN</td>\n",
       "      <td>$43,990</td>\n",
       "      <td>NaN</td>\n",
       "      <td>NaN</td>\n",
       "      <td>$12,326</td>\n",
       "      <td>NaN</td>\n",
       "      <td>2015</td>\n",
       "      <td>31664</td>\n",
       "      <td>43990</td>\n",
       "      <td>NaN</td>\n",
       "      <td>NaN</td>\n",
       "      <td>12326</td>\n",
       "    </tr>\n",
       "    <tr>\n",
       "      <th>8175</th>\n",
       "      <td>University of Maryland - College Park (UMD)</td>\n",
       "      <td>Mechanical Engineering</td>\n",
       "      <td>$19,674</td>\n",
       "      <td>0.65</td>\n",
       "      <td>2015-2016</td>\n",
       "      <td>NaN</td>\n",
       "      <td>$32,000</td>\n",
       "      <td>NaN</td>\n",
       "      <td>NaN</td>\n",
       "      <td>$12,326</td>\n",
       "      <td>NaN</td>\n",
       "      <td>2015</td>\n",
       "      <td>19674</td>\n",
       "      <td>32000</td>\n",
       "      <td>NaN</td>\n",
       "      <td>NaN</td>\n",
       "      <td>12326</td>\n",
       "    </tr>\n",
       "    <tr>\n",
       "      <th>8389</th>\n",
       "      <td>NaN</td>\n",
       "      <td>NaN</td>\n",
       "      <td>$-11,800</td>\n",
       "      <td>NaN</td>\n",
       "      <td>2014-2015</td>\n",
       "      <td>NaN</td>\n",
       "      <td>$2,200</td>\n",
       "      <td>NaN</td>\n",
       "      <td>NaN</td>\n",
       "      <td>$14,000</td>\n",
       "      <td>NaN</td>\n",
       "      <td>2014</td>\n",
       "      <td>-11800</td>\n",
       "      <td>2200</td>\n",
       "      <td>NaN</td>\n",
       "      <td>NaN</td>\n",
       "      <td>14000</td>\n",
       "    </tr>\n",
       "  </tbody>\n",
       "</table>\n",
       "<p>156 rows × 17 columns</p>\n",
       "</div>"
      ],
      "text/plain": [
       "                                       University                        Department Overall_Pay  LW_Ratio Academic_Year Program_Year 12_M_Gross_Pay 9_M_Gross_Pay 3_M_Gross_Pay     Fees                                                                                                                              Comments  Acad_Y  Overall_Pay_num  GrossPay_12M  GrossPay_9M  GrossPay_3M  Fees_num\n",
       "270   Texas Tech University (TTU)                  Mechanical                        $-29,000   -1.43      2020-2021     NaN          NaN            NaN           NaN           $29,000  NaN                                                                                                                                   2020    -29000           NaN           NaN          NaN          29000   \n",
       "304   Carnegie Mellon University (CMU)             Neuroscience                      $-14,378   -0.69      2020-2021     1st          $33,204        NaN           NaN           $47,582  NaN                                                                                                                                   2020    -14378           33204         NaN          NaN          47582   \n",
       "305   University of Pennsylvania                   Mechanical Engineering            $-6,743    -0.28      2020-2021     NaN          $34,500        NaN           NaN           $41,243  NaN                                                                                                                                   2020    -6743            34500         NaN          NaN          41243   \n",
       "410   University of California - San Diego (UCSD)  VisualArts                        $17,239     0.65      2020-2021     1st          $31,406        NaN           NaN           $14,167  NaN                                                                                                                                   2020    17239            31406         NaN          NaN          14167   \n",
       "554   Wayne State University                       immunotherapy                     $35,000     1.68      2020-2021     NaN          $45,000        NaN           NaN           $10,000  NaN                                                                                                                                   2020    35000            45000         NaN          NaN          10000   \n",
       "...                      ...                                 ...                         ...      ...            ...     ...              ...        ...           ...               ...  ...                                                                                                                                    ...      ...              ...         ...          ...            ...   \n",
       "8083  University of California - Riverside (UCR)   Material Science and Engineering  $21,500     0.89      2015-2016     1st          $34,000        NaN           NaN           $12,500  NaN                                                                                                                                   2015    21500            34000         NaN          NaN          12500   \n",
       "8097  Texas Woman&#39;s University                 Sociology                         $6,363     NaN        2014-2015     5th          NaN            $14,454       $2,409        $10,500  Tuition and fees are roughly $3500 a semester for 2 courses. If you take 3 courses, it would be more. There are no tuition waivers.   2014    6363             NaN           14454        2409         10500   \n",
       "8174  University of Maryland - College Park (UMD)  Mechanical Engineering            $31,664     1.05      2015-2016     NaN          $43,990        NaN           NaN           $12,326  NaN                                                                                                                                   2015    31664            43990         NaN          NaN          12326   \n",
       "8175  University of Maryland - College Park (UMD)  Mechanical Engineering            $19,674     0.65      2015-2016     NaN          $32,000        NaN           NaN           $12,326  NaN                                                                                                                                   2015    19674            32000         NaN          NaN          12326   \n",
       "8389  NaN                                          NaN                               $-11,800   NaN        2014-2015     NaN          $2,200         NaN           NaN           $14,000  NaN                                                                                                                                   2014    -11800           2200          NaN          NaN          14000   \n",
       "\n",
       "[156 rows x 17 columns]"
      ]
     },
     "execution_count": 99,
     "metadata": {},
     "output_type": "execute_result"
    }
   ],
   "source": [
    "above_9k             # why the hell 41k fees for 1st year Neurosciences???"
   ]
  },
  {
   "cell_type": "code",
   "execution_count": 100,
   "metadata": {},
   "outputs": [
    {
     "data": {
      "text/plain": [
       "15"
      ]
     },
     "execution_count": 100,
     "metadata": {},
     "output_type": "execute_result"
    }
   ],
   "source": [
    "# -> how many students pay fees higher than 3'000 ?\n",
    "\n",
    "crazy_fees = stip.loc[stip['Fees_num']>50000]\n",
    "len(crazy_fees)"
   ]
  },
  {
   "cell_type": "code",
   "execution_count": 101,
   "metadata": {},
   "outputs": [
    {
     "data": {
      "text/html": [
       "<div>\n",
       "<style scoped>\n",
       "    .dataframe tbody tr th:only-of-type {\n",
       "        vertical-align: middle;\n",
       "    }\n",
       "\n",
       "    .dataframe tbody tr th {\n",
       "        vertical-align: top;\n",
       "    }\n",
       "\n",
       "    .dataframe thead th {\n",
       "        text-align: right;\n",
       "    }\n",
       "</style>\n",
       "<table border=\"1\" class=\"dataframe\">\n",
       "  <thead>\n",
       "    <tr style=\"text-align: right;\">\n",
       "      <th></th>\n",
       "      <th>University</th>\n",
       "      <th>Department</th>\n",
       "      <th>Overall_Pay</th>\n",
       "      <th>LW_Ratio</th>\n",
       "      <th>Academic_Year</th>\n",
       "      <th>Program_Year</th>\n",
       "      <th>12_M_Gross_Pay</th>\n",
       "      <th>9_M_Gross_Pay</th>\n",
       "      <th>3_M_Gross_Pay</th>\n",
       "      <th>Fees</th>\n",
       "      <th>Comments</th>\n",
       "      <th>Acad_Y</th>\n",
       "      <th>Overall_Pay_num</th>\n",
       "      <th>GrossPay_12M</th>\n",
       "      <th>GrossPay_9M</th>\n",
       "      <th>GrossPay_3M</th>\n",
       "      <th>Fees_num</th>\n",
       "    </tr>\n",
       "  </thead>\n",
       "  <tbody>\n",
       "    <tr>\n",
       "      <th>766</th>\n",
       "      <td>University of Chicago (UC)</td>\n",
       "      <td>Linguistics</td>\n",
       "      <td>$31,000</td>\n",
       "      <td>1.28</td>\n",
       "      <td>2020-2021</td>\n",
       "      <td>1st</td>\n",
       "      <td>$98,000</td>\n",
       "      <td>NaN</td>\n",
       "      <td>NaN</td>\n",
       "      <td>$67,000</td>\n",
       "      <td>NaN</td>\n",
       "      <td>2020</td>\n",
       "      <td>31000</td>\n",
       "      <td>98000</td>\n",
       "      <td>NaN</td>\n",
       "      <td>NaN</td>\n",
       "      <td>67000</td>\n",
       "    </tr>\n",
       "    <tr>\n",
       "      <th>767</th>\n",
       "      <td>Duke University (DU)</td>\n",
       "      <td>Nursing</td>\n",
       "      <td>$4,544</td>\n",
       "      <td>0.20</td>\n",
       "      <td>2020-2021</td>\n",
       "      <td>1st</td>\n",
       "      <td>$98,269</td>\n",
       "      <td>NaN</td>\n",
       "      <td>NaN</td>\n",
       "      <td>$93,725</td>\n",
       "      <td>NaN</td>\n",
       "      <td>2020</td>\n",
       "      <td>4544</td>\n",
       "      <td>98269</td>\n",
       "      <td>NaN</td>\n",
       "      <td>NaN</td>\n",
       "      <td>93725</td>\n",
       "    </tr>\n",
       "    <tr>\n",
       "      <th>1951</th>\n",
       "      <td>Johns Hopkins University (JHU)</td>\n",
       "      <td>Neuroscience</td>\n",
       "      <td>$-20,449</td>\n",
       "      <td>-0.80</td>\n",
       "      <td>2019-2020</td>\n",
       "      <td>2nd</td>\n",
       "      <td>$33,551</td>\n",
       "      <td>NaN</td>\n",
       "      <td>NaN</td>\n",
       "      <td>$54,000</td>\n",
       "      <td>NaN</td>\n",
       "      <td>2019</td>\n",
       "      <td>-20449</td>\n",
       "      <td>33551</td>\n",
       "      <td>NaN</td>\n",
       "      <td>NaN</td>\n",
       "      <td>54000</td>\n",
       "    </tr>\n",
       "    <tr>\n",
       "      <th>2223</th>\n",
       "      <td>Purdue University - West Lafayette</td>\n",
       "      <td>physics</td>\n",
       "      <td>$-80,000</td>\n",
       "      <td>-3.78</td>\n",
       "      <td>2019-2020</td>\n",
       "      <td>1st</td>\n",
       "      <td>$20,000</td>\n",
       "      <td>NaN</td>\n",
       "      <td>NaN</td>\n",
       "      <td>$100,000</td>\n",
       "      <td>NaN</td>\n",
       "      <td>2019</td>\n",
       "      <td>-80000</td>\n",
       "      <td>20000</td>\n",
       "      <td>NaN</td>\n",
       "      <td>NaN</td>\n",
       "      <td>100000</td>\n",
       "    </tr>\n",
       "    <tr>\n",
       "      <th>2550</th>\n",
       "      <td>University of Alberta</td>\n",
       "      <td>Earth and Atmospheric Sciences</td>\n",
       "      <td>$-32,208</td>\n",
       "      <td>NaN</td>\n",
       "      <td>2018-2019</td>\n",
       "      <td>1st</td>\n",
       "      <td>$24,000</td>\n",
       "      <td>NaN</td>\n",
       "      <td>NaN</td>\n",
       "      <td>$56,208</td>\n",
       "      <td>NaN</td>\n",
       "      <td>2018</td>\n",
       "      <td>-32208</td>\n",
       "      <td>24000</td>\n",
       "      <td>NaN</td>\n",
       "      <td>NaN</td>\n",
       "      <td>56208</td>\n",
       "    </tr>\n",
       "    <tr>\n",
       "      <th>2933</th>\n",
       "      <td>Princeton University</td>\n",
       "      <td>Geological Sciences</td>\n",
       "      <td>$40,900</td>\n",
       "      <td>1.61</td>\n",
       "      <td>2019-2020</td>\n",
       "      <td>1st</td>\n",
       "      <td>$94,670</td>\n",
       "      <td>NaN</td>\n",
       "      <td>NaN</td>\n",
       "      <td>$53,770</td>\n",
       "      <td>NaN</td>\n",
       "      <td>2019</td>\n",
       "      <td>40900</td>\n",
       "      <td>94670</td>\n",
       "      <td>NaN</td>\n",
       "      <td>NaN</td>\n",
       "      <td>53770</td>\n",
       "    </tr>\n",
       "    <tr>\n",
       "      <th>3350</th>\n",
       "      <td>University of California - San Diego (UCSD)</td>\n",
       "      <td>Information Technology</td>\n",
       "      <td>$-900,000</td>\n",
       "      <td>-34.01</td>\n",
       "      <td>2018-2019</td>\n",
       "      <td>2nd</td>\n",
       "      <td>$100,000</td>\n",
       "      <td>NaN</td>\n",
       "      <td>NaN</td>\n",
       "      <td>$1,000,000</td>\n",
       "      <td>NaN</td>\n",
       "      <td>2018</td>\n",
       "      <td>-900000</td>\n",
       "      <td>100000</td>\n",
       "      <td>NaN</td>\n",
       "      <td>NaN</td>\n",
       "      <td>1000000</td>\n",
       "    </tr>\n",
       "    <tr>\n",
       "      <th>3834</th>\n",
       "      <td>Virginia Tech</td>\n",
       "      <td>education</td>\n",
       "      <td>NaN</td>\n",
       "      <td>0.00</td>\n",
       "      <td>2019-2020</td>\n",
       "      <td>5th</td>\n",
       "      <td>$76,666</td>\n",
       "      <td>NaN</td>\n",
       "      <td>NaN</td>\n",
       "      <td>$76,666</td>\n",
       "      <td>7777</td>\n",
       "      <td>2019</td>\n",
       "      <td>NaN</td>\n",
       "      <td>76666</td>\n",
       "      <td>NaN</td>\n",
       "      <td>NaN</td>\n",
       "      <td>76666</td>\n",
       "    </tr>\n",
       "    <tr>\n",
       "      <th>5249</th>\n",
       "      <td>Princeton University</td>\n",
       "      <td>Political Science</td>\n",
       "      <td>$36,500</td>\n",
       "      <td>1.44</td>\n",
       "      <td>2017-2018</td>\n",
       "      <td>1st</td>\n",
       "      <td>$87,750</td>\n",
       "      <td>NaN</td>\n",
       "      <td>NaN</td>\n",
       "      <td>$51,250</td>\n",
       "      <td>NaN</td>\n",
       "      <td>2017</td>\n",
       "      <td>36500</td>\n",
       "      <td>87750</td>\n",
       "      <td>NaN</td>\n",
       "      <td>NaN</td>\n",
       "      <td>51250</td>\n",
       "    </tr>\n",
       "    <tr>\n",
       "      <th>5395</th>\n",
       "      <td>University of California - San Diego (UCSD)</td>\n",
       "      <td>Mechanical and Aerospace Engineering</td>\n",
       "      <td>$-30,237</td>\n",
       "      <td>-1.14</td>\n",
       "      <td>2016-2017</td>\n",
       "      <td>1st</td>\n",
       "      <td>$26,763</td>\n",
       "      <td>NaN</td>\n",
       "      <td>NaN</td>\n",
       "      <td>$57,000</td>\n",
       "      <td>NaN</td>\n",
       "      <td>2016</td>\n",
       "      <td>-30237</td>\n",
       "      <td>26763</td>\n",
       "      <td>NaN</td>\n",
       "      <td>NaN</td>\n",
       "      <td>57000</td>\n",
       "    </tr>\n",
       "    <tr>\n",
       "      <th>5555</th>\n",
       "      <td>NaN</td>\n",
       "      <td>NaN</td>\n",
       "      <td>$-59,999</td>\n",
       "      <td>NaN</td>\n",
       "      <td>2016-2017</td>\n",
       "      <td>NaN</td>\n",
       "      <td>$1</td>\n",
       "      <td>NaN</td>\n",
       "      <td>NaN</td>\n",
       "      <td>$60,000</td>\n",
       "      <td>Nothing to say</td>\n",
       "      <td>2016</td>\n",
       "      <td>-59999</td>\n",
       "      <td>1</td>\n",
       "      <td>NaN</td>\n",
       "      <td>NaN</td>\n",
       "      <td>60000</td>\n",
       "    </tr>\n",
       "    <tr>\n",
       "      <th>5556</th>\n",
       "      <td>NaN</td>\n",
       "      <td>NaN</td>\n",
       "      <td>$-59,999</td>\n",
       "      <td>NaN</td>\n",
       "      <td>2016-2017</td>\n",
       "      <td>NaN</td>\n",
       "      <td>$1</td>\n",
       "      <td>NaN</td>\n",
       "      <td>NaN</td>\n",
       "      <td>$60,000</td>\n",
       "      <td>Nothing to say</td>\n",
       "      <td>2016</td>\n",
       "      <td>-59999</td>\n",
       "      <td>1</td>\n",
       "      <td>NaN</td>\n",
       "      <td>NaN</td>\n",
       "      <td>60000</td>\n",
       "    </tr>\n",
       "    <tr>\n",
       "      <th>5849</th>\n",
       "      <td>University of Arizona (U of A)</td>\n",
       "      <td>Chemistry</td>\n",
       "      <td>$6,344</td>\n",
       "      <td>0.31</td>\n",
       "      <td>2017-2018</td>\n",
       "      <td>1st</td>\n",
       "      <td>NaN</td>\n",
       "      <td>$56,899</td>\n",
       "      <td>NaN</td>\n",
       "      <td>$50,555</td>\n",
       "      <td>NaN</td>\n",
       "      <td>2017</td>\n",
       "      <td>6344</td>\n",
       "      <td>NaN</td>\n",
       "      <td>56899</td>\n",
       "      <td>NaN</td>\n",
       "      <td>50555</td>\n",
       "    </tr>\n",
       "    <tr>\n",
       "      <th>7156</th>\n",
       "      <td>Rensselaer Polytechnic Institute (RPI)</td>\n",
       "      <td>department of mechanical engineering</td>\n",
       "      <td>NaN</td>\n",
       "      <td>0.00</td>\n",
       "      <td>2016-2017</td>\n",
       "      <td>NaN</td>\n",
       "      <td>$70,000</td>\n",
       "      <td>NaN</td>\n",
       "      <td>NaN</td>\n",
       "      <td>$70,000</td>\n",
       "      <td>NaN</td>\n",
       "      <td>2016</td>\n",
       "      <td>NaN</td>\n",
       "      <td>70000</td>\n",
       "      <td>NaN</td>\n",
       "      <td>NaN</td>\n",
       "      <td>70000</td>\n",
       "    </tr>\n",
       "    <tr>\n",
       "      <th>7854</th>\n",
       "      <td>Massachusetts Institute of Technology (MIT)</td>\n",
       "      <td>Environmental</td>\n",
       "      <td>$-73,344</td>\n",
       "      <td>-2.63</td>\n",
       "      <td>2015-2016</td>\n",
       "      <td>1st</td>\n",
       "      <td>$5,622</td>\n",
       "      <td>NaN</td>\n",
       "      <td>NaN</td>\n",
       "      <td>$78,966</td>\n",
       "      <td>NaN</td>\n",
       "      <td>2015</td>\n",
       "      <td>-73344</td>\n",
       "      <td>5622</td>\n",
       "      <td>NaN</td>\n",
       "      <td>NaN</td>\n",
       "      <td>78966</td>\n",
       "    </tr>\n",
       "  </tbody>\n",
       "</table>\n",
       "</div>"
      ],
      "text/plain": [
       "                                       University                            Department Overall_Pay  LW_Ratio Academic_Year Program_Year 12_M_Gross_Pay 9_M_Gross_Pay 3_M_Gross_Pay        Fees         Comments  Acad_Y  Overall_Pay_num  GrossPay_12M  GrossPay_9M  GrossPay_3M  Fees_num\n",
       "766   University of Chicago (UC)                   Linguistics                           $31,000     1.28      2020-2021     1st          $98,000        NaN           NaN           $67,000     NaN              2020    31000            98000         NaN          NaN          67000   \n",
       "767   Duke University (DU)                         Nursing                               $4,544      0.20      2020-2021     1st          $98,269        NaN           NaN           $93,725     NaN              2020    4544             98269         NaN          NaN          93725   \n",
       "1951  Johns Hopkins University (JHU)               Neuroscience                          $-20,449   -0.80      2019-2020     2nd          $33,551        NaN           NaN           $54,000     NaN              2019    -20449           33551         NaN          NaN          54000   \n",
       "2223  Purdue University - West Lafayette           physics                               $-80,000   -3.78      2019-2020     1st          $20,000        NaN           NaN           $100,000    NaN              2019    -80000           20000         NaN          NaN          100000  \n",
       "2550  University of Alberta                        Earth and Atmospheric Sciences        $-32,208   NaN        2018-2019     1st          $24,000        NaN           NaN           $56,208     NaN              2018    -32208           24000         NaN          NaN          56208   \n",
       "2933  Princeton University                         Geological Sciences                   $40,900     1.61      2019-2020     1st          $94,670        NaN           NaN           $53,770     NaN              2019    40900            94670         NaN          NaN          53770   \n",
       "3350  University of California - San Diego (UCSD)  Information Technology                $-900,000  -34.01     2018-2019     2nd          $100,000       NaN           NaN           $1,000,000  NaN              2018    -900000          100000        NaN          NaN          1000000 \n",
       "3834  Virginia Tech                                education                             NaN         0.00      2019-2020     5th          $76,666        NaN           NaN           $76,666     7777             2019    NaN              76666         NaN          NaN          76666   \n",
       "5249  Princeton University                         Political Science                     $36,500     1.44      2017-2018     1st          $87,750        NaN           NaN           $51,250     NaN              2017    36500            87750         NaN          NaN          51250   \n",
       "5395  University of California - San Diego (UCSD)  Mechanical and Aerospace Engineering  $-30,237   -1.14      2016-2017     1st          $26,763        NaN           NaN           $57,000     NaN              2016    -30237           26763         NaN          NaN          57000   \n",
       "5555  NaN                                          NaN                                   $-59,999   NaN        2016-2017     NaN          $1             NaN           NaN           $60,000     Nothing to say   2016    -59999           1             NaN          NaN          60000   \n",
       "5556  NaN                                          NaN                                   $-59,999   NaN        2016-2017     NaN          $1             NaN           NaN           $60,000     Nothing to say   2016    -59999           1             NaN          NaN          60000   \n",
       "5849  University of Arizona (U of A)               Chemistry                             $6,344      0.31      2017-2018     1st          NaN            $56,899       NaN           $50,555     NaN              2017    6344             NaN           56899        NaN          50555   \n",
       "7156  Rensselaer Polytechnic Institute (RPI)       department of mechanical engineering  NaN         0.00      2016-2017     NaN          $70,000        NaN           NaN           $70,000     NaN              2016    NaN              70000         NaN          NaN          70000   \n",
       "7854  Massachusetts Institute of Technology (MIT)  Environmental                         $-73,344   -2.63      2015-2016     1st          $5,622         NaN           NaN           $78,966     NaN              2015    -73344           5622          NaN          NaN          78966   "
      ]
     },
     "execution_count": 101,
     "metadata": {},
     "output_type": "execute_result"
    }
   ],
   "source": [
    "crazy_fees"
   ]
  },
  {
   "cell_type": "code",
   "execution_count": null,
   "metadata": {},
   "outputs": [],
   "source": []
  },
  {
   "cell_type": "code",
   "execution_count": null,
   "metadata": {},
   "outputs": [],
   "source": []
  },
  {
   "cell_type": "code",
   "execution_count": 102,
   "metadata": {},
   "outputs": [],
   "source": [
    "# relationship between 3/9/12 M Gross Pay Values ??\n",
    "# we know, what PhD students have earned in 3/9/12 months, but we always have just one of the 3 entries, right?!?!\n",
    "\n",
    "gross_pay_dup3_12 = stip.loc[stip['12_M_Gross_Pay'] == 4 * stip['3_M_Gross_Pay']]\n",
    "gross_pay_dup3_9 = stip.loc[stip['9_M_Gross_Pay'] == 3 * stip['3_M_Gross_Pay']]"
   ]
  },
  {
   "cell_type": "code",
   "execution_count": 103,
   "metadata": {},
   "outputs": [
    {
     "data": {
      "text/plain": [
       "0"
      ]
     },
     "execution_count": 103,
     "metadata": {},
     "output_type": "execute_result"
    }
   ],
   "source": [
    "len(gross_pay_dup3_12)"
   ]
  },
  {
   "cell_type": "code",
   "execution_count": 104,
   "metadata": {},
   "outputs": [
    {
     "data": {
      "text/plain": [
       "0"
      ]
     },
     "execution_count": 104,
     "metadata": {},
     "output_type": "execute_result"
    }
   ],
   "source": [
    "len(gross_pay_dup3_9)"
   ]
  },
  {
   "cell_type": "code",
   "execution_count": 105,
   "metadata": {},
   "outputs": [
    {
     "ename": "TypeError",
     "evalue": "unhashable type: 'Int64Index'",
     "output_type": "error",
     "traceback": [
      "\u001b[1;31m---------------------------------------------------------------------------\u001b[0m",
      "\u001b[1;31mTypeError\u001b[0m                                 Traceback (most recent call last)",
      "\u001b[1;32m<ipython-input-105-7c7b4158c99d>\u001b[0m in \u001b[0;36m<module>\u001b[1;34m\u001b[0m\n\u001b[1;32m----> 1\u001b[1;33m \u001b[0mgp_test\u001b[0m \u001b[1;33m=\u001b[0m \u001b[0mstip\u001b[0m\u001b[1;33m.\u001b[0m\u001b[0mloc\u001b[0m\u001b[1;33m(\u001b[0m\u001b[0mstip\u001b[0m\u001b[1;33m[\u001b[0m\u001b[1;33m(\u001b[0m\u001b[0mstip\u001b[0m\u001b[1;33m[\u001b[0m\u001b[1;34m'3_M_Gross_Pay'\u001b[0m\u001b[1;33m]\u001b[0m\u001b[1;33m.\u001b[0m\u001b[0misna\u001b[0m\u001b[1;33m(\u001b[0m\u001b[1;33m)\u001b[0m \u001b[1;33m==\u001b[0m \u001b[1;32mFalse\u001b[0m\u001b[1;33m)\u001b[0m \u001b[1;33m&\u001b[0m \u001b[1;33m(\u001b[0m\u001b[0mstip\u001b[0m\u001b[1;33m[\u001b[0m\u001b[1;34m'9_M_Gross_Pay'\u001b[0m\u001b[1;33m]\u001b[0m\u001b[1;33m.\u001b[0m\u001b[0misna\u001b[0m\u001b[1;33m(\u001b[0m\u001b[1;33m)\u001b[0m \u001b[1;33m==\u001b[0m \u001b[1;32mFalse\u001b[0m\u001b[1;33m)\u001b[0m\u001b[1;33m]\u001b[0m\u001b[1;33m.\u001b[0m\u001b[0mindex\u001b[0m\u001b[1;33m)\u001b[0m\u001b[1;33m\u001b[0m\u001b[1;33m\u001b[0m\u001b[0m\n\u001b[0m\u001b[0;32m      2\u001b[0m \u001b[1;33m\u001b[0m\u001b[0m\n\u001b[0;32m      3\u001b[0m \u001b[1;31m# hmmm.... let's try this another way ...\u001b[0m\u001b[1;33m\u001b[0m\u001b[1;33m\u001b[0m\u001b[1;33m\u001b[0m\u001b[0m\n",
      "\u001b[1;32m~\\AppData\\Roaming\\Python\\Python37\\site-packages\\pandas\\core\\indexing.py\u001b[0m in \u001b[0;36m__call__\u001b[1;34m(self, axis)\u001b[0m\n\u001b[0;32m    110\u001b[0m \u001b[1;33m\u001b[0m\u001b[0m\n\u001b[0;32m    111\u001b[0m         \u001b[1;32mif\u001b[0m \u001b[0maxis\u001b[0m \u001b[1;32mis\u001b[0m \u001b[1;32mnot\u001b[0m \u001b[1;32mNone\u001b[0m\u001b[1;33m:\u001b[0m\u001b[1;33m\u001b[0m\u001b[1;33m\u001b[0m\u001b[0m\n\u001b[1;32m--> 112\u001b[1;33m             \u001b[0maxis\u001b[0m \u001b[1;33m=\u001b[0m \u001b[0mself\u001b[0m\u001b[1;33m.\u001b[0m\u001b[0mobj\u001b[0m\u001b[1;33m.\u001b[0m\u001b[0m_get_axis_number\u001b[0m\u001b[1;33m(\u001b[0m\u001b[0maxis\u001b[0m\u001b[1;33m)\u001b[0m\u001b[1;33m\u001b[0m\u001b[1;33m\u001b[0m\u001b[0m\n\u001b[0m\u001b[0;32m    113\u001b[0m         \u001b[0mnew_self\u001b[0m\u001b[1;33m.\u001b[0m\u001b[0maxis\u001b[0m \u001b[1;33m=\u001b[0m \u001b[0maxis\u001b[0m\u001b[1;33m\u001b[0m\u001b[1;33m\u001b[0m\u001b[0m\n\u001b[0;32m    114\u001b[0m         \u001b[1;32mreturn\u001b[0m \u001b[0mnew_self\u001b[0m\u001b[1;33m\u001b[0m\u001b[1;33m\u001b[0m\u001b[0m\n",
      "\u001b[1;32m~\\AppData\\Roaming\\Python\\Python37\\site-packages\\pandas\\core\\generic.py\u001b[0m in \u001b[0;36m_get_axis_number\u001b[1;34m(cls, axis)\u001b[0m\n\u001b[0;32m    400\u001b[0m     \u001b[1;33m@\u001b[0m\u001b[0mclassmethod\u001b[0m\u001b[1;33m\u001b[0m\u001b[1;33m\u001b[0m\u001b[0m\n\u001b[0;32m    401\u001b[0m     \u001b[1;32mdef\u001b[0m \u001b[0m_get_axis_number\u001b[0m\u001b[1;33m(\u001b[0m\u001b[0mcls\u001b[0m\u001b[1;33m,\u001b[0m \u001b[0maxis\u001b[0m\u001b[1;33m)\u001b[0m\u001b[1;33m:\u001b[0m\u001b[1;33m\u001b[0m\u001b[1;33m\u001b[0m\u001b[0m\n\u001b[1;32m--> 402\u001b[1;33m         \u001b[0maxis\u001b[0m \u001b[1;33m=\u001b[0m \u001b[0mcls\u001b[0m\u001b[1;33m.\u001b[0m\u001b[0m_AXIS_ALIASES\u001b[0m\u001b[1;33m.\u001b[0m\u001b[0mget\u001b[0m\u001b[1;33m(\u001b[0m\u001b[0maxis\u001b[0m\u001b[1;33m,\u001b[0m \u001b[0maxis\u001b[0m\u001b[1;33m)\u001b[0m\u001b[1;33m\u001b[0m\u001b[1;33m\u001b[0m\u001b[0m\n\u001b[0m\u001b[0;32m    403\u001b[0m         \u001b[1;32mif\u001b[0m \u001b[0mis_integer\u001b[0m\u001b[1;33m(\u001b[0m\u001b[0maxis\u001b[0m\u001b[1;33m)\u001b[0m\u001b[1;33m:\u001b[0m\u001b[1;33m\u001b[0m\u001b[1;33m\u001b[0m\u001b[0m\n\u001b[0;32m    404\u001b[0m             \u001b[1;32mif\u001b[0m \u001b[0maxis\u001b[0m \u001b[1;32min\u001b[0m \u001b[0mcls\u001b[0m\u001b[1;33m.\u001b[0m\u001b[0m_AXIS_NAMES\u001b[0m\u001b[1;33m:\u001b[0m\u001b[1;33m\u001b[0m\u001b[1;33m\u001b[0m\u001b[0m\n",
      "\u001b[1;32m~\\AppData\\Roaming\\Python\\Python37\\site-packages\\pandas\\core\\indexes\\base.py\u001b[0m in \u001b[0;36m__hash__\u001b[1;34m(self)\u001b[0m\n\u001b[0;32m   4255\u001b[0m \u001b[1;33m\u001b[0m\u001b[0m\n\u001b[0;32m   4256\u001b[0m     \u001b[1;32mdef\u001b[0m \u001b[0m__hash__\u001b[0m\u001b[1;33m(\u001b[0m\u001b[0mself\u001b[0m\u001b[1;33m)\u001b[0m\u001b[1;33m:\u001b[0m\u001b[1;33m\u001b[0m\u001b[1;33m\u001b[0m\u001b[0m\n\u001b[1;32m-> 4257\u001b[1;33m         \u001b[1;32mraise\u001b[0m \u001b[0mTypeError\u001b[0m\u001b[1;33m(\u001b[0m\u001b[1;34m\"unhashable type: %r\"\u001b[0m \u001b[1;33m%\u001b[0m \u001b[0mtype\u001b[0m\u001b[1;33m(\u001b[0m\u001b[0mself\u001b[0m\u001b[1;33m)\u001b[0m\u001b[1;33m.\u001b[0m\u001b[0m__name__\u001b[0m\u001b[1;33m)\u001b[0m\u001b[1;33m\u001b[0m\u001b[1;33m\u001b[0m\u001b[0m\n\u001b[0m\u001b[0;32m   4258\u001b[0m \u001b[1;33m\u001b[0m\u001b[0m\n\u001b[0;32m   4259\u001b[0m     \u001b[1;32mdef\u001b[0m \u001b[0m__setitem__\u001b[0m\u001b[1;33m(\u001b[0m\u001b[0mself\u001b[0m\u001b[1;33m,\u001b[0m \u001b[0mkey\u001b[0m\u001b[1;33m,\u001b[0m \u001b[0mvalue\u001b[0m\u001b[1;33m)\u001b[0m\u001b[1;33m:\u001b[0m\u001b[1;33m\u001b[0m\u001b[1;33m\u001b[0m\u001b[0m\n",
      "\u001b[1;31mTypeError\u001b[0m: unhashable type: 'Int64Index'"
     ]
    }
   ],
   "source": [
    "gp_test = stip.loc(stip[(stip['3_M_Gross_Pay'].isna() == False) & (stip['9_M_Gross_Pay'].isna() == False)].index)\n",
    "\n",
    "# hmmm.... let's try this another way ... "
   ]
  },
  {
   "cell_type": "code",
   "execution_count": 106,
   "metadata": {},
   "outputs": [],
   "source": [
    "available_3M = stip.drop(stip[(stip['3_M_Gross_Pay'].isna() == True)].index)"
   ]
  },
  {
   "cell_type": "code",
   "execution_count": 107,
   "metadata": {},
   "outputs": [
    {
     "data": {
      "text/plain": [
       "798"
      ]
     },
     "execution_count": 107,
     "metadata": {},
     "output_type": "execute_result"
    }
   ],
   "source": [
    "len(available_3M)"
   ]
  },
  {
   "cell_type": "code",
   "execution_count": 108,
   "metadata": {},
   "outputs": [
    {
     "data": {
      "text/plain": [
       "$18,000    49\n",
       "$20,000    49\n",
       "$25,000    40\n",
       "$21,000    26\n",
       "$24,000    25\n",
       "           ..\n",
       "$13,212    1 \n",
       "$6,000     1 \n",
       "$20,699    1 \n",
       "$22,100    1 \n",
       "NaN        1 \n",
       "Name: 9_M_Gross_Pay, Length: 329, dtype: int64"
      ]
     },
     "execution_count": 108,
     "metadata": {},
     "output_type": "execute_result"
    }
   ],
   "source": [
    "# -> it looks like we have 329 observations with a value != NaN for both 3M and 9M gross pay!?!\n",
    "\n",
    "available_3M['9_M_Gross_Pay'].value_counts(dropna=False)"
   ]
  },
  {
   "cell_type": "code",
   "execution_count": null,
   "metadata": {},
   "outputs": [],
   "source": []
  },
  {
   "cell_type": "code",
   "execution_count": 109,
   "metadata": {},
   "outputs": [
    {
     "data": {
      "text/plain": [
       "6209"
      ]
     },
     "execution_count": 109,
     "metadata": {},
     "output_type": "execute_result"
    }
   ],
   "source": [
    "# question: if we have earnings for 12M, do we have earnings for 9M as well in some cases??\n",
    "\n",
    "available_12M = stip.drop(stip[(stip['12_M_Gross_Pay'].isna() == True)].index)\n",
    "len(available_12M)"
   ]
  },
  {
   "cell_type": "code",
   "execution_count": 110,
   "metadata": {},
   "outputs": [
    {
     "data": {
      "text/html": [
       "<div>\n",
       "<style scoped>\n",
       "    .dataframe tbody tr th:only-of-type {\n",
       "        vertical-align: middle;\n",
       "    }\n",
       "\n",
       "    .dataframe tbody tr th {\n",
       "        vertical-align: top;\n",
       "    }\n",
       "\n",
       "    .dataframe thead th {\n",
       "        text-align: right;\n",
       "    }\n",
       "</style>\n",
       "<table border=\"1\" class=\"dataframe\">\n",
       "  <thead>\n",
       "    <tr style=\"text-align: right;\">\n",
       "      <th></th>\n",
       "      <th>University</th>\n",
       "      <th>Department</th>\n",
       "      <th>Overall_Pay</th>\n",
       "      <th>LW_Ratio</th>\n",
       "      <th>Academic_Year</th>\n",
       "      <th>Program_Year</th>\n",
       "      <th>12_M_Gross_Pay</th>\n",
       "      <th>9_M_Gross_Pay</th>\n",
       "      <th>3_M_Gross_Pay</th>\n",
       "      <th>Fees</th>\n",
       "      <th>Comments</th>\n",
       "      <th>Acad_Y</th>\n",
       "      <th>Overall_Pay_num</th>\n",
       "      <th>GrossPay_12M</th>\n",
       "      <th>GrossPay_9M</th>\n",
       "      <th>GrossPay_3M</th>\n",
       "      <th>Fees_num</th>\n",
       "    </tr>\n",
       "  </thead>\n",
       "  <tbody>\n",
       "    <tr>\n",
       "      <th>3</th>\n",
       "      <td>University of Florida</td>\n",
       "      <td>ECE</td>\n",
       "      <td>$22,600</td>\n",
       "      <td>NaN</td>\n",
       "      <td>2020-2021</td>\n",
       "      <td>1st</td>\n",
       "      <td>$24,000</td>\n",
       "      <td>NaN</td>\n",
       "      <td>NaN</td>\n",
       "      <td>$1,400</td>\n",
       "      <td>NaN</td>\n",
       "      <td>2020</td>\n",
       "      <td>22600</td>\n",
       "      <td>24000</td>\n",
       "      <td>NaN</td>\n",
       "      <td>NaN</td>\n",
       "      <td>1400</td>\n",
       "    </tr>\n",
       "    <tr>\n",
       "      <th>4</th>\n",
       "      <td>University of Virginia (UVA)</td>\n",
       "      <td>ECE</td>\n",
       "      <td>$26,000</td>\n",
       "      <td>1.14</td>\n",
       "      <td>2020-2021</td>\n",
       "      <td>1st</td>\n",
       "      <td>$26,000</td>\n",
       "      <td>NaN</td>\n",
       "      <td>NaN</td>\n",
       "      <td>NaN</td>\n",
       "      <td>NaN</td>\n",
       "      <td>2020</td>\n",
       "      <td>26000</td>\n",
       "      <td>26000</td>\n",
       "      <td>NaN</td>\n",
       "      <td>NaN</td>\n",
       "      <td>NaN</td>\n",
       "    </tr>\n",
       "    <tr>\n",
       "      <th>5</th>\n",
       "      <td>University of Wisconsin - Madison (UW)</td>\n",
       "      <td>NaN</td>\n",
       "      <td>$27,333</td>\n",
       "      <td>1.20</td>\n",
       "      <td>2020-2021</td>\n",
       "      <td>NaN</td>\n",
       "      <td>$27,333</td>\n",
       "      <td>NaN</td>\n",
       "      <td>NaN</td>\n",
       "      <td>NaN</td>\n",
       "      <td>NaN</td>\n",
       "      <td>2020</td>\n",
       "      <td>27333</td>\n",
       "      <td>27333</td>\n",
       "      <td>NaN</td>\n",
       "      <td>NaN</td>\n",
       "      <td>NaN</td>\n",
       "    </tr>\n",
       "    <tr>\n",
       "      <th>6</th>\n",
       "      <td>Washington University in St. Louis (Wash U)</td>\n",
       "      <td>olin</td>\n",
       "      <td>$35,000</td>\n",
       "      <td>1.69</td>\n",
       "      <td>2020-2021</td>\n",
       "      <td>1st</td>\n",
       "      <td>$35,000</td>\n",
       "      <td>NaN</td>\n",
       "      <td>NaN</td>\n",
       "      <td>NaN</td>\n",
       "      <td>NaN</td>\n",
       "      <td>2020</td>\n",
       "      <td>35000</td>\n",
       "      <td>35000</td>\n",
       "      <td>NaN</td>\n",
       "      <td>NaN</td>\n",
       "      <td>NaN</td>\n",
       "    </tr>\n",
       "    <tr>\n",
       "      <th>11</th>\n",
       "      <td>Wright State University (WSU)</td>\n",
       "      <td>BMS</td>\n",
       "      <td>$21,157</td>\n",
       "      <td>1.07</td>\n",
       "      <td>2020-2021</td>\n",
       "      <td>1st</td>\n",
       "      <td>$23,157</td>\n",
       "      <td>NaN</td>\n",
       "      <td>NaN</td>\n",
       "      <td>$2,000</td>\n",
       "      <td>NaN</td>\n",
       "      <td>2020</td>\n",
       "      <td>21157</td>\n",
       "      <td>23157</td>\n",
       "      <td>NaN</td>\n",
       "      <td>NaN</td>\n",
       "      <td>2000</td>\n",
       "    </tr>\n",
       "    <tr>\n",
       "      <th>...</th>\n",
       "      <td>...</td>\n",
       "      <td>...</td>\n",
       "      <td>...</td>\n",
       "      <td>...</td>\n",
       "      <td>...</td>\n",
       "      <td>...</td>\n",
       "      <td>...</td>\n",
       "      <td>...</td>\n",
       "      <td>...</td>\n",
       "      <td>...</td>\n",
       "      <td>...</td>\n",
       "      <td>...</td>\n",
       "      <td>...</td>\n",
       "      <td>...</td>\n",
       "      <td>...</td>\n",
       "      <td>...</td>\n",
       "      <td>...</td>\n",
       "    </tr>\n",
       "    <tr>\n",
       "      <th>8702</th>\n",
       "      <td>Duke University (DU)</td>\n",
       "      <td>Biochemistry</td>\n",
       "      <td>$29,840</td>\n",
       "      <td>1.59</td>\n",
       "      <td>2012-2013</td>\n",
       "      <td>6th and up</td>\n",
       "      <td>$29,840</td>\n",
       "      <td>NaN</td>\n",
       "      <td>NaN</td>\n",
       "      <td>NaN</td>\n",
       "      <td>NaN</td>\n",
       "      <td>2012</td>\n",
       "      <td>29840</td>\n",
       "      <td>29840</td>\n",
       "      <td>NaN</td>\n",
       "      <td>NaN</td>\n",
       "      <td>NaN</td>\n",
       "    </tr>\n",
       "    <tr>\n",
       "      <th>8703</th>\n",
       "      <td>University of Virginia (UVA)</td>\n",
       "      <td>Chemical Engineering</td>\n",
       "      <td>$32,000</td>\n",
       "      <td>1.63</td>\n",
       "      <td>2013-2014</td>\n",
       "      <td>4th</td>\n",
       "      <td>$32,000</td>\n",
       "      <td>NaN</td>\n",
       "      <td>NaN</td>\n",
       "      <td>NaN</td>\n",
       "      <td>This includes health insurance coverage, tuition, fees/etc. This is from an NSF Graduate Student Fellowship.</td>\n",
       "      <td>2013</td>\n",
       "      <td>32000</td>\n",
       "      <td>32000</td>\n",
       "      <td>NaN</td>\n",
       "      <td>NaN</td>\n",
       "      <td>NaN</td>\n",
       "    </tr>\n",
       "    <tr>\n",
       "      <th>8704</th>\n",
       "      <td>Duke University (DU)</td>\n",
       "      <td>Biomedical Engineering</td>\n",
       "      <td>$32,000</td>\n",
       "      <td>1.70</td>\n",
       "      <td>2013-2014</td>\n",
       "      <td>2nd</td>\n",
       "      <td>$32,000</td>\n",
       "      <td>NaN</td>\n",
       "      <td>NaN</td>\n",
       "      <td>NaN</td>\n",
       "      <td>This is the stipend associated with the NSF Fellowship.</td>\n",
       "      <td>2013</td>\n",
       "      <td>32000</td>\n",
       "      <td>32000</td>\n",
       "      <td>NaN</td>\n",
       "      <td>NaN</td>\n",
       "      <td>NaN</td>\n",
       "    </tr>\n",
       "    <tr>\n",
       "      <th>8705</th>\n",
       "      <td>University of Virginia (UVA)</td>\n",
       "      <td>Chemical Engineering</td>\n",
       "      <td>$25,000</td>\n",
       "      <td>1.28</td>\n",
       "      <td>2013-2014</td>\n",
       "      <td>4th</td>\n",
       "      <td>$25,000</td>\n",
       "      <td>NaN</td>\n",
       "      <td>NaN</td>\n",
       "      <td>NaN</td>\n",
       "      <td>This stipend includes full health insurance coverage, student fees, tuition, and a gym membership to the University's athletic center.</td>\n",
       "      <td>2013</td>\n",
       "      <td>25000</td>\n",
       "      <td>25000</td>\n",
       "      <td>NaN</td>\n",
       "      <td>NaN</td>\n",
       "      <td>NaN</td>\n",
       "    </tr>\n",
       "    <tr>\n",
       "      <th>8706</th>\n",
       "      <td>Duke University (DU)</td>\n",
       "      <td>Biomedical Engineering</td>\n",
       "      <td>$27,850</td>\n",
       "      <td>1.48</td>\n",
       "      <td>2013-2014</td>\n",
       "      <td>6th and up</td>\n",
       "      <td>$27,850</td>\n",
       "      <td>NaN</td>\n",
       "      <td>NaN</td>\n",
       "      <td>NaN</td>\n",
       "      <td>I just receive the base stipend in my department.  It is quite easy to live in Durham on this stipend, especially if you have a roommate and no car payment.  I will graduate with substantial savings, actually.</td>\n",
       "      <td>2013</td>\n",
       "      <td>27850</td>\n",
       "      <td>27850</td>\n",
       "      <td>NaN</td>\n",
       "      <td>NaN</td>\n",
       "      <td>NaN</td>\n",
       "    </tr>\n",
       "  </tbody>\n",
       "</table>\n",
       "<p>6209 rows × 17 columns</p>\n",
       "</div>"
      ],
      "text/plain": [
       "                                       University              Department Overall_Pay  LW_Ratio Academic_Year Program_Year 12_M_Gross_Pay 9_M_Gross_Pay 3_M_Gross_Pay    Fees                                                                                                                                                                                                           Comments  Acad_Y  Overall_Pay_num  GrossPay_12M  GrossPay_9M  GrossPay_3M  Fees_num\n",
       "3     University of Florida                        ECE                     $22,600    NaN        2020-2021     1st          $24,000        NaN           NaN           $1,400  NaN                                                                                                                                                                                                                2020    22600            24000         NaN          NaN          1400    \n",
       "4     University of Virginia (UVA)                 ECE                     $26,000     1.14      2020-2021     1st          $26,000        NaN           NaN           NaN     NaN                                                                                                                                                                                                                2020    26000            26000         NaN          NaN          NaN     \n",
       "5     University of Wisconsin - Madison (UW)       NaN                     $27,333     1.20      2020-2021     NaN          $27,333        NaN           NaN           NaN     NaN                                                                                                                                                                                                                2020    27333            27333         NaN          NaN          NaN     \n",
       "6     Washington University in St. Louis (Wash U)  olin                    $35,000     1.69      2020-2021     1st          $35,000        NaN           NaN           NaN     NaN                                                                                                                                                                                                                2020    35000            35000         NaN          NaN          NaN     \n",
       "11    Wright State University (WSU)                BMS                     $21,157     1.07      2020-2021     1st          $23,157        NaN           NaN           $2,000  NaN                                                                                                                                                                                                                2020    21157            23157         NaN          NaN          2000    \n",
       "...                             ...                ...                         ...      ...            ...     ...              ...        ...           ...              ...  ...                                                                                                                                                                                                                 ...      ...              ...         ...          ...           ...    \n",
       "8702  Duke University (DU)                         Biochemistry            $29,840     1.59      2012-2013     6th and up   $29,840        NaN           NaN           NaN     NaN                                                                                                                                                                                                                2012    29840            29840         NaN          NaN          NaN     \n",
       "8703  University of Virginia (UVA)                 Chemical Engineering    $32,000     1.63      2013-2014     4th          $32,000        NaN           NaN           NaN     This includes health insurance coverage, tuition, fees/etc. This is from an NSF Graduate Student Fellowship.                                                                                                       2013    32000            32000         NaN          NaN          NaN     \n",
       "8704  Duke University (DU)                         Biomedical Engineering  $32,000     1.70      2013-2014     2nd          $32,000        NaN           NaN           NaN     This is the stipend associated with the NSF Fellowship.                                                                                                                                                            2013    32000            32000         NaN          NaN          NaN     \n",
       "8705  University of Virginia (UVA)                 Chemical Engineering    $25,000     1.28      2013-2014     4th          $25,000        NaN           NaN           NaN     This stipend includes full health insurance coverage, student fees, tuition, and a gym membership to the University's athletic center.                                                                             2013    25000            25000         NaN          NaN          NaN     \n",
       "8706  Duke University (DU)                         Biomedical Engineering  $27,850     1.48      2013-2014     6th and up   $27,850        NaN           NaN           NaN     I just receive the base stipend in my department.  It is quite easy to live in Durham on this stipend, especially if you have a roommate and no car payment.  I will graduate with substantial savings, actually.  2013    27850            27850         NaN          NaN          NaN     \n",
       "\n",
       "[6209 rows x 17 columns]"
      ]
     },
     "execution_count": 110,
     "metadata": {},
     "output_type": "execute_result"
    }
   ],
   "source": [
    "available_12M"
   ]
  },
  {
   "cell_type": "code",
   "execution_count": 111,
   "metadata": {},
   "outputs": [
    {
     "data": {
      "text/plain": [
       "array([nan], dtype=object)"
      ]
     },
     "execution_count": 111,
     "metadata": {},
     "output_type": "execute_result"
    }
   ],
   "source": [
    "available_12M['9_M_Gross_Pay'].unique()"
   ]
  },
  {
   "cell_type": "code",
   "execution_count": 112,
   "metadata": {},
   "outputs": [
    {
     "data": {
      "text/plain": [
       "NaN    6209\n",
       "Name: 9_M_Gross_Pay, dtype: int64"
      ]
     },
     "execution_count": 112,
     "metadata": {},
     "output_type": "execute_result"
    }
   ],
   "source": [
    "available_12M['9_M_Gross_Pay'].value_counts(dropna=False)"
   ]
  },
  {
   "cell_type": "code",
   "execution_count": 113,
   "metadata": {},
   "outputs": [
    {
     "data": {
      "text/plain": [
       "NaN    6209\n",
       "Name: 3_M_Gross_Pay, dtype: int64"
      ]
     },
     "execution_count": 113,
     "metadata": {},
     "output_type": "execute_result"
    }
   ],
   "source": [
    "available_12M['3_M_Gross_Pay'].value_counts(dropna=False)"
   ]
  },
  {
   "cell_type": "code",
   "execution_count": null,
   "metadata": {},
   "outputs": [],
   "source": []
  },
  {
   "cell_type": "code",
   "execution_count": null,
   "metadata": {},
   "outputs": [],
   "source": []
  },
  {
   "cell_type": "code",
   "execution_count": null,
   "metadata": {},
   "outputs": [],
   "source": []
  },
  {
   "cell_type": "code",
   "execution_count": null,
   "metadata": {},
   "outputs": [],
   "source": []
  },
  {
   "cell_type": "code",
   "execution_count": 114,
   "metadata": {},
   "outputs": [
    {
     "data": {
      "text/plain": [
       "count    7796.000000\n",
       "mean     1.075777   \n",
       "std      0.828874   \n",
       "min     -34.010000  \n",
       "25%      0.850000   \n",
       "50%      1.100000   \n",
       "75%      1.300000   \n",
       "max      40.970000  \n",
       "Name: LW_Ratio, dtype: float64"
      ]
     },
     "execution_count": 114,
     "metadata": {},
     "output_type": "execute_result"
    }
   ],
   "source": [
    "stip.LW_Ratio.describe()"
   ]
  },
  {
   "cell_type": "code",
   "execution_count": 115,
   "metadata": {},
   "outputs": [
    {
     "data": {
      "text/plain": [
       "(-4.018, 10.978]      7787\n",
       "(10.978, 25.974]      7   \n",
       "(25.974, 40.97]       1   \n",
       "(-34.086, -19.014]    1   \n",
       "(-19.014, -4.018]     0   \n",
       "Name: LW_Ratio, dtype: int64"
      ]
     },
     "execution_count": 115,
     "metadata": {},
     "output_type": "execute_result"
    }
   ],
   "source": [
    "stip.LW_Ratio.value_counts(bins=5)"
   ]
  },
  {
   "cell_type": "code",
   "execution_count": null,
   "metadata": {},
   "outputs": [],
   "source": []
  },
  {
   "cell_type": "markdown",
   "metadata": {},
   "source": [
    "# DATA CLEANING"
   ]
  },
  {
   "cell_type": "code",
   "execution_count": 116,
   "metadata": {},
   "outputs": [
    {
     "data": {
      "text/plain": [
       "(8706, 17)"
      ]
     },
     "execution_count": 116,
     "metadata": {},
     "output_type": "execute_result"
    }
   ],
   "source": [
    "# delete the observation of the 1 million fee guy\n",
    "\n",
    "stip = stip.drop(stip[(stip.Fees_num == 1000000)].index)\n",
    "stip.shape"
   ]
  },
  {
   "cell_type": "code",
   "execution_count": 117,
   "metadata": {},
   "outputs": [
    {
     "name": "stderr",
     "output_type": "stream",
     "text": [
      "C:\\Users\\Diana Roccaro\\AppData\\Roaming\\Python\\Python37\\site-packages\\numpy\\lib\\histograms.py:839: RuntimeWarning: invalid value encountered in greater_equal\n",
      "  keep = (tmp_a >= first_edge)\n",
      "C:\\Users\\Diana Roccaro\\AppData\\Roaming\\Python\\Python37\\site-packages\\numpy\\lib\\histograms.py:840: RuntimeWarning: invalid value encountered in less_equal\n",
      "  keep &= (tmp_a <= last_edge)\n"
     ]
    },
    {
     "data": {
      "text/plain": [
       "(array([3.216e+03, 6.400e+01, 1.700e+01, 2.500e+01, 1.500e+01, 8.000e+00,\n",
       "        2.000e+00, 2.000e+00, 0.000e+00, 2.000e+00]),\n",
       " array([1.0, 10000.9, 20000.8, 30000.699999999997, 40000.6, 50000.5,\n",
       "        60000.399999999994, 70000.3, 80000.2, 90000.09999999999, 100000.0],\n",
       "       dtype=object),\n",
       " <a list of 10 Patch objects>)"
      ]
     },
     "execution_count": 117,
     "metadata": {},
     "output_type": "execute_result"
    },
    {
     "data": {
      "image/png": "[encoded data removed]",
      "text/plain": [
       "<Figure size 432x288 with 1 Axes>"
      ]
     },
     "metadata": {
      "needs_background": "light"
     },
     "output_type": "display_data"
    }
   ],
   "source": [
    "plt.hist(stip.Fees_num, log=True) # -> log scale would be nicer -> much better :)"
   ]
  },
  {
   "cell_type": "code",
   "execution_count": null,
   "metadata": {},
   "outputs": [],
   "source": []
  },
  {
   "cell_type": "code",
   "execution_count": null,
   "metadata": {},
   "outputs": [],
   "source": []
  },
  {
   "cell_type": "markdown",
   "metadata": {},
   "source": [
    "CATEGORICAL VARIABLE CLEANING"
   ]
  },
  {
   "cell_type": "code",
   "execution_count": 118,
   "metadata": {},
   "outputs": [
    {
     "data": {
      "text/plain": [
       "NaN                                                 263\n",
       "Duke University (DU)                                172\n",
       "University of North Carolina - Chapel Hill (UNC)    146\n",
       "University of California - Berkeley                 140\n",
       "University of Michigan - Ann Arbor (UM)             135\n",
       "                                                   ... \n",
       "Aarhus University                                   1  \n",
       "Creighton University (CU)                           1  \n",
       "UC Davis                                            1  \n",
       "DePaul University                                   1  \n",
       "Eastern Virginia Medical School                     1  \n",
       "Name: University, Length: 693, dtype: int64"
      ]
     },
     "execution_count": 118,
     "metadata": {},
     "output_type": "execute_result"
    }
   ],
   "source": [
    "stip.University.value_counts(dropna=False)"
   ]
  },
  {
   "cell_type": "code",
   "execution_count": 119,
   "metadata": {},
   "outputs": [
    {
     "data": {
      "text/plain": [
       "NaN                                                 0.030209\n",
       "Duke University (DU)                                0.019756\n",
       "University of North Carolina - Chapel Hill (UNC)    0.016770\n",
       "University of California - Berkeley                 0.016081\n",
       "University of Michigan - Ann Arbor (UM)             0.015507\n",
       "                                                      ...   \n",
       "Aarhus University                                   0.000115\n",
       "Creighton University (CU)                           0.000115\n",
       "UC Davis                                            0.000115\n",
       "DePaul University                                   0.000115\n",
       "Eastern Virginia Medical School                     0.000115\n",
       "Name: University, Length: 693, dtype: float64"
      ]
     },
     "execution_count": 119,
     "metadata": {},
     "output_type": "execute_result"
    }
   ],
   "source": [
    "# even the\n",
    "\n",
    "stip.University.value_counts(dropna=False, normalize=True)"
   ]
  },
  {
   "cell_type": "code",
   "execution_count": 134,
   "metadata": {},
   "outputs": [
    {
     "data": {
      "text/plain": [
       "NaN                                                  0.030209\n",
       "Duke University (DU)                                 0.019756\n",
       "University of North Carolina - Chapel Hill (UNC)     0.016770\n",
       "University of California - Berkeley                  0.016081\n",
       "University of Michigan - Ann Arbor (UM)              0.015507\n",
       "University of Wisconsin - Madison (UW)               0.015047\n",
       "University of Southern California (USC)              0.014473\n",
       "University of Illinois - Urbana- Champaign (UIUC)    0.014243\n",
       "University of California - San Diego (UCSD)          0.013669\n",
       "University of Pennsylvania                           0.013554\n",
       "Stanford University (SU)                             0.013439\n",
       "University of Texas - Austin (UT)                    0.013209\n",
       "Northwestern University (NU)                         0.013094\n",
       "University of Minnesota - Twin Cities (UM)           0.012750\n",
       "Pennsylvania State University (Penn State)           0.012520\n",
       "University of Chicago (UC)                           0.012176\n",
       "University of California - Los Angeles (UCLA)        0.012176\n",
       "Georgia Institute of Technology (Georgia Tech)       0.012061\n",
       "Harvard University (HU)                              0.012061\n",
       "Cornell University (CU)                              0.011946\n",
       "Emory University                                     0.011831\n",
       "Yale University (YU)                                 0.011257\n",
       "University of Washington (UW)                        0.010912\n",
       "University of Kentucky (UK)                          0.010797\n",
       "Indiana University                                   0.010453\n",
       "Massachusetts Institute of Technology (MIT)          0.010338\n",
       "University of Maryland - College Park (UMD)          0.009763\n",
       "Johns Hopkins University (JHU)                       0.009649\n",
       "University of Virginia (UVA)                         0.009649\n",
       "Ohio State University (OSU)                          0.009419\n",
       "Name: University, dtype: float64"
      ]
     },
     "execution_count": 134,
     "metadata": {},
     "output_type": "execute_result"
    }
   ],
   "source": [
    "stip.University.value_counts(dropna=False, normalize=True).sort_values(ascending=False)[0:30]"
   ]
  },
  {
   "cell_type": "code",
   "execution_count": 148,
   "metadata": {},
   "outputs": [
    {
     "data": {
      "text/plain": [
       "<matplotlib.axes._subplots.AxesSubplot at 0x236d1c285f8>"
      ]
     },
     "execution_count": 148,
     "metadata": {},
     "output_type": "execute_result"
    },
    {
     "data": {
      "image/png": "[encoded data removed]",
      "text/plain": [
       "<Figure size 1296x360 with 1 Axes>"
      ]
     },
     "metadata": {},
     "output_type": "display_data"
    }
   ],
   "source": [
    "stip.University.value_counts()[0:100].plot(kind=\"bar\", figsize=(18,5))"
   ]
  },
  {
   "cell_type": "code",
   "execution_count": 135,
   "metadata": {},
   "outputs": [
    {
     "data": {
      "text/plain": [
       "Arizona State University (ASU)                                0.009304\n",
       "Princeton University                                          0.009189\n",
       "Purdue University - West Lafayette                            0.009074\n",
       "Vanderbilt University                                         0.008730\n",
       "University of Florida (UF)                                    0.008730\n",
       "New York University (NYU)                                     0.008730\n",
       "Drexel University (DU)                                        0.008500\n",
       "Boston University (BU)                                        0.008385\n",
       "University of Colorado - Boulder (UCB)                        0.008385\n",
       "University of Rochester (UR)                                  0.007926\n",
       "University of California - Davis (UCD)                        0.007926\n",
       "Washington University in St. Louis (Wash U)                   0.007466\n",
       "Michigan State University (MSU)                               0.006892\n",
       "University of California - Irvine (UCI)                       0.006662\n",
       "Texas A&amp;M; University - College Station                   0.006662\n",
       "University of Pittsburgh                                      0.006547\n",
       "Rice University                                               0.006432\n",
       "University of Utah                                            0.006203\n",
       "University of Tennessee - Knoxville                           0.006203\n",
       "University of Notre Dame (ND)                                 0.006088\n",
       "North Carolina State University (NCSU)                        0.006088\n",
       "Carnegie Mellon University (CMU)                              0.006088\n",
       "Rutgers the State University of New Jersey - New Brunswick    0.006088\n",
       "Stony Brook University - SUNY                                 0.005973\n",
       "Brown University                                              0.005858\n",
       "University of Delaware (UD)                                   0.005858\n",
       "Temple University (TU)                                        0.005743\n",
       "University of Arizona (U of A)                                0.005628\n",
       "Virginia Tech                                                 0.005628\n",
       "Name: University, dtype: float64"
      ]
     },
     "execution_count": 135,
     "metadata": {},
     "output_type": "execute_result"
    }
   ],
   "source": [
    "stip.University.value_counts(dropna=False, normalize=True).sort_values(ascending=False)[31:60]"
   ]
  },
  {
   "cell_type": "code",
   "execution_count": 136,
   "metadata": {},
   "outputs": [
    {
     "data": {
      "text/plain": [
       "Eastern Virginia Medical School            0.000115\n",
       "University of Kent, Canterbury             0.000115\n",
       "nit                                        0.000115\n",
       "London School of Economics                 0.000115\n",
       "National Technical University of Athens    0.000115\n",
       "Universidade Federal de Sao Paulo          0.000115\n",
       "Inrs                                       0.000115\n",
       "Sofia University                           0.000115\n",
       "Villanova                                  0.000115\n",
       "Anna University                            0.000115\n",
       "Sorbonne - Paris VI                        0.000115\n",
       "University of Windsor                      0.000115\n",
       "university of Massachusetts Amherst        0.000115\n",
       "HHMI Janelia Research Campus               0.000115\n",
       "Massey University (New Zealand)            0.000115\n",
       "Weill Cornell                              0.000115\n",
       "Penn State College of Medicine             0.000115\n",
       "University of Tartu                        0.000115\n",
       "Columbia Teachers College                  0.000115\n",
       "university of  Maryland                    0.000115\n",
       "West Virginia university                   0.000115\n",
       "UCLa                                       0.000115\n",
       "university of alaska anchorage             0.000115\n",
       "CUNY - Baruch College                      0.000115\n",
       "Goldsmiths                                 0.000115\n",
       "University of vermont                      0.000115\n",
       "HNGU UNIVERSITY PATAN                      0.000115\n",
       "Saint Jude                                 0.000115\n",
       "University of Bar                          0.000115\n",
       "The Francis Crick Institute (UK)           0.000115\n",
       "Name: University, dtype: float64"
      ]
     },
     "execution_count": 136,
     "metadata": {},
     "output_type": "execute_result"
    }
   ],
   "source": [
    "# just delete these rows out for any comparison of different universities!! Cleaning not worthwile !!! ;)\n",
    "# 0.0115 % = 1 single observation each !!!\n",
    "\n",
    "stip.University.value_counts(dropna=False, normalize=True).sort_values()[0:30]"
   ]
  },
  {
   "cell_type": "code",
   "execution_count": 138,
   "metadata": {},
   "outputs": [
    {
     "data": {
      "text/plain": [
       "Texas Woman's University        1\n",
       " Clark University               1\n",
       "University of Nottingham, UK    1\n",
       "Unoversity of illinois          1\n",
       "Tribhuvan University            1\n",
       "                               ..\n",
       "Rutgers University              1\n",
       "Unniversity of Hawaii Manoa     1\n",
       "Clark University                1\n",
       "Pacifica Graduate Institute     1\n",
       "esf                             1\n",
       "Name: University, Length: 68, dtype: int64"
      ]
     },
     "execution_count": 138,
     "metadata": {},
     "output_type": "execute_result"
    }
   ],
   "source": [
    "# just delete these rows out for any comparison of different universities!! Cleaning not worthwile !!! ;)\n",
    "\n",
    "stip.University.value_counts(dropna=False).sort_values()[31:99]"
   ]
  },
  {
   "cell_type": "code",
   "execution_count": 139,
   "metadata": {},
   "outputs": [
    {
     "data": {
      "text/plain": [
       "NaN                                                 263\n",
       "Duke University (DU)                                172\n",
       "University of North Carolina - Chapel Hill (UNC)    146\n",
       "University of California - Berkeley                 140\n",
       "University of Michigan - Ann Arbor (UM)             135\n",
       "                                                   ... \n",
       "Aarhus University                                   1  \n",
       "Creighton University (CU)                           1  \n",
       "UC Davis                                            1  \n",
       "DePaul University                                   1  \n",
       "Eastern Virginia Medical School                     1  \n",
       "Name: University, Length: 693, dtype: int64"
      ]
     },
     "execution_count": 139,
     "metadata": {},
     "output_type": "execute_result"
    }
   ],
   "source": [
    "uni_students = stip.University.value_counts(dropna=False)\n",
    "uni_students"
   ]
  },
  {
   "cell_type": "code",
   "execution_count": 147,
   "metadata": {},
   "outputs": [
    {
     "data": {
      "text/plain": [
       "NaN                                                 263\n",
       "Duke University (DU)                                172\n",
       "University of North Carolina - Chapel Hill (UNC)    146\n",
       "University of California - Berkeley                 140\n",
       "University of Michigan - Ann Arbor (UM)             135\n",
       "                                                   ... \n",
       "University of South Carolina (USC)                  32 \n",
       "Tufts University (TU)                               32 \n",
       "University of California - Riverside (UCR)          31 \n",
       "Georgetown University                               30 \n",
       "University of Massachusetts - Amherst (UMass)       30 \n",
       "Name: University, Length: 88, dtype: int64"
      ]
     },
     "execution_count": 147,
     "metadata": {},
     "output_type": "execute_result"
    }
   ],
   "source": [
    "# It does not make any sense to include Universities having less than x observations -> where to cut ???\n",
    "\n",
    "morethanone = uni_students.loc[uni_students > 29]\n",
    "morethanone"
   ]
  },
  {
   "cell_type": "code",
   "execution_count": 120,
   "metadata": {},
   "outputs": [
    {
     "ename": "AttributeError",
     "evalue": "'Series' object has no attribute 'sort'",
     "output_type": "error",
     "traceback": [
      "\u001b[1;31m---------------------------------------------------------------------------\u001b[0m",
      "\u001b[1;31mAttributeError\u001b[0m                            Traceback (most recent call last)",
      "\u001b[1;32m<ipython-input-120-ba889a547824>\u001b[0m in \u001b[0;36m<module>\u001b[1;34m\u001b[0m\n\u001b[1;32m----> 1\u001b[1;33m \u001b[0mstip\u001b[0m\u001b[1;33m.\u001b[0m\u001b[0mUniversity\u001b[0m\u001b[1;33m.\u001b[0m\u001b[0mvalue_counts\u001b[0m\u001b[1;33m(\u001b[0m\u001b[1;33m)\u001b[0m\u001b[1;33m.\u001b[0m\u001b[0msort\u001b[0m\u001b[1;33m(\u001b[0m\u001b[0mascending\u001b[0m\u001b[1;33m=\u001b[0m\u001b[1;32mFalse\u001b[0m\u001b[1;33m)\u001b[0m\u001b[1;33m.\u001b[0m\u001b[0mplot\u001b[0m\u001b[1;33m(\u001b[0m\u001b[0mkind\u001b[0m\u001b[1;33m=\u001b[0m\u001b[1;34m'bar'\u001b[0m\u001b[1;33m,\u001b[0m \u001b[0mfigsize\u001b[0m\u001b[1;33m=\u001b[0m\u001b[1;33m(\u001b[0m\u001b[1;36m35\u001b[0m\u001b[1;33m,\u001b[0m\u001b[1;36m10\u001b[0m\u001b[1;33m)\u001b[0m\u001b[1;33m,\u001b[0m \u001b[0mlogy\u001b[0m\u001b[1;33m=\u001b[0m\u001b[1;32mFalse\u001b[0m\u001b[1;33m)\u001b[0m\u001b[1;33m\u001b[0m\u001b[1;33m\u001b[0m\u001b[0m\n\u001b[0m",
      "\u001b[1;32m~\\AppData\\Roaming\\Python\\Python37\\site-packages\\pandas\\core\\generic.py\u001b[0m in \u001b[0;36m__getattr__\u001b[1;34m(self, name)\u001b[0m\n\u001b[0;32m   5177\u001b[0m             \u001b[1;32mif\u001b[0m \u001b[0mself\u001b[0m\u001b[1;33m.\u001b[0m\u001b[0m_info_axis\u001b[0m\u001b[1;33m.\u001b[0m\u001b[0m_can_hold_identifiers_and_holds_name\u001b[0m\u001b[1;33m(\u001b[0m\u001b[0mname\u001b[0m\u001b[1;33m)\u001b[0m\u001b[1;33m:\u001b[0m\u001b[1;33m\u001b[0m\u001b[1;33m\u001b[0m\u001b[0m\n\u001b[0;32m   5178\u001b[0m                 \u001b[1;32mreturn\u001b[0m \u001b[0mself\u001b[0m\u001b[1;33m[\u001b[0m\u001b[0mname\u001b[0m\u001b[1;33m]\u001b[0m\u001b[1;33m\u001b[0m\u001b[1;33m\u001b[0m\u001b[0m\n\u001b[1;32m-> 5179\u001b[1;33m             \u001b[1;32mreturn\u001b[0m \u001b[0mobject\u001b[0m\u001b[1;33m.\u001b[0m\u001b[0m__getattribute__\u001b[0m\u001b[1;33m(\u001b[0m\u001b[0mself\u001b[0m\u001b[1;33m,\u001b[0m \u001b[0mname\u001b[0m\u001b[1;33m)\u001b[0m\u001b[1;33m\u001b[0m\u001b[1;33m\u001b[0m\u001b[0m\n\u001b[0m\u001b[0;32m   5180\u001b[0m \u001b[1;33m\u001b[0m\u001b[0m\n\u001b[0;32m   5181\u001b[0m     \u001b[1;32mdef\u001b[0m \u001b[0m__setattr__\u001b[0m\u001b[1;33m(\u001b[0m\u001b[0mself\u001b[0m\u001b[1;33m,\u001b[0m \u001b[0mname\u001b[0m\u001b[1;33m,\u001b[0m \u001b[0mvalue\u001b[0m\u001b[1;33m)\u001b[0m\u001b[1;33m:\u001b[0m\u001b[1;33m\u001b[0m\u001b[1;33m\u001b[0m\u001b[0m\n",
      "\u001b[1;31mAttributeError\u001b[0m: 'Series' object has no attribute 'sort'"
     ]
    }
   ],
   "source": [
    "# stip.University.value_counts().sort(ascending=False).plot(kind='bar', figsize=(35,10), logy=False)\n",
    "\n",
    "# was war hier falsch? ich will BARPLOT!!! :) !!!"
   ]
  },
  {
   "cell_type": "code",
   "execution_count": 129,
   "metadata": {},
   "outputs": [
    {
     "data": {
      "text/plain": [
       "array(['University of Tennessee - Knoxville',\n",
       "       'University of Arizona (U of A)', 'University of Florida',\n",
       "       'University of Virginia (UVA)',\n",
       "       'University of Wisconsin - Madison (UW)',\n",
       "       'Washington University in St. Louis (Wash U)',\n",
       "       'New York University (NYU)', 'Duke University (DU)',\n",
       "       'Wright State University (WSU)'], dtype=object)"
      ]
     },
     "execution_count": 129,
     "metadata": {},
     "output_type": "execute_result"
    }
   ],
   "source": [
    "stip.University.unique()[0:9]"
   ]
  },
  {
   "cell_type": "code",
   "execution_count": null,
   "metadata": {},
   "outputs": [],
   "source": []
  },
  {
   "cell_type": "code",
   "execution_count": null,
   "metadata": {},
   "outputs": [],
   "source": []
  },
  {
   "cell_type": "code",
   "execution_count": null,
   "metadata": {},
   "outputs": [],
   "source": []
  },
  {
   "cell_type": "code",
   "execution_count": 150,
   "metadata": {},
   "outputs": [
    {
     "data": {
      "text/plain": [
       "<matplotlib.axes._subplots.AxesSubplot at 0x236d4820e48>"
      ]
     },
     "execution_count": 150,
     "metadata": {},
     "output_type": "execute_result"
    },
    {
     "data": {
      "image/png": "[encoded data removed]",
      "text/plain": [
       "<Figure size 2016x360 with 1 Axes>"
      ]
     },
     "metadata": {},
     "output_type": "display_data"
    }
   ],
   "source": [
    "# ! Dataset is slightly \"biased towards Chemistry Departments\" -> keep this in mind when interpreting results !\n",
    "\n",
    "stip.Department.value_counts()[0:100].plot(kind=\"bar\", figsize=(28,5))"
   ]
  },
  {
   "cell_type": "code",
   "execution_count": 156,
   "metadata": {},
   "outputs": [
    {
     "data": {
      "text/plain": [
       "NaN                                      460\n",
       "Chemistry                                335\n",
       "English                                  237\n",
       "Psychology                               212\n",
       "Sociology                                209\n",
       "Political Science                        203\n",
       "Physics                                  191\n",
       "Biology                                  184\n",
       "Computer Science                         160\n",
       "Economics                                129\n",
       "Neuroscience                             115\n",
       "Biomedical Engineering                   109\n",
       "History                                  107\n",
       "Mechanical Engineering                   101\n",
       "Chemical Engineering                     96 \n",
       "Mathematics                              89 \n",
       "Anthropology                             79 \n",
       "Philosophy                               63 \n",
       "Materials Science and Engineering        56 \n",
       "Bioengineering                           51 \n",
       "Statistics                               48 \n",
       "Linguistics                              46 \n",
       "Electrical and Computer Engineering      45 \n",
       "Electrical Engineering                   41 \n",
       "Business                                 41 \n",
       "Biological Sciences                      41 \n",
       "Biochemistry                             39 \n",
       "Biomedical Sciences                      39 \n",
       "Education                                37 \n",
       "chemistry                                35 \n",
       "Geography                                35 \n",
       "Clinical Psychology                      33 \n",
       "ECE                                      32 \n",
       "political science                        31 \n",
       "Chemistry                                31 \n",
       "Civil Engineering                        31 \n",
       "Psychology                               30 \n",
       "Art History                              29 \n",
       "Chemistry and Biochemistry               27 \n",
       "Communication                            27 \n",
       "Aerospace Engineering                    26 \n",
       "Entomology                               24 \n",
       "Management                               24 \n",
       "Music                                    24 \n",
       "Math                                     24 \n",
       "Chemical and Biomolecular Engineering    23 \n",
       "Religion                                 23 \n",
       "Astronomy                                23 \n",
       "Sociology                                23 \n",
       "Epidemiology                             22 \n",
       "Name: Department, dtype: int64"
      ]
     },
     "execution_count": 156,
     "metadata": {},
     "output_type": "execute_result"
    }
   ],
   "source": [
    "stip.Department.value_counts(dropna=False).sort_values(ascending=False)[0:50]   # , normalize=True"
   ]
  },
  {
   "cell_type": "code",
   "execution_count": 169,
   "metadata": {},
   "outputs": [
    {
     "data": {
      "text/plain": [
       "<matplotlib.axes._subplots.AxesSubplot at 0x236e8aa41d0>"
      ]
     },
     "execution_count": 169,
     "metadata": {},
     "output_type": "execute_result"
    },
    {
     "data": {
      "image/png": "[encoded data removed]",
      "text/plain": [
       "<Figure size 576x396 with 1 Axes>"
      ]
     },
     "metadata": {},
     "output_type": "display_data"
    }
   ],
   "source": [
    "# Problem 1: at which threshold do I start cutting off outliers?\n",
    "# -> go back to feature-engine techniques :)\n",
    "\n",
    "stip.boxplot('Overall_Pay_num', by='Department') "
   ]
  },
  {
   "cell_type": "code",
   "execution_count": null,
   "metadata": {},
   "outputs": [],
   "source": [
    "''' The ANOVA test has important assumptions that must be satisfied in order for \n",
    "the associated p-value to be valid:\n",
    "\n",
    "1. The samples are independent.\n",
    "2. Each sample is from a normally distributed population.\n",
    "3. The population standard deviations of the groups are all equal. \n",
    "   This property is known as homoscedasticity. \n",
    "   \n",
    "   from: https://docs.scipy.org/doc/scipy/reference/generated/scipy.stats.f_oneway.html \n",
    "   '''"
   ]
  },
  {
   "cell_type": "code",
   "execution_count": 171,
   "metadata": {},
   "outputs": [],
   "source": [
    "# One-Way-ANOVA using SciPy\n",
    "# from https://www.marsja.se/four-ways-to-conduct-one-way-anovas-using-python/\n",
    "\n",
    "grps = pd.unique(stip.Department.values)\n",
    "d_data = {grp:stip['Overall_Pay_num'][stip.Department == grp] for grp in grps}\n",
    "k = len(pd.unique(stip.Department))\n",
    "N = len(stip.values)\n",
    "n = stip.groupby('Department').size()[0]"
   ]
  },
  {
   "cell_type": "code",
   "execution_count": 172,
   "metadata": {},
   "outputs": [
    {
     "ename": "KeyError",
     "evalue": "'ctrl'",
     "output_type": "error",
     "traceback": [
      "\u001b[1;31m---------------------------------------------------------------------------\u001b[0m",
      "\u001b[1;31mKeyError\u001b[0m                                  Traceback (most recent call last)",
      "\u001b[1;32m<ipython-input-172-5006f2fe5ead>\u001b[0m in \u001b[0;36m<module>\u001b[1;34m\u001b[0m\n\u001b[0;32m      3\u001b[0m \u001b[1;32mfrom\u001b[0m \u001b[0mscipy\u001b[0m \u001b[1;32mimport\u001b[0m \u001b[0mstats\u001b[0m\u001b[1;33m\u001b[0m\u001b[1;33m\u001b[0m\u001b[0m\n\u001b[0;32m      4\u001b[0m \u001b[1;33m\u001b[0m\u001b[0m\n\u001b[1;32m----> 5\u001b[1;33m \u001b[0mf\u001b[0m\u001b[1;33m,\u001b[0m \u001b[0mp\u001b[0m \u001b[1;33m=\u001b[0m \u001b[0mstats\u001b[0m\u001b[1;33m.\u001b[0m\u001b[0mf_oneway\u001b[0m\u001b[1;33m(\u001b[0m\u001b[0md_data\u001b[0m\u001b[1;33m[\u001b[0m\u001b[1;34m'ctrl'\u001b[0m\u001b[1;33m]\u001b[0m\u001b[1;33m,\u001b[0m \u001b[0md_data\u001b[0m\u001b[1;33m[\u001b[0m\u001b[1;34m'trt1'\u001b[0m\u001b[1;33m]\u001b[0m\u001b[1;33m,\u001b[0m \u001b[0md_data\u001b[0m\u001b[1;33m[\u001b[0m\u001b[1;34m'trt2'\u001b[0m\u001b[1;33m]\u001b[0m\u001b[1;33m)\u001b[0m\u001b[1;33m\u001b[0m\u001b[1;33m\u001b[0m\u001b[0m\n\u001b[0m",
      "\u001b[1;31mKeyError\u001b[0m: 'ctrl'"
     ]
    }
   ],
   "source": [
    "# One-Way-ANOVA using SciPy\n",
    "\n",
    "from scipy import stats\n",
    "\n",
    "f, p = stats.f_oneway(d_data['ctrl'], d_data['trt1'], d_data['trt2'])"
   ]
  },
  {
   "cell_type": "code",
   "execution_count": 166,
   "metadata": {},
   "outputs": [
    {
     "data": {
      "text/plain": [
       "<matplotlib.axes._subplots.AxesSubplot at 0x236d51724e0>"
      ]
     },
     "execution_count": 166,
     "metadata": {},
     "output_type": "execute_result"
    },
    {
     "data": {
      "image/png": "[encoded data removed]",
      "text/plain": [
       "<Figure size 576x396 with 1 Axes>"
      ]
     },
     "metadata": {},
     "output_type": "display_data"
    }
   ],
   "source": [
    "# check: does overall pay differ between e.g. 'Civil Engineering' and 'Electrical and Computer Engineering' ??\n",
    "# -> barplot per category ... (after having removed the outliers !!!)\n",
    "\n",
    "# eng_sub = stip[stip.Dep_DR == 'Engineering']\n",
    "# len(eng_sub)                                 # 559 -> looks fine!\n",
    "\n",
    "# plt.hist(eng_sub.Department, log=True) # -> not histogram!! boxplots would be nice!!\n",
    "sns.boxplot( x=eng_sub[\"Department\"], y=eng_sub[\"Overall_Pay_num\"] )\n",
    "# sns.plt.show()"
   ]
  },
  {
   "cell_type": "code",
   "execution_count": 157,
   "metadata": {},
   "outputs": [],
   "source": [
    "# !!! I also have to check, whether there are significant differences between \n",
    "#     any of the subgroups I am smashing into the same category in these recoding steps... !!!!\n",
    "\n",
    "# include Chem & Biochem into Chem and cleanup spelling issues ...\n",
    "\n",
    "stip['Dep_DR'] = stip.Department.replace([('Chemistry', 'Chemistry ', ' Chemistry', 'chemistry', 'Chemistry and Biochemistry', 'Chemisty', 'chemisty')], 'Chemistry')\n",
    "# stip['Dep_DR'] = stip.Dep_DR.replace([( )], )\n"
   ]
  },
  {
   "cell_type": "code",
   "execution_count": 159,
   "metadata": {},
   "outputs": [],
   "source": [
    "# (Materials science included, since 56 unknown ...)\n",
    "\n",
    "stip['Dep_DR'] = stip.Dep_DR.replace([('Biomedical Engineering', 'Mechanical Engineering', 'Chemical Engineering', 'Materials Science and Engineering', 'Bioengineering', 'Electrical and Computer Engineering', 'Civil Engineering', 'Aerospace Engineering', 'Chemical and Biomolecular Engineering', 'Engineering')], 'Engineering')"
   ]
  },
  {
   "cell_type": "code",
   "execution_count": 168,
   "metadata": {},
   "outputs": [
    {
     "data": {
      "text/plain": [
       "<matplotlib.axes._subplots.AxesSubplot at 0x236e8ad1cf8>"
      ]
     },
     "execution_count": 168,
     "metadata": {},
     "output_type": "execute_result"
    },
    {
     "data": {
      "image/png": "[encoded data removed]",
      "text/plain": [
       "<Figure size 576x396 with 1 Axes>"
      ]
     },
     "metadata": {},
     "output_type": "display_data"
    }
   ],
   "source": [
    "chem_sub = stip[stip.Dep_DR == 'Chemistry']\n",
    "len(chem_sub)                                 # 428 -> looks fine!\n",
    "\n",
    "# plt.hist(eng_sub.Department, log=True) # -> not histogram!! boxplots would be nice!!\n",
    "sns.boxplot( x=chem_sub[\"Department\"], y=chem_sub[\"Overall_Pay_num\"] )\n",
    "# sns.plt.show()"
   ]
  },
  {
   "cell_type": "code",
   "execution_count": 160,
   "metadata": {},
   "outputs": [
    {
     "data": {
      "text/plain": [
       "Engineering               559\n",
       "NaN                       460\n",
       "Chemistry                 428\n",
       "English                   237\n",
       "Psychology                212\n",
       "Sociology                 209\n",
       "Political Science         203\n",
       "Physics                   191\n",
       "Biology                   184\n",
       "Computer Science          160\n",
       "Economics                 129\n",
       "Neuroscience              115\n",
       "History                   107\n",
       "Mathematics               89 \n",
       "Anthropology              79 \n",
       "Philosophy                63 \n",
       "Statistics                48 \n",
       "Linguistics               46 \n",
       "Biological Sciences       41 \n",
       "Business                  41 \n",
       "Electrical Engineering    41 \n",
       "Biomedical Sciences       39 \n",
       "Biochemistry              39 \n",
       "Education                 37 \n",
       "Geography                 35 \n",
       "Clinical Psychology       33 \n",
       "ECE                       32 \n",
       "political science         31 \n",
       "Psychology                30 \n",
       "Art History               29 \n",
       "Communication             27 \n",
       "Math                      24 \n",
       "Music                     24 \n",
       "Management                24 \n",
       "Entomology                24 \n",
       "Religion                  23 \n",
       "Astronomy                 23 \n",
       "Sociology                 23 \n",
       "physics                   22 \n",
       "Epidemiology              22 \n",
       "Finance                   22 \n",
       "Pharmacology              21 \n",
       "Microbiology              21 \n",
       "economics                 21 \n",
       "Genetics                  20 \n",
       "Immunology                20 \n",
       "English                   20 \n",
       "computer science          18 \n",
       "Biostatistics             18 \n",
       "Biophysics                17 \n",
       "Name: Dep_DR, dtype: int64"
      ]
     },
     "execution_count": 160,
     "metadata": {},
     "output_type": "execute_result"
    }
   ],
   "source": [
    "stip.Dep_DR.value_counts(dropna=False).sort_values(ascending=False)[0:50]   # , normalize=True"
   ]
  },
  {
   "cell_type": "code",
   "execution_count": 155,
   "metadata": {},
   "outputs": [
    {
     "data": {
      "text/plain": [
       "0.003560762692396049"
      ]
     },
     "execution_count": 155,
     "metadata": {},
     "output_type": "execute_result"
    }
   ],
   "source": [
    "stip.Department.value_counts(dropna=False, normalize=True).sort_values(ascending=False)[35]"
   ]
  },
  {
   "cell_type": "code",
   "execution_count": null,
   "metadata": {},
   "outputs": [],
   "source": []
  },
  {
   "cell_type": "code",
   "execution_count": null,
   "metadata": {},
   "outputs": [],
   "source": []
  },
  {
   "cell_type": "code",
   "execution_count": 121,
   "metadata": {},
   "outputs": [
    {
     "data": {
      "text/html": [
       "<div>\n",
       "<style scoped>\n",
       "    .dataframe tbody tr th:only-of-type {\n",
       "        vertical-align: middle;\n",
       "    }\n",
       "\n",
       "    .dataframe tbody tr th {\n",
       "        vertical-align: top;\n",
       "    }\n",
       "\n",
       "    .dataframe thead th {\n",
       "        text-align: right;\n",
       "    }\n",
       "</style>\n",
       "<table border=\"1\" class=\"dataframe\">\n",
       "  <thead>\n",
       "    <tr style=\"text-align: right;\">\n",
       "      <th></th>\n",
       "      <th>LW_Ratio</th>\n",
       "      <th>Acad_Y</th>\n",
       "      <th>Overall_Pay_num</th>\n",
       "      <th>GrossPay_12M</th>\n",
       "      <th>GrossPay_9M</th>\n",
       "      <th>GrossPay_3M</th>\n",
       "      <th>Fees_num</th>\n",
       "    </tr>\n",
       "  </thead>\n",
       "  <tbody>\n",
       "    <tr>\n",
       "      <th>count</th>\n",
       "      <td>7795.000000</td>\n",
       "      <td>8702.000000</td>\n",
       "      <td>8685.000000</td>\n",
       "      <td>6208.000000</td>\n",
       "      <td>2474.000000</td>\n",
       "      <td>798.000000</td>\n",
       "      <td>3351.000000</td>\n",
       "    </tr>\n",
       "    <tr>\n",
       "      <th>mean</th>\n",
       "      <td>1.080278</td>\n",
       "      <td>2017.053551</td>\n",
       "      <td>25230.707081</td>\n",
       "      <td>28228.496134</td>\n",
       "      <td>19596.169361</td>\n",
       "      <td>5043.095238</td>\n",
       "      <td>2572.105640</td>\n",
       "    </tr>\n",
       "    <tr>\n",
       "      <th>std</th>\n",
       "      <td>0.727431</td>\n",
       "      <td>2.056021</td>\n",
       "      <td>19235.105394</td>\n",
       "      <td>21324.900161</td>\n",
       "      <td>8944.673519</td>\n",
       "      <td>3743.738055</td>\n",
       "      <td>6663.333235</td>\n",
       "    </tr>\n",
       "    <tr>\n",
       "      <th>min</th>\n",
       "      <td>-3.780000</td>\n",
       "      <td>2002.000000</td>\n",
       "      <td>-80000.000000</td>\n",
       "      <td>1.000000</td>\n",
       "      <td>5.000000</td>\n",
       "      <td>3.000000</td>\n",
       "      <td>1.000000</td>\n",
       "    </tr>\n",
       "    <tr>\n",
       "      <th>25%</th>\n",
       "      <td>0.850000</td>\n",
       "      <td>2016.000000</td>\n",
       "      <td>19037.000000</td>\n",
       "      <td>23000.000000</td>\n",
       "      <td>15900.000000</td>\n",
       "      <td>3000.000000</td>\n",
       "      <td>500.000000</td>\n",
       "    </tr>\n",
       "    <tr>\n",
       "      <th>50%</th>\n",
       "      <td>1.100000</td>\n",
       "      <td>2017.000000</td>\n",
       "      <td>25000.000000</td>\n",
       "      <td>28000.000000</td>\n",
       "      <td>19000.000000</td>\n",
       "      <td>4500.000000</td>\n",
       "      <td>1000.000000</td>\n",
       "    </tr>\n",
       "    <tr>\n",
       "      <th>75%</th>\n",
       "      <td>1.300000</td>\n",
       "      <td>2018.000000</td>\n",
       "      <td>30400.000000</td>\n",
       "      <td>32000.000000</td>\n",
       "      <td>23000.000000</td>\n",
       "      <td>6000.000000</td>\n",
       "      <td>2000.000000</td>\n",
       "    </tr>\n",
       "    <tr>\n",
       "      <th>max</th>\n",
       "      <td>40.970000</td>\n",
       "      <td>2021.000000</td>\n",
       "      <td>994000.000000</td>\n",
       "      <td>1000000.000000</td>\n",
       "      <td>189600.000000</td>\n",
       "      <td>55816.000000</td>\n",
       "      <td>100000.000000</td>\n",
       "    </tr>\n",
       "  </tbody>\n",
       "</table>\n",
       "</div>"
      ],
      "text/plain": [
       "          LW_Ratio       Acad_Y  Overall_Pay_num    GrossPay_12M    GrossPay_9M   GrossPay_3M       Fees_num\n",
       "count  7795.000000  8702.000000  8685.000000      6208.000000     2474.000000    798.000000    3351.000000  \n",
       "mean   1.080278     2017.053551  25230.707081     28228.496134    19596.169361   5043.095238   2572.105640  \n",
       "std    0.727431     2.056021     19235.105394     21324.900161    8944.673519    3743.738055   6663.333235  \n",
       "min   -3.780000     2002.000000 -80000.000000     1.000000        5.000000       3.000000      1.000000     \n",
       "25%    0.850000     2016.000000  19037.000000     23000.000000    15900.000000   3000.000000   500.000000   \n",
       "50%    1.100000     2017.000000  25000.000000     28000.000000    19000.000000   4500.000000   1000.000000  \n",
       "75%    1.300000     2018.000000  30400.000000     32000.000000    23000.000000   6000.000000   2000.000000  \n",
       "max    40.970000    2021.000000  994000.000000    1000000.000000  189600.000000  55816.000000  100000.000000"
      ]
     },
     "execution_count": 121,
     "metadata": {},
     "output_type": "execute_result"
    }
   ],
   "source": [
    "stip.describe()"
   ]
  },
  {
   "cell_type": "code",
   "execution_count": null,
   "metadata": {},
   "outputs": [],
   "source": []
  },
  {
   "cell_type": "code",
   "execution_count": null,
   "metadata": {},
   "outputs": [],
   "source": []
  },
  {
   "cell_type": "code",
   "execution_count": null,
   "metadata": {},
   "outputs": [],
   "source": []
  },
  {
   "cell_type": "code",
   "execution_count": null,
   "metadata": {},
   "outputs": [],
   "source": []
  },
  {
   "cell_type": "code",
   "execution_count": null,
   "metadata": {},
   "outputs": [],
   "source": []
  },
  {
   "cell_type": "code",
   "execution_count": 122,
   "metadata": {},
   "outputs": [
    {
     "name": "stderr",
     "output_type": "stream",
     "text": [
      "C:\\ProgramData\\Anaconda3\\lib\\site-packages\\scipy\\stats\\stats.py:1713: FutureWarning: Using a non-tuple sequence for multidimensional indexing is deprecated; use `arr[tuple(seq)]` instead of `arr[seq]`. In the future this will be interpreted as an array index, `arr[np.array(seq)]`, which will result either in an error or a different result.\n",
      "  return np.add.reduce(sorted[indexer] * weights, axis=axis) / sumval\n"
     ]
    },
    {
     "data": {
      "text/plain": [
       "<seaborn.axisgrid.JointGrid at 0x236d19165f8>"
      ]
     },
     "execution_count": 122,
     "metadata": {},
     "output_type": "execute_result"
    },
    {
     "data": {
      "image/png": "[encoded data removed]",
      "text/plain": [
       "<Figure size 432x432 with 3 Axes>"
      ]
     },
     "metadata": {},
     "output_type": "display_data"
    }
   ],
   "source": [
    "# -> there are not too many values for the academic years before around 2012 -> exclude early years from analysis!\n",
    "# -> investigate the best year to start! :)\n",
    "\n",
    "# https://python-graph-gallery.com/82-marginal-plot-with-seaborn/#prettyPhoto \n",
    "# https://matplotlib.org/3.1.1/api/_as_gen/matplotlib.pyplot.scatter.html\n",
    "\n",
    "# Custom the color\n",
    "sns.set(style=\"white\", color_codes=True)\n",
    "sns.jointplot(x=stip[\"Acad_Y\"], y=stip[\"Fees_num\"], kind='kde', color=\"skyblue\")"
   ]
  },
  {
   "cell_type": "code",
   "execution_count": 123,
   "metadata": {},
   "outputs": [
    {
     "data": {
      "image/png": "[encoded data removed]",
      "text/plain": [
       "<Figure size 432x432 with 3 Axes>"
      ]
     },
     "metadata": {},
     "output_type": "display_data"
    }
   ],
   "source": [
    "# -> 2016 & 2018: much more data available than for all other years?!!?!? -> restrict analysis to 2016-2019, e.g. !?!\n",
    "\n",
    "sns.set(style=\"white\", color_codes=True)\n",
    "plot = sns.jointplot(x=stip[\"Acad_Y\"], y=stip[\"Fees_num\"], kind='kde', color=\"skyblue\")\n",
    "\n",
    "plot.ax_marg_x.set_xlim(2013, 2022)\n",
    "plot.ax_marg_y.set_ylim(-500, 4000)\n",
    "\n",
    "plt.show()"
   ]
  },
  {
   "cell_type": "code",
   "execution_count": 124,
   "metadata": {},
   "outputs": [
    {
     "ename": "ValueError",
     "evalue": "The truth value of a Series is ambiguous. Use a.empty, a.bool(), a.item(), a.any() or a.all().",
     "output_type": "error",
     "traceback": [
      "\u001b[1;31m---------------------------------------------------------------------------\u001b[0m",
      "\u001b[1;31mValueError\u001b[0m                                Traceback (most recent call last)",
      "\u001b[1;32m<ipython-input-124-83176e99af7c>\u001b[0m in \u001b[0;36m<module>\u001b[1;34m\u001b[0m\n\u001b[1;32m----> 1\u001b[1;33m \u001b[0mtest_16to19\u001b[0m \u001b[1;33m=\u001b[0m \u001b[0mstip\u001b[0m\u001b[1;33m.\u001b[0m\u001b[0mloc\u001b[0m\u001b[1;33m[\u001b[0m\u001b[1;36m2015\u001b[0m\u001b[1;33m<\u001b[0m\u001b[0mstip\u001b[0m\u001b[1;33m.\u001b[0m\u001b[0mAcad_Y\u001b[0m\u001b[1;33m<\u001b[0m\u001b[1;36m2020\u001b[0m\u001b[1;33m]\u001b[0m\u001b[1;33m\u001b[0m\u001b[1;33m\u001b[0m\u001b[0m\n\u001b[0m\u001b[0;32m      2\u001b[0m \u001b[0mlen\u001b[0m\u001b[1;33m(\u001b[0m\u001b[0mtest_16to19\u001b[0m\u001b[1;33m)\u001b[0m\u001b[1;33m\u001b[0m\u001b[1;33m\u001b[0m\u001b[0m\n",
      "\u001b[1;32m~\\AppData\\Roaming\\Python\\Python37\\site-packages\\pandas\\core\\generic.py\u001b[0m in \u001b[0;36m__nonzero__\u001b[1;34m(self)\u001b[0m\n\u001b[0;32m   1553\u001b[0m             \u001b[1;34m\"The truth value of a {0} is ambiguous. \"\u001b[0m\u001b[1;33m\u001b[0m\u001b[1;33m\u001b[0m\u001b[0m\n\u001b[0;32m   1554\u001b[0m             \"Use a.empty, a.bool(), a.item(), a.any() or a.all().\".format(\n\u001b[1;32m-> 1555\u001b[1;33m                 \u001b[0mself\u001b[0m\u001b[1;33m.\u001b[0m\u001b[0m__class__\u001b[0m\u001b[1;33m.\u001b[0m\u001b[0m__name__\u001b[0m\u001b[1;33m\u001b[0m\u001b[1;33m\u001b[0m\u001b[0m\n\u001b[0m\u001b[0;32m   1556\u001b[0m             )\n\u001b[0;32m   1557\u001b[0m         )\n",
      "\u001b[1;31mValueError\u001b[0m: The truth value of a Series is ambiguous. Use a.empty, a.bool(), a.item(), a.any() or a.all()."
     ]
    }
   ],
   "source": [
    "test_16to19 = stip.loc[2015<stip.Acad_Y<2020]\n",
    "len(test_16to19)"
   ]
  },
  {
   "cell_type": "code",
   "execution_count": 125,
   "metadata": {},
   "outputs": [
    {
     "ename": "TypeError",
     "evalue": "unhashable type: 'Int64Index'",
     "output_type": "error",
     "traceback": [
      "\u001b[1;31m---------------------------------------------------------------------------\u001b[0m",
      "\u001b[1;31mTypeError\u001b[0m                                 Traceback (most recent call last)",
      "\u001b[1;32m<ipython-input-125-b18eebb01901>\u001b[0m in \u001b[0;36m<module>\u001b[1;34m\u001b[0m\n\u001b[1;32m----> 1\u001b[1;33m \u001b[0mtest_16to19\u001b[0m \u001b[1;33m=\u001b[0m \u001b[0mstip\u001b[0m\u001b[1;33m.\u001b[0m\u001b[0mloc\u001b[0m\u001b[1;33m(\u001b[0m\u001b[0mstip\u001b[0m\u001b[1;33m[\u001b[0m\u001b[1;33m(\u001b[0m\u001b[0mstip\u001b[0m\u001b[1;33m[\u001b[0m\u001b[1;34m'Acad_Y'\u001b[0m\u001b[1;33m]\u001b[0m \u001b[1;33m<\u001b[0m \u001b[1;36m2020\u001b[0m\u001b[1;33m)\u001b[0m \u001b[1;33m&\u001b[0m \u001b[1;33m(\u001b[0m\u001b[0mstip\u001b[0m\u001b[1;33m[\u001b[0m\u001b[1;34m'Acad_Y'\u001b[0m\u001b[1;33m]\u001b[0m \u001b[1;33m>\u001b[0m \u001b[1;36m2015\u001b[0m\u001b[1;33m)\u001b[0m\u001b[1;33m]\u001b[0m\u001b[1;33m.\u001b[0m\u001b[0mindex\u001b[0m\u001b[1;33m)\u001b[0m\u001b[1;33m\u001b[0m\u001b[1;33m\u001b[0m\u001b[0m\n\u001b[0m",
      "\u001b[1;32m~\\AppData\\Roaming\\Python\\Python37\\site-packages\\pandas\\core\\indexing.py\u001b[0m in \u001b[0;36m__call__\u001b[1;34m(self, axis)\u001b[0m\n\u001b[0;32m    110\u001b[0m \u001b[1;33m\u001b[0m\u001b[0m\n\u001b[0;32m    111\u001b[0m         \u001b[1;32mif\u001b[0m \u001b[0maxis\u001b[0m \u001b[1;32mis\u001b[0m \u001b[1;32mnot\u001b[0m \u001b[1;32mNone\u001b[0m\u001b[1;33m:\u001b[0m\u001b[1;33m\u001b[0m\u001b[1;33m\u001b[0m\u001b[0m\n\u001b[1;32m--> 112\u001b[1;33m             \u001b[0maxis\u001b[0m \u001b[1;33m=\u001b[0m \u001b[0mself\u001b[0m\u001b[1;33m.\u001b[0m\u001b[0mobj\u001b[0m\u001b[1;33m.\u001b[0m\u001b[0m_get_axis_number\u001b[0m\u001b[1;33m(\u001b[0m\u001b[0maxis\u001b[0m\u001b[1;33m)\u001b[0m\u001b[1;33m\u001b[0m\u001b[1;33m\u001b[0m\u001b[0m\n\u001b[0m\u001b[0;32m    113\u001b[0m         \u001b[0mnew_self\u001b[0m\u001b[1;33m.\u001b[0m\u001b[0maxis\u001b[0m \u001b[1;33m=\u001b[0m \u001b[0maxis\u001b[0m\u001b[1;33m\u001b[0m\u001b[1;33m\u001b[0m\u001b[0m\n\u001b[0;32m    114\u001b[0m         \u001b[1;32mreturn\u001b[0m \u001b[0mnew_self\u001b[0m\u001b[1;33m\u001b[0m\u001b[1;33m\u001b[0m\u001b[0m\n",
      "\u001b[1;32m~\\AppData\\Roaming\\Python\\Python37\\site-packages\\pandas\\core\\generic.py\u001b[0m in \u001b[0;36m_get_axis_number\u001b[1;34m(cls, axis)\u001b[0m\n\u001b[0;32m    400\u001b[0m     \u001b[1;33m@\u001b[0m\u001b[0mclassmethod\u001b[0m\u001b[1;33m\u001b[0m\u001b[1;33m\u001b[0m\u001b[0m\n\u001b[0;32m    401\u001b[0m     \u001b[1;32mdef\u001b[0m \u001b[0m_get_axis_number\u001b[0m\u001b[1;33m(\u001b[0m\u001b[0mcls\u001b[0m\u001b[1;33m,\u001b[0m \u001b[0maxis\u001b[0m\u001b[1;33m)\u001b[0m\u001b[1;33m:\u001b[0m\u001b[1;33m\u001b[0m\u001b[1;33m\u001b[0m\u001b[0m\n\u001b[1;32m--> 402\u001b[1;33m         \u001b[0maxis\u001b[0m \u001b[1;33m=\u001b[0m \u001b[0mcls\u001b[0m\u001b[1;33m.\u001b[0m\u001b[0m_AXIS_ALIASES\u001b[0m\u001b[1;33m.\u001b[0m\u001b[0mget\u001b[0m\u001b[1;33m(\u001b[0m\u001b[0maxis\u001b[0m\u001b[1;33m,\u001b[0m \u001b[0maxis\u001b[0m\u001b[1;33m)\u001b[0m\u001b[1;33m\u001b[0m\u001b[1;33m\u001b[0m\u001b[0m\n\u001b[0m\u001b[0;32m    403\u001b[0m         \u001b[1;32mif\u001b[0m \u001b[0mis_integer\u001b[0m\u001b[1;33m(\u001b[0m\u001b[0maxis\u001b[0m\u001b[1;33m)\u001b[0m\u001b[1;33m:\u001b[0m\u001b[1;33m\u001b[0m\u001b[1;33m\u001b[0m\u001b[0m\n\u001b[0;32m    404\u001b[0m             \u001b[1;32mif\u001b[0m \u001b[0maxis\u001b[0m \u001b[1;32min\u001b[0m \u001b[0mcls\u001b[0m\u001b[1;33m.\u001b[0m\u001b[0m_AXIS_NAMES\u001b[0m\u001b[1;33m:\u001b[0m\u001b[1;33m\u001b[0m\u001b[1;33m\u001b[0m\u001b[0m\n",
      "\u001b[1;32m~\\AppData\\Roaming\\Python\\Python37\\site-packages\\pandas\\core\\indexes\\base.py\u001b[0m in \u001b[0;36m__hash__\u001b[1;34m(self)\u001b[0m\n\u001b[0;32m   4255\u001b[0m \u001b[1;33m\u001b[0m\u001b[0m\n\u001b[0;32m   4256\u001b[0m     \u001b[1;32mdef\u001b[0m \u001b[0m__hash__\u001b[0m\u001b[1;33m(\u001b[0m\u001b[0mself\u001b[0m\u001b[1;33m)\u001b[0m\u001b[1;33m:\u001b[0m\u001b[1;33m\u001b[0m\u001b[1;33m\u001b[0m\u001b[0m\n\u001b[1;32m-> 4257\u001b[1;33m         \u001b[1;32mraise\u001b[0m \u001b[0mTypeError\u001b[0m\u001b[1;33m(\u001b[0m\u001b[1;34m\"unhashable type: %r\"\u001b[0m \u001b[1;33m%\u001b[0m \u001b[0mtype\u001b[0m\u001b[1;33m(\u001b[0m\u001b[0mself\u001b[0m\u001b[1;33m)\u001b[0m\u001b[1;33m.\u001b[0m\u001b[0m__name__\u001b[0m\u001b[1;33m)\u001b[0m\u001b[1;33m\u001b[0m\u001b[1;33m\u001b[0m\u001b[0m\n\u001b[0m\u001b[0;32m   4258\u001b[0m \u001b[1;33m\u001b[0m\u001b[0m\n\u001b[0;32m   4259\u001b[0m     \u001b[1;32mdef\u001b[0m \u001b[0m__setitem__\u001b[0m\u001b[1;33m(\u001b[0m\u001b[0mself\u001b[0m\u001b[1;33m,\u001b[0m \u001b[0mkey\u001b[0m\u001b[1;33m,\u001b[0m \u001b[0mvalue\u001b[0m\u001b[1;33m)\u001b[0m\u001b[1;33m:\u001b[0m\u001b[1;33m\u001b[0m\u001b[1;33m\u001b[0m\u001b[0m\n",
      "\u001b[1;31mTypeError\u001b[0m: unhashable type: 'Int64Index'"
     ]
    }
   ],
   "source": [
    "test_16to19 = stip.loc(stip[(stip['Acad_Y'] < 2020) & (stip['Acad_Y'] > 2015)].index)\n"
   ]
  },
  {
   "cell_type": "code",
   "execution_count": 126,
   "metadata": {},
   "outputs": [
    {
     "data": {
      "text/plain": [
       "(7447, 17)"
      ]
     },
     "execution_count": 126,
     "metadata": {},
     "output_type": "execute_result"
    }
   ],
   "source": [
    "# -> ca 1260 obs of academic years before 2016-2017\n",
    "\n",
    "test_16to22 = stip.drop(stip[(stip.Acad_Y < 2016)].index)\n",
    "test_16to22.shape"
   ]
  },
  {
   "cell_type": "code",
   "execution_count": 127,
   "metadata": {},
   "outputs": [
    {
     "data": {
      "text/plain": [
       "(6678, 17)"
      ]
     },
     "execution_count": 127,
     "metadata": {},
     "output_type": "execute_result"
    }
   ],
   "source": [
    "# -> ca 800 obs of academic years after 2019-2020\n",
    "\n",
    "test_16to19 = test_16to22.drop(test_16to22[(test_16to22.Acad_Y > 2019)].index)\n",
    "test_16to19.shape"
   ]
  },
  {
   "cell_type": "code",
   "execution_count": null,
   "metadata": {},
   "outputs": [],
   "source": []
  },
  {
   "cell_type": "code",
   "execution_count": null,
   "metadata": {},
   "outputs": [],
   "source": []
  },
  {
   "cell_type": "code",
   "execution_count": null,
   "metadata": {},
   "outputs": [],
   "source": []
  },
  {
   "cell_type": "code",
   "execution_count": 128,
   "metadata": {},
   "outputs": [
    {
     "ename": "NameError",
     "evalue": "name 'PROVIDENCE' is not defined",
     "output_type": "error",
     "traceback": [
      "\u001b[1;31m---------------------------------------------------------------------------\u001b[0m",
      "\u001b[1;31mNameError\u001b[0m                                 Traceback (most recent call last)",
      "\u001b[1;32m<ipython-input-128-a8179f77b61e>\u001b[0m in \u001b[0;36m<module>\u001b[1;34m\u001b[0m\n\u001b[0;32m      2\u001b[0m \u001b[0mplt\u001b[0m\u001b[1;33m.\u001b[0m\u001b[0mfigure\u001b[0m\u001b[1;33m(\u001b[0m\u001b[0mfigsize\u001b[0m \u001b[1;33m=\u001b[0m \u001b[1;33m(\u001b[0m\u001b[1;36m25\u001b[0m\u001b[1;33m,\u001b[0m\u001b[1;36m12\u001b[0m\u001b[1;33m)\u001b[0m\u001b[1;33m)\u001b[0m\u001b[1;33m\u001b[0m\u001b[1;33m\u001b[0m\u001b[0m\n\u001b[0;32m      3\u001b[0m \u001b[1;33m\u001b[0m\u001b[0m\n\u001b[1;32m----> 4\u001b[1;33m \u001b[0mplt\u001b[0m\u001b[1;33m.\u001b[0m\u001b[0mscatter\u001b[0m\u001b[1;33m(\u001b[0m\u001b[0mPROVIDENCE\u001b[0m\u001b[1;33m.\u001b[0m\u001b[0mMM_Loc_Long\u001b[0m\u001b[1;33m,\u001b[0m \u001b[0mPROVIDENCE\u001b[0m\u001b[1;33m.\u001b[0m\u001b[0mMM_Loc_Lat\u001b[0m\u001b[1;33m,\u001b[0m \u001b[0mmarker\u001b[0m\u001b[1;33m=\u001b[0m\u001b[1;34m'v'\u001b[0m\u001b[1;33m,\u001b[0m \u001b[0mcolor\u001b[0m\u001b[1;33m=\u001b[0m\u001b[1;34m'red'\u001b[0m\u001b[1;33m)\u001b[0m\u001b[1;33m\u001b[0m\u001b[1;33m\u001b[0m\u001b[0m\n\u001b[0m\u001b[0;32m      5\u001b[0m \u001b[0mplt\u001b[0m\u001b[1;33m.\u001b[0m\u001b[0mscatter\u001b[0m\u001b[1;33m(\u001b[0m\u001b[0mKENT\u001b[0m\u001b[1;33m.\u001b[0m\u001b[0mMM_Loc_Long\u001b[0m\u001b[1;33m,\u001b[0m \u001b[0mKENT\u001b[0m\u001b[1;33m.\u001b[0m\u001b[0mMM_Loc_Lat\u001b[0m\u001b[1;33m,\u001b[0m \u001b[0mmarker\u001b[0m\u001b[1;33m=\u001b[0m\u001b[1;34m'v'\u001b[0m\u001b[1;33m,\u001b[0m \u001b[0mcolor\u001b[0m\u001b[1;33m=\u001b[0m\u001b[1;34m'magenta'\u001b[0m\u001b[1;33m)\u001b[0m\u001b[1;33m\u001b[0m\u001b[1;33m\u001b[0m\u001b[0m\n\u001b[0;32m      6\u001b[0m \u001b[0mplt\u001b[0m\u001b[1;33m.\u001b[0m\u001b[0mscatter\u001b[0m\u001b[1;33m(\u001b[0m\u001b[0mWASHINGTON\u001b[0m\u001b[1;33m.\u001b[0m\u001b[0mMM_Loc_Long\u001b[0m\u001b[1;33m,\u001b[0m \u001b[0mWASHINGTON\u001b[0m\u001b[1;33m.\u001b[0m\u001b[0mMM_Loc_Lat\u001b[0m\u001b[1;33m,\u001b[0m \u001b[0mmarker\u001b[0m\u001b[1;33m=\u001b[0m\u001b[1;34m'v'\u001b[0m\u001b[1;33m,\u001b[0m \u001b[0mcolor\u001b[0m\u001b[1;33m=\u001b[0m\u001b[1;34m'cyan'\u001b[0m\u001b[1;33m)\u001b[0m\u001b[1;33m\u001b[0m\u001b[1;33m\u001b[0m\u001b[0m\n",
      "\u001b[1;31mNameError\u001b[0m: name 'PROVIDENCE' is not defined"
     ]
    },
    {
     "data": {
      "text/plain": [
       "<Figure size 1800x864 with 0 Axes>"
      ]
     },
     "metadata": {},
     "output_type": "display_data"
    }
   ],
   "source": [
    "plt.style.use('seaborn')\n",
    "plt.figure(figsize = (25,12))\n",
    "\n",
    "plt.scatter(PROVIDENCE.MM_Loc_Long, PROVIDENCE.MM_Loc_Lat, marker='v', color='red')\n",
    "plt.scatter(KENT.MM_Loc_Long, KENT.MM_Loc_Lat, marker='v', color='magenta')\n",
    "plt.scatter(WASHINGTON.MM_Loc_Long, WASHINGTON.MM_Loc_Lat, marker='v', color='cyan')\n",
    "\n",
    "plt.scatter(NEWPORT.MM_Loc_Long, NEWPORT.MM_Loc_Lat, marker='v', color='green')\n",
    "plt.scatter(BRISTOL.MM_Loc_Long, BRISTOL.MM_Loc_Lat, marker='v', color='brown')\n",
    "plt.scatter(OTHER.MM_Loc_Long, OTHER.MM_Loc_Lat, alpha=0.5, marker='v', color='yellow')                # some of these distributed guys have cancelled due to moving,  \n",
    "\n",
    "plt.scatter(moved_west.MM_Loc_Long, moved_west.MM_Loc_Lat, alpha=0.5, marker='v', color='blue')                  # guys having cancelled membership because they moved out of target area\n",
    "\n",
    "\n",
    "# plt.xscale(\"log\")                      # <- no. looks better with linear x-scale! :)\n",
    "# plt.yscale(\"log\")\n",
    "plt.xlabel(\"longitude\")\n",
    "plt.ylabel(\"latitude\")\n",
    "plt.grid(True)\n",
    "plt.show()"
   ]
  },
  {
   "cell_type": "code",
   "execution_count": null,
   "metadata": {},
   "outputs": [],
   "source": []
  },
  {
   "cell_type": "code",
   "execution_count": null,
   "metadata": {},
   "outputs": [],
   "source": []
  },
  {
   "cell_type": "code",
   "execution_count": null,
   "metadata": {},
   "outputs": [],
   "source": []
  }
 ],
 "metadata": {
  "kernelspec": {
   "display_name": "Python 3",
   "language": "python",
   "name": "python3"
  },
  "language_info": {
   "codemirror_mode": {
    "name": "ipython",
    "version": 3
   },
   "file_extension": ".py",
   "mimetype": "text/x-python",
   "name": "python",
   "nbconvert_exporter": "python",
   "pygments_lexer": "ipython3",
   "version": "3.7.1"
  }
 },
 "nbformat": 4,
 "nbformat_minor": 2
}
